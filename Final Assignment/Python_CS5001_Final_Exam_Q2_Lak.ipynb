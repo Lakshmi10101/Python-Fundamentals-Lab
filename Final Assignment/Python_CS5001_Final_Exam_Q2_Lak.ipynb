{
  "nbformat": 4,
  "nbformat_minor": 0,
  "metadata": {
    "colab": {
      "provenance": []
    },
    "kernelspec": {
      "name": "python3",
      "display_name": "Python 3"
    },
    "language_info": {
      "name": "python"
    }
  },
  "cells": [
    {
      "cell_type": "code",
      "execution_count": 90,
      "metadata": {
        "id": "yqeSXOrREZrk"
      },
      "outputs": [],
      "source": [
        "# Importing libraries\n",
        "\n",
        "import numpy as np\n",
        "import pandas as pd\n",
        "import missingno\n",
        "\n",
        "from collections import defaultdict\n",
        "\n",
        "import seaborn as sns\n",
        "import plotly.express as px\n",
        "import plotly.figure_factory as ff\n",
        "from plotly.subplots import make_subplots\n",
        "\n",
        "import os\n",
        "from google.colab import files"
      ]
    },
    {
      "cell_type": "code",
      "source": [
        "  # Upload dataset to Colab workspace\n",
        "uploaded = files.upload()"
      ],
      "metadata": {
        "colab": {
          "base_uri": "https://localhost:8080/",
          "height": 73
        },
        "id": "1c7_cwlyaRRk",
        "outputId": "7ef0ec08-a5b9-46de-9ab1-18b0ed4c61ba"
      },
      "execution_count": 2,
      "outputs": [
        {
          "output_type": "display_data",
          "data": {
            "text/plain": [
              "<IPython.core.display.HTML object>"
            ],
            "text/html": [
              "\n",
              "     <input type=\"file\" id=\"files-5b574ec4-f965-4809-81e0-2be8568ce290\" name=\"files[]\" multiple disabled\n",
              "        style=\"border:none\" />\n",
              "     <output id=\"result-5b574ec4-f965-4809-81e0-2be8568ce290\">\n",
              "      Upload widget is only available when the cell has been executed in the\n",
              "      current browser session. Please rerun this cell to enable.\n",
              "      </output>\n",
              "      <script>// Copyright 2017 Google LLC\n",
              "//\n",
              "// Licensed under the Apache License, Version 2.0 (the \"License\");\n",
              "// you may not use this file except in compliance with the License.\n",
              "// You may obtain a copy of the License at\n",
              "//\n",
              "//      http://www.apache.org/licenses/LICENSE-2.0\n",
              "//\n",
              "// Unless required by applicable law or agreed to in writing, software\n",
              "// distributed under the License is distributed on an \"AS IS\" BASIS,\n",
              "// WITHOUT WARRANTIES OR CONDITIONS OF ANY KIND, either express or implied.\n",
              "// See the License for the specific language governing permissions and\n",
              "// limitations under the License.\n",
              "\n",
              "/**\n",
              " * @fileoverview Helpers for google.colab Python module.\n",
              " */\n",
              "(function(scope) {\n",
              "function span(text, styleAttributes = {}) {\n",
              "  const element = document.createElement('span');\n",
              "  element.textContent = text;\n",
              "  for (const key of Object.keys(styleAttributes)) {\n",
              "    element.style[key] = styleAttributes[key];\n",
              "  }\n",
              "  return element;\n",
              "}\n",
              "\n",
              "// Max number of bytes which will be uploaded at a time.\n",
              "const MAX_PAYLOAD_SIZE = 100 * 1024;\n",
              "\n",
              "function _uploadFiles(inputId, outputId) {\n",
              "  const steps = uploadFilesStep(inputId, outputId);\n",
              "  const outputElement = document.getElementById(outputId);\n",
              "  // Cache steps on the outputElement to make it available for the next call\n",
              "  // to uploadFilesContinue from Python.\n",
              "  outputElement.steps = steps;\n",
              "\n",
              "  return _uploadFilesContinue(outputId);\n",
              "}\n",
              "\n",
              "// This is roughly an async generator (not supported in the browser yet),\n",
              "// where there are multiple asynchronous steps and the Python side is going\n",
              "// to poll for completion of each step.\n",
              "// This uses a Promise to block the python side on completion of each step,\n",
              "// then passes the result of the previous step as the input to the next step.\n",
              "function _uploadFilesContinue(outputId) {\n",
              "  const outputElement = document.getElementById(outputId);\n",
              "  const steps = outputElement.steps;\n",
              "\n",
              "  const next = steps.next(outputElement.lastPromiseValue);\n",
              "  return Promise.resolve(next.value.promise).then((value) => {\n",
              "    // Cache the last promise value to make it available to the next\n",
              "    // step of the generator.\n",
              "    outputElement.lastPromiseValue = value;\n",
              "    return next.value.response;\n",
              "  });\n",
              "}\n",
              "\n",
              "/**\n",
              " * Generator function which is called between each async step of the upload\n",
              " * process.\n",
              " * @param {string} inputId Element ID of the input file picker element.\n",
              " * @param {string} outputId Element ID of the output display.\n",
              " * @return {!Iterable<!Object>} Iterable of next steps.\n",
              " */\n",
              "function* uploadFilesStep(inputId, outputId) {\n",
              "  const inputElement = document.getElementById(inputId);\n",
              "  inputElement.disabled = false;\n",
              "\n",
              "  const outputElement = document.getElementById(outputId);\n",
              "  outputElement.innerHTML = '';\n",
              "\n",
              "  const pickedPromise = new Promise((resolve) => {\n",
              "    inputElement.addEventListener('change', (e) => {\n",
              "      resolve(e.target.files);\n",
              "    });\n",
              "  });\n",
              "\n",
              "  const cancel = document.createElement('button');\n",
              "  inputElement.parentElement.appendChild(cancel);\n",
              "  cancel.textContent = 'Cancel upload';\n",
              "  const cancelPromise = new Promise((resolve) => {\n",
              "    cancel.onclick = () => {\n",
              "      resolve(null);\n",
              "    };\n",
              "  });\n",
              "\n",
              "  // Wait for the user to pick the files.\n",
              "  const files = yield {\n",
              "    promise: Promise.race([pickedPromise, cancelPromise]),\n",
              "    response: {\n",
              "      action: 'starting',\n",
              "    }\n",
              "  };\n",
              "\n",
              "  cancel.remove();\n",
              "\n",
              "  // Disable the input element since further picks are not allowed.\n",
              "  inputElement.disabled = true;\n",
              "\n",
              "  if (!files) {\n",
              "    return {\n",
              "      response: {\n",
              "        action: 'complete',\n",
              "      }\n",
              "    };\n",
              "  }\n",
              "\n",
              "  for (const file of files) {\n",
              "    const li = document.createElement('li');\n",
              "    li.append(span(file.name, {fontWeight: 'bold'}));\n",
              "    li.append(span(\n",
              "        `(${file.type || 'n/a'}) - ${file.size} bytes, ` +\n",
              "        `last modified: ${\n",
              "            file.lastModifiedDate ? file.lastModifiedDate.toLocaleDateString() :\n",
              "                                    'n/a'} - `));\n",
              "    const percent = span('0% done');\n",
              "    li.appendChild(percent);\n",
              "\n",
              "    outputElement.appendChild(li);\n",
              "\n",
              "    const fileDataPromise = new Promise((resolve) => {\n",
              "      const reader = new FileReader();\n",
              "      reader.onload = (e) => {\n",
              "        resolve(e.target.result);\n",
              "      };\n",
              "      reader.readAsArrayBuffer(file);\n",
              "    });\n",
              "    // Wait for the data to be ready.\n",
              "    let fileData = yield {\n",
              "      promise: fileDataPromise,\n",
              "      response: {\n",
              "        action: 'continue',\n",
              "      }\n",
              "    };\n",
              "\n",
              "    // Use a chunked sending to avoid message size limits. See b/62115660.\n",
              "    let position = 0;\n",
              "    do {\n",
              "      const length = Math.min(fileData.byteLength - position, MAX_PAYLOAD_SIZE);\n",
              "      const chunk = new Uint8Array(fileData, position, length);\n",
              "      position += length;\n",
              "\n",
              "      const base64 = btoa(String.fromCharCode.apply(null, chunk));\n",
              "      yield {\n",
              "        response: {\n",
              "          action: 'append',\n",
              "          file: file.name,\n",
              "          data: base64,\n",
              "        },\n",
              "      };\n",
              "\n",
              "      let percentDone = fileData.byteLength === 0 ?\n",
              "          100 :\n",
              "          Math.round((position / fileData.byteLength) * 100);\n",
              "      percent.textContent = `${percentDone}% done`;\n",
              "\n",
              "    } while (position < fileData.byteLength);\n",
              "  }\n",
              "\n",
              "  // All done.\n",
              "  yield {\n",
              "    response: {\n",
              "      action: 'complete',\n",
              "    }\n",
              "  };\n",
              "}\n",
              "\n",
              "scope.google = scope.google || {};\n",
              "scope.google.colab = scope.google.colab || {};\n",
              "scope.google.colab._files = {\n",
              "  _uploadFiles,\n",
              "  _uploadFilesContinue,\n",
              "};\n",
              "})(self);\n",
              "</script> "
            ]
          },
          "metadata": {}
        },
        {
          "output_type": "stream",
          "name": "stdout",
          "text": [
            "Saving IMDB Top 250 Movies.csv to IMDB Top 250 Movies.csv\n"
          ]
        }
      ]
    },
    {
      "cell_type": "code",
      "source": [
        "os.getcwd()"
      ],
      "metadata": {
        "colab": {
          "base_uri": "https://localhost:8080/",
          "height": 35
        },
        "id": "bciHyOvWaRUb",
        "outputId": "caade9df-e76f-467a-9e2d-1e07db9af138"
      },
      "execution_count": 3,
      "outputs": [
        {
          "output_type": "execute_result",
          "data": {
            "text/plain": [
              "'/content'"
            ],
            "application/vnd.google.colaboratory.intrinsic+json": {
              "type": "string"
            }
          },
          "metadata": {},
          "execution_count": 3
        }
      ]
    },
    {
      "cell_type": "code",
      "source": [
        "os.listdir()"
      ],
      "metadata": {
        "colab": {
          "base_uri": "https://localhost:8080/"
        },
        "id": "CMVfy4k4aRWp",
        "outputId": "a8f5c487-ca8b-4bfb-c07d-61d039798f20"
      },
      "execution_count": 4,
      "outputs": [
        {
          "output_type": "execute_result",
          "data": {
            "text/plain": [
              "['.config', 'IMDB Top 250 Movies.csv', 'sample_data']"
            ]
          },
          "metadata": {},
          "execution_count": 4
        }
      ]
    },
    {
      "cell_type": "markdown",
      "source": [
        "# Importing the dataset"
      ],
      "metadata": {
        "id": "Y5iB_6IdaXoh"
      }
    },
    {
      "cell_type": "code",
      "source": [
        "# Import the dataset into a DataFrame\n",
        "\n",
        "top_250_movies = pd.read_csv('IMDB Top 250 Movies.csv')\n",
        "top_250_movies.head()"
      ],
      "metadata": {
        "colab": {
          "base_uri": "https://localhost:8080/",
          "height": 536
        },
        "id": "fmPrmAx3aZ0W",
        "outputId": "ed8d2b6d-e88a-4010-f22d-05b2b7bbb098"
      },
      "execution_count": 147,
      "outputs": [
        {
          "output_type": "execute_result",
          "data": {
            "text/plain": [
              "   rank                      name  year  rating               genre  \\\n",
              "0     1  The Shawshank Redemption  1994     9.3               Drama   \n",
              "1     2             The Godfather  1972     9.2         Crime,Drama   \n",
              "2     3           The Dark Knight  2008     9.0  Action,Crime,Drama   \n",
              "3     4     The Godfather Part II  1974     9.0         Crime,Drama   \n",
              "4     5              12 Angry Men  1957     9.0         Crime,Drama   \n",
              "\n",
              "  certificate run_time                                            tagline  \\\n",
              "0           R   2h 22m  Fear can hold you prisoner. Hope can set you f...   \n",
              "1           R   2h 55m                         An offer you can't refuse.   \n",
              "2       PG-13   2h 32m                                    Why So Serious?   \n",
              "3           R   3h 22m       All the power on earth can't change destiny.   \n",
              "4    Approved   1h 36m  Life Is In Their Hands -- Death Is On Their Mi...   \n",
              "\n",
              "      budget  box_office                                              casts  \\\n",
              "0   25000000    28884504  Tim Robbins,Morgan Freeman,Bob Gunton,William ...   \n",
              "1    6000000   250341816  Marlon Brando,Al Pacino,James Caan,Diane Keato...   \n",
              "2  185000000  1006234167  Christian Bale,Heath Ledger,Aaron Eckhart,Mich...   \n",
              "3   13000000    47961919  Al Pacino,Robert De Niro,Robert Duvall,Diane K...   \n",
              "4     350000         955  Henry Fonda,Lee J. Cobb,Martin Balsam,John Fie...   \n",
              "\n",
              "              directors                                          writers  \n",
              "0        Frank Darabont                      Stephen King,Frank Darabont  \n",
              "1  Francis Ford Coppola                  Mario Puzo,Francis Ford Coppola  \n",
              "2     Christopher Nolan  Jonathan Nolan,Christopher Nolan,David S. Goyer  \n",
              "3  Francis Ford Coppola                  Francis Ford Coppola,Mario Puzo  \n",
              "4          Sidney Lumet                                    Reginald Rose  "
            ],
            "text/html": [
              "\n",
              "  <div id=\"df-a1645a8a-5a39-4a5c-b4fb-f06e870551b2\" class=\"colab-df-container\">\n",
              "    <div>\n",
              "<style scoped>\n",
              "    .dataframe tbody tr th:only-of-type {\n",
              "        vertical-align: middle;\n",
              "    }\n",
              "\n",
              "    .dataframe tbody tr th {\n",
              "        vertical-align: top;\n",
              "    }\n",
              "\n",
              "    .dataframe thead th {\n",
              "        text-align: right;\n",
              "    }\n",
              "</style>\n",
              "<table border=\"1\" class=\"dataframe\">\n",
              "  <thead>\n",
              "    <tr style=\"text-align: right;\">\n",
              "      <th></th>\n",
              "      <th>rank</th>\n",
              "      <th>name</th>\n",
              "      <th>year</th>\n",
              "      <th>rating</th>\n",
              "      <th>genre</th>\n",
              "      <th>certificate</th>\n",
              "      <th>run_time</th>\n",
              "      <th>tagline</th>\n",
              "      <th>budget</th>\n",
              "      <th>box_office</th>\n",
              "      <th>casts</th>\n",
              "      <th>directors</th>\n",
              "      <th>writers</th>\n",
              "    </tr>\n",
              "  </thead>\n",
              "  <tbody>\n",
              "    <tr>\n",
              "      <th>0</th>\n",
              "      <td>1</td>\n",
              "      <td>The Shawshank Redemption</td>\n",
              "      <td>1994</td>\n",
              "      <td>9.3</td>\n",
              "      <td>Drama</td>\n",
              "      <td>R</td>\n",
              "      <td>2h 22m</td>\n",
              "      <td>Fear can hold you prisoner. Hope can set you f...</td>\n",
              "      <td>25000000</td>\n",
              "      <td>28884504</td>\n",
              "      <td>Tim Robbins,Morgan Freeman,Bob Gunton,William ...</td>\n",
              "      <td>Frank Darabont</td>\n",
              "      <td>Stephen King,Frank Darabont</td>\n",
              "    </tr>\n",
              "    <tr>\n",
              "      <th>1</th>\n",
              "      <td>2</td>\n",
              "      <td>The Godfather</td>\n",
              "      <td>1972</td>\n",
              "      <td>9.2</td>\n",
              "      <td>Crime,Drama</td>\n",
              "      <td>R</td>\n",
              "      <td>2h 55m</td>\n",
              "      <td>An offer you can't refuse.</td>\n",
              "      <td>6000000</td>\n",
              "      <td>250341816</td>\n",
              "      <td>Marlon Brando,Al Pacino,James Caan,Diane Keato...</td>\n",
              "      <td>Francis Ford Coppola</td>\n",
              "      <td>Mario Puzo,Francis Ford Coppola</td>\n",
              "    </tr>\n",
              "    <tr>\n",
              "      <th>2</th>\n",
              "      <td>3</td>\n",
              "      <td>The Dark Knight</td>\n",
              "      <td>2008</td>\n",
              "      <td>9.0</td>\n",
              "      <td>Action,Crime,Drama</td>\n",
              "      <td>PG-13</td>\n",
              "      <td>2h 32m</td>\n",
              "      <td>Why So Serious?</td>\n",
              "      <td>185000000</td>\n",
              "      <td>1006234167</td>\n",
              "      <td>Christian Bale,Heath Ledger,Aaron Eckhart,Mich...</td>\n",
              "      <td>Christopher Nolan</td>\n",
              "      <td>Jonathan Nolan,Christopher Nolan,David S. Goyer</td>\n",
              "    </tr>\n",
              "    <tr>\n",
              "      <th>3</th>\n",
              "      <td>4</td>\n",
              "      <td>The Godfather Part II</td>\n",
              "      <td>1974</td>\n",
              "      <td>9.0</td>\n",
              "      <td>Crime,Drama</td>\n",
              "      <td>R</td>\n",
              "      <td>3h 22m</td>\n",
              "      <td>All the power on earth can't change destiny.</td>\n",
              "      <td>13000000</td>\n",
              "      <td>47961919</td>\n",
              "      <td>Al Pacino,Robert De Niro,Robert Duvall,Diane K...</td>\n",
              "      <td>Francis Ford Coppola</td>\n",
              "      <td>Francis Ford Coppola,Mario Puzo</td>\n",
              "    </tr>\n",
              "    <tr>\n",
              "      <th>4</th>\n",
              "      <td>5</td>\n",
              "      <td>12 Angry Men</td>\n",
              "      <td>1957</td>\n",
              "      <td>9.0</td>\n",
              "      <td>Crime,Drama</td>\n",
              "      <td>Approved</td>\n",
              "      <td>1h 36m</td>\n",
              "      <td>Life Is In Their Hands -- Death Is On Their Mi...</td>\n",
              "      <td>350000</td>\n",
              "      <td>955</td>\n",
              "      <td>Henry Fonda,Lee J. Cobb,Martin Balsam,John Fie...</td>\n",
              "      <td>Sidney Lumet</td>\n",
              "      <td>Reginald Rose</td>\n",
              "    </tr>\n",
              "  </tbody>\n",
              "</table>\n",
              "</div>\n",
              "    <div class=\"colab-df-buttons\">\n",
              "\n",
              "  <div class=\"colab-df-container\">\n",
              "    <button class=\"colab-df-convert\" onclick=\"convertToInteractive('df-a1645a8a-5a39-4a5c-b4fb-f06e870551b2')\"\n",
              "            title=\"Convert this dataframe to an interactive table.\"\n",
              "            style=\"display:none;\">\n",
              "\n",
              "  <svg xmlns=\"http://www.w3.org/2000/svg\" height=\"24px\" viewBox=\"0 -960 960 960\">\n",
              "    <path d=\"M120-120v-720h720v720H120Zm60-500h600v-160H180v160Zm220 220h160v-160H400v160Zm0 220h160v-160H400v160ZM180-400h160v-160H180v160Zm440 0h160v-160H620v160ZM180-180h160v-160H180v160Zm440 0h160v-160H620v160Z\"/>\n",
              "  </svg>\n",
              "    </button>\n",
              "\n",
              "  <style>\n",
              "    .colab-df-container {\n",
              "      display:flex;\n",
              "      gap: 12px;\n",
              "    }\n",
              "\n",
              "    .colab-df-convert {\n",
              "      background-color: #E8F0FE;\n",
              "      border: none;\n",
              "      border-radius: 50%;\n",
              "      cursor: pointer;\n",
              "      display: none;\n",
              "      fill: #1967D2;\n",
              "      height: 32px;\n",
              "      padding: 0 0 0 0;\n",
              "      width: 32px;\n",
              "    }\n",
              "\n",
              "    .colab-df-convert:hover {\n",
              "      background-color: #E2EBFA;\n",
              "      box-shadow: 0px 1px 2px rgba(60, 64, 67, 0.3), 0px 1px 3px 1px rgba(60, 64, 67, 0.15);\n",
              "      fill: #174EA6;\n",
              "    }\n",
              "\n",
              "    .colab-df-buttons div {\n",
              "      margin-bottom: 4px;\n",
              "    }\n",
              "\n",
              "    [theme=dark] .colab-df-convert {\n",
              "      background-color: #3B4455;\n",
              "      fill: #D2E3FC;\n",
              "    }\n",
              "\n",
              "    [theme=dark] .colab-df-convert:hover {\n",
              "      background-color: #434B5C;\n",
              "      box-shadow: 0px 1px 3px 1px rgba(0, 0, 0, 0.15);\n",
              "      filter: drop-shadow(0px 1px 2px rgba(0, 0, 0, 0.3));\n",
              "      fill: #FFFFFF;\n",
              "    }\n",
              "  </style>\n",
              "\n",
              "    <script>\n",
              "      const buttonEl =\n",
              "        document.querySelector('#df-a1645a8a-5a39-4a5c-b4fb-f06e870551b2 button.colab-df-convert');\n",
              "      buttonEl.style.display =\n",
              "        google.colab.kernel.accessAllowed ? 'block' : 'none';\n",
              "\n",
              "      async function convertToInteractive(key) {\n",
              "        const element = document.querySelector('#df-a1645a8a-5a39-4a5c-b4fb-f06e870551b2');\n",
              "        const dataTable =\n",
              "          await google.colab.kernel.invokeFunction('convertToInteractive',\n",
              "                                                    [key], {});\n",
              "        if (!dataTable) return;\n",
              "\n",
              "        const docLinkHtml = 'Like what you see? Visit the ' +\n",
              "          '<a target=\"_blank\" href=https://colab.research.google.com/notebooks/data_table.ipynb>data table notebook</a>'\n",
              "          + ' to learn more about interactive tables.';\n",
              "        element.innerHTML = '';\n",
              "        dataTable['output_type'] = 'display_data';\n",
              "        await google.colab.output.renderOutput(dataTable, element);\n",
              "        const docLink = document.createElement('div');\n",
              "        docLink.innerHTML = docLinkHtml;\n",
              "        element.appendChild(docLink);\n",
              "      }\n",
              "    </script>\n",
              "  </div>\n",
              "\n",
              "\n",
              "<div id=\"df-b5a496c3-4ddb-4390-81f2-14b7f09e570b\">\n",
              "  <button class=\"colab-df-quickchart\" onclick=\"quickchart('df-b5a496c3-4ddb-4390-81f2-14b7f09e570b')\"\n",
              "            title=\"Suggest charts.\"\n",
              "            style=\"display:none;\">\n",
              "\n",
              "<svg xmlns=\"http://www.w3.org/2000/svg\" height=\"24px\"viewBox=\"0 0 24 24\"\n",
              "     width=\"24px\">\n",
              "    <g>\n",
              "        <path d=\"M19 3H5c-1.1 0-2 .9-2 2v14c0 1.1.9 2 2 2h14c1.1 0 2-.9 2-2V5c0-1.1-.9-2-2-2zM9 17H7v-7h2v7zm4 0h-2V7h2v10zm4 0h-2v-4h2v4z\"/>\n",
              "    </g>\n",
              "</svg>\n",
              "  </button>\n",
              "\n",
              "<style>\n",
              "  .colab-df-quickchart {\n",
              "      --bg-color: #E8F0FE;\n",
              "      --fill-color: #1967D2;\n",
              "      --hover-bg-color: #E2EBFA;\n",
              "      --hover-fill-color: #174EA6;\n",
              "      --disabled-fill-color: #AAA;\n",
              "      --disabled-bg-color: #DDD;\n",
              "  }\n",
              "\n",
              "  [theme=dark] .colab-df-quickchart {\n",
              "      --bg-color: #3B4455;\n",
              "      --fill-color: #D2E3FC;\n",
              "      --hover-bg-color: #434B5C;\n",
              "      --hover-fill-color: #FFFFFF;\n",
              "      --disabled-bg-color: #3B4455;\n",
              "      --disabled-fill-color: #666;\n",
              "  }\n",
              "\n",
              "  .colab-df-quickchart {\n",
              "    background-color: var(--bg-color);\n",
              "    border: none;\n",
              "    border-radius: 50%;\n",
              "    cursor: pointer;\n",
              "    display: none;\n",
              "    fill: var(--fill-color);\n",
              "    height: 32px;\n",
              "    padding: 0;\n",
              "    width: 32px;\n",
              "  }\n",
              "\n",
              "  .colab-df-quickchart:hover {\n",
              "    background-color: var(--hover-bg-color);\n",
              "    box-shadow: 0 1px 2px rgba(60, 64, 67, 0.3), 0 1px 3px 1px rgba(60, 64, 67, 0.15);\n",
              "    fill: var(--button-hover-fill-color);\n",
              "  }\n",
              "\n",
              "  .colab-df-quickchart-complete:disabled,\n",
              "  .colab-df-quickchart-complete:disabled:hover {\n",
              "    background-color: var(--disabled-bg-color);\n",
              "    fill: var(--disabled-fill-color);\n",
              "    box-shadow: none;\n",
              "  }\n",
              "\n",
              "  .colab-df-spinner {\n",
              "    border: 2px solid var(--fill-color);\n",
              "    border-color: transparent;\n",
              "    border-bottom-color: var(--fill-color);\n",
              "    animation:\n",
              "      spin 1s steps(1) infinite;\n",
              "  }\n",
              "\n",
              "  @keyframes spin {\n",
              "    0% {\n",
              "      border-color: transparent;\n",
              "      border-bottom-color: var(--fill-color);\n",
              "      border-left-color: var(--fill-color);\n",
              "    }\n",
              "    20% {\n",
              "      border-color: transparent;\n",
              "      border-left-color: var(--fill-color);\n",
              "      border-top-color: var(--fill-color);\n",
              "    }\n",
              "    30% {\n",
              "      border-color: transparent;\n",
              "      border-left-color: var(--fill-color);\n",
              "      border-top-color: var(--fill-color);\n",
              "      border-right-color: var(--fill-color);\n",
              "    }\n",
              "    40% {\n",
              "      border-color: transparent;\n",
              "      border-right-color: var(--fill-color);\n",
              "      border-top-color: var(--fill-color);\n",
              "    }\n",
              "    60% {\n",
              "      border-color: transparent;\n",
              "      border-right-color: var(--fill-color);\n",
              "    }\n",
              "    80% {\n",
              "      border-color: transparent;\n",
              "      border-right-color: var(--fill-color);\n",
              "      border-bottom-color: var(--fill-color);\n",
              "    }\n",
              "    90% {\n",
              "      border-color: transparent;\n",
              "      border-bottom-color: var(--fill-color);\n",
              "    }\n",
              "  }\n",
              "</style>\n",
              "\n",
              "  <script>\n",
              "    async function quickchart(key) {\n",
              "      const quickchartButtonEl =\n",
              "        document.querySelector('#' + key + ' button');\n",
              "      quickchartButtonEl.disabled = true;  // To prevent multiple clicks.\n",
              "      quickchartButtonEl.classList.add('colab-df-spinner');\n",
              "      try {\n",
              "        const charts = await google.colab.kernel.invokeFunction(\n",
              "            'suggestCharts', [key], {});\n",
              "      } catch (error) {\n",
              "        console.error('Error during call to suggestCharts:', error);\n",
              "      }\n",
              "      quickchartButtonEl.classList.remove('colab-df-spinner');\n",
              "      quickchartButtonEl.classList.add('colab-df-quickchart-complete');\n",
              "    }\n",
              "    (() => {\n",
              "      let quickchartButtonEl =\n",
              "        document.querySelector('#df-b5a496c3-4ddb-4390-81f2-14b7f09e570b button');\n",
              "      quickchartButtonEl.style.display =\n",
              "        google.colab.kernel.accessAllowed ? 'block' : 'none';\n",
              "    })();\n",
              "  </script>\n",
              "</div>\n",
              "    </div>\n",
              "  </div>\n"
            ]
          },
          "metadata": {},
          "execution_count": 147
        }
      ]
    },
    {
      "cell_type": "code",
      "source": [
        "top_250_movies.shape"
      ],
      "metadata": {
        "colab": {
          "base_uri": "https://localhost:8080/"
        },
        "id": "gbion2KaapHo",
        "outputId": "92ad6ecf-cf17-4c66-905b-fd9b8058b54f"
      },
      "execution_count": 148,
      "outputs": [
        {
          "output_type": "execute_result",
          "data": {
            "text/plain": [
              "(250, 13)"
            ]
          },
          "metadata": {},
          "execution_count": 148
        }
      ]
    },
    {
      "cell_type": "code",
      "source": [
        "columns = top_250_movies.columns.values\n",
        "columns"
      ],
      "metadata": {
        "colab": {
          "base_uri": "https://localhost:8080/"
        },
        "id": "YVB9yNnKapKZ",
        "outputId": "f8a3bc74-8cac-4e87-8c2a-546a101a32d7"
      },
      "execution_count": 149,
      "outputs": [
        {
          "output_type": "execute_result",
          "data": {
            "text/plain": [
              "array(['rank', 'name', 'year', 'rating', 'genre', 'certificate',\n",
              "       'run_time', 'tagline', 'budget', 'box_office', 'casts',\n",
              "       'directors', 'writers'], dtype=object)"
            ]
          },
          "metadata": {},
          "execution_count": 149
        }
      ]
    },
    {
      "cell_type": "code",
      "source": [
        "top_250_movies.dtypes"
      ],
      "metadata": {
        "colab": {
          "base_uri": "https://localhost:8080/"
        },
        "id": "uFheX-YAbSuS",
        "outputId": "31ac271b-b653-406c-e4f1-eeb45406f466"
      },
      "execution_count": 150,
      "outputs": [
        {
          "output_type": "execute_result",
          "data": {
            "text/plain": [
              "rank             int64\n",
              "name            object\n",
              "year             int64\n",
              "rating         float64\n",
              "genre           object\n",
              "certificate     object\n",
              "run_time        object\n",
              "tagline         object\n",
              "budget          object\n",
              "box_office      object\n",
              "casts           object\n",
              "directors       object\n",
              "writers         object\n",
              "dtype: object"
            ]
          },
          "metadata": {},
          "execution_count": 150
        }
      ]
    },
    {
      "cell_type": "code",
      "source": [
        "top_250_movies['budget'].value_counts()"
      ],
      "metadata": {
        "colab": {
          "base_uri": "https://localhost:8080/"
        },
        "id": "tX4UUN4juATW",
        "outputId": "8416c18b-3989-4f29-e417-accea78667d9"
      },
      "execution_count": 151,
      "outputs": [
        {
          "output_type": "execute_result",
          "data": {
            "text/plain": [
              "Not Available    39\n",
              "25000000          8\n",
              "15000000          8\n",
              "3000000           7\n",
              "6000000           6\n",
              "                 ..\n",
              "EM 32000000       1\n",
              "72000000          1\n",
              "250000000         1\n",
              "1800000           1\n",
              "325000            1\n",
              "Name: budget, Length: 128, dtype: int64"
            ]
          },
          "metadata": {},
          "execution_count": 151
        }
      ]
    },
    {
      "cell_type": "code",
      "source": [
        "top_250_movies['box_office'].value_counts()"
      ],
      "metadata": {
        "colab": {
          "base_uri": "https://localhost:8080/"
        },
        "id": "1wx-r_ftuAWF",
        "outputId": "97632806-01a3-422c-bd3e-523b42528436"
      },
      "execution_count": 152,
      "outputs": [
        {
          "output_type": "execute_result",
          "data": {
            "text/plain": [
              "Not Available    30\n",
              "28884504          1\n",
              "31207             1\n",
              "180906076         1\n",
              "81379             1\n",
              "                 ..\n",
              "170005875         1\n",
              "5473337           1\n",
              "60262836          1\n",
              "2000288           1\n",
              "424208848         1\n",
              "Name: box_office, Length: 221, dtype: int64"
            ]
          },
          "metadata": {},
          "execution_count": 152
        }
      ]
    },
    {
      "cell_type": "code",
      "source": [
        "top_250_movies['budget'] = top_250_movies['budget'].str.replace('$','')\n",
        "top_250_movies['budget'] = pd.to_numeric(top_250_movies['budget'],errors='coerce', downcast='float') / 1e6                    # Convert to millions\n",
        "                                                          # errors = 'coerce' introduces  NaN where it encounters string value like 'EM 32000000'\n",
        "\n",
        "top_250_movies['box_office'] = top_250_movies['box_office'].str.replace('$','')\n",
        "top_250_movies['box_office'] = pd.to_numeric(top_250_movies['box_office'],errors='coerce', downcast='float') / 1e6            # Convert to millions\n",
        "\n",
        "top_250_movies.dtypes"
      ],
      "metadata": {
        "colab": {
          "base_uri": "https://localhost:8080/"
        },
        "id": "IE-YwvVftwx4",
        "outputId": "a1b0417a-33f8-4732-82f9-08112a277327"
      },
      "execution_count": 153,
      "outputs": [
        {
          "output_type": "stream",
          "name": "stderr",
          "text": [
            "<ipython-input-153-11a8fb690b40>:1: FutureWarning:\n",
            "\n",
            "The default value of regex will change from True to False in a future version. In addition, single character regular expressions will *not* be treated as literal strings when regex=True.\n",
            "\n",
            "<ipython-input-153-11a8fb690b40>:5: FutureWarning:\n",
            "\n",
            "The default value of regex will change from True to False in a future version. In addition, single character regular expressions will *not* be treated as literal strings when regex=True.\n",
            "\n"
          ]
        },
        {
          "output_type": "execute_result",
          "data": {
            "text/plain": [
              "rank             int64\n",
              "name            object\n",
              "year             int64\n",
              "rating         float64\n",
              "genre           object\n",
              "certificate     object\n",
              "run_time        object\n",
              "tagline         object\n",
              "budget         float32\n",
              "box_office     float64\n",
              "casts           object\n",
              "directors       object\n",
              "writers         object\n",
              "dtype: object"
            ]
          },
          "metadata": {},
          "execution_count": 153
        }
      ]
    },
    {
      "cell_type": "code",
      "source": [
        "# Visual representation of the missing data in the dataset\n",
        "\n",
        "missingno.matrix(top_250_movies)"
      ],
      "metadata": {
        "colab": {
          "base_uri": "https://localhost:8080/",
          "height": 588
        },
        "id": "wIPOIBrGppLJ",
        "outputId": "a1687a2b-c79f-4577-896e-72772701cdda"
      },
      "execution_count": 154,
      "outputs": [
        {
          "output_type": "execute_result",
          "data": {
            "text/plain": [
              "<Axes: >"
            ]
          },
          "metadata": {},
          "execution_count": 154
        },
        {
          "output_type": "display_data",
          "data": {
            "text/plain": [
              "<Figure size 2500x1000 with 2 Axes>"
            ],
            "image/png": "[encoded data removed]"
          },
          "metadata": {}
        }
      ]
    },
    {
      "cell_type": "code",
      "source": [
        "# Impute the missing values\n",
        "\n",
        "top_250_movies['budget'] = top_250_movies['budget'].fillna(top_250_movies['budget'].median())\n",
        "top_250_movies['box_office'] = top_250_movies['box_office'].fillna(top_250_movies['box_office'].median())"
      ],
      "metadata": {
        "id": "h87S6KkRucOq"
      },
      "execution_count": 155,
      "outputs": []
    },
    {
      "cell_type": "markdown",
      "source": [
        "**To find the highest rated movie**"
      ],
      "metadata": {
        "id": "D4J4yNCJaxHQ"
      }
    },
    {
      "cell_type": "code",
      "source": [
        "max_rating = max(top_250_movies['rating'])\n",
        "highest_rated_movies = top_250_movies[top_250_movies['rating'] == max_rating]\n",
        "print('Number of highest rated movies = ', len(highest_rated_movies), '\\n')\n",
        "highest_rated_movies"
      ],
      "metadata": {
        "colab": {
          "base_uri": "https://localhost:8080/",
          "height": 150
        },
        "id": "WftFMvajapNF",
        "outputId": "92ae80e1-6aca-4e89-80b5-2621272899f8"
      },
      "execution_count": 156,
      "outputs": [
        {
          "output_type": "stream",
          "name": "stdout",
          "text": [
            "Number of highest rated movies =  1 \n",
            "\n"
          ]
        },
        {
          "output_type": "execute_result",
          "data": {
            "text/plain": [
              "   rank                      name  year  rating  genre certificate run_time  \\\n",
              "0     1  The Shawshank Redemption  1994     9.3  Drama           R   2h 22m   \n",
              "\n",
              "                                             tagline  budget  box_office  \\\n",
              "0  Fear can hold you prisoner. Hope can set you f...    25.0   28.884504   \n",
              "\n",
              "                                               casts       directors  \\\n",
              "0  Tim Robbins,Morgan Freeman,Bob Gunton,William ...  Frank Darabont   \n",
              "\n",
              "                       writers  \n",
              "0  Stephen King,Frank Darabont  "
            ],
            "text/html": [
              "\n",
              "  <div id=\"df-f7147730-0ccc-4dda-b50a-0e2bb9b0ff3f\" class=\"colab-df-container\">\n",
              "    <div>\n",
              "<style scoped>\n",
              "    .dataframe tbody tr th:only-of-type {\n",
              "        vertical-align: middle;\n",
              "    }\n",
              "\n",
              "    .dataframe tbody tr th {\n",
              "        vertical-align: top;\n",
              "    }\n",
              "\n",
              "    .dataframe thead th {\n",
              "        text-align: right;\n",
              "    }\n",
              "</style>\n",
              "<table border=\"1\" class=\"dataframe\">\n",
              "  <thead>\n",
              "    <tr style=\"text-align: right;\">\n",
              "      <th></th>\n",
              "      <th>rank</th>\n",
              "      <th>name</th>\n",
              "      <th>year</th>\n",
              "      <th>rating</th>\n",
              "      <th>genre</th>\n",
              "      <th>certificate</th>\n",
              "      <th>run_time</th>\n",
              "      <th>tagline</th>\n",
              "      <th>budget</th>\n",
              "      <th>box_office</th>\n",
              "      <th>casts</th>\n",
              "      <th>directors</th>\n",
              "      <th>writers</th>\n",
              "    </tr>\n",
              "  </thead>\n",
              "  <tbody>\n",
              "    <tr>\n",
              "      <th>0</th>\n",
              "      <td>1</td>\n",
              "      <td>The Shawshank Redemption</td>\n",
              "      <td>1994</td>\n",
              "      <td>9.3</td>\n",
              "      <td>Drama</td>\n",
              "      <td>R</td>\n",
              "      <td>2h 22m</td>\n",
              "      <td>Fear can hold you prisoner. Hope can set you f...</td>\n",
              "      <td>25.0</td>\n",
              "      <td>28.884504</td>\n",
              "      <td>Tim Robbins,Morgan Freeman,Bob Gunton,William ...</td>\n",
              "      <td>Frank Darabont</td>\n",
              "      <td>Stephen King,Frank Darabont</td>\n",
              "    </tr>\n",
              "  </tbody>\n",
              "</table>\n",
              "</div>\n",
              "    <div class=\"colab-df-buttons\">\n",
              "\n",
              "  <div class=\"colab-df-container\">\n",
              "    <button class=\"colab-df-convert\" onclick=\"convertToInteractive('df-f7147730-0ccc-4dda-b50a-0e2bb9b0ff3f')\"\n",
              "            title=\"Convert this dataframe to an interactive table.\"\n",
              "            style=\"display:none;\">\n",
              "\n",
              "  <svg xmlns=\"http://www.w3.org/2000/svg\" height=\"24px\" viewBox=\"0 -960 960 960\">\n",
              "    <path d=\"M120-120v-720h720v720H120Zm60-500h600v-160H180v160Zm220 220h160v-160H400v160Zm0 220h160v-160H400v160ZM180-400h160v-160H180v160Zm440 0h160v-160H620v160ZM180-180h160v-160H180v160Zm440 0h160v-160H620v160Z\"/>\n",
              "  </svg>\n",
              "    </button>\n",
              "\n",
              "  <style>\n",
              "    .colab-df-container {\n",
              "      display:flex;\n",
              "      gap: 12px;\n",
              "    }\n",
              "\n",
              "    .colab-df-convert {\n",
              "      background-color: #E8F0FE;\n",
              "      border: none;\n",
              "      border-radius: 50%;\n",
              "      cursor: pointer;\n",
              "      display: none;\n",
              "      fill: #1967D2;\n",
              "      height: 32px;\n",
              "      padding: 0 0 0 0;\n",
              "      width: 32px;\n",
              "    }\n",
              "\n",
              "    .colab-df-convert:hover {\n",
              "      background-color: #E2EBFA;\n",
              "      box-shadow: 0px 1px 2px rgba(60, 64, 67, 0.3), 0px 1px 3px 1px rgba(60, 64, 67, 0.15);\n",
              "      fill: #174EA6;\n",
              "    }\n",
              "\n",
              "    .colab-df-buttons div {\n",
              "      margin-bottom: 4px;\n",
              "    }\n",
              "\n",
              "    [theme=dark] .colab-df-convert {\n",
              "      background-color: #3B4455;\n",
              "      fill: #D2E3FC;\n",
              "    }\n",
              "\n",
              "    [theme=dark] .colab-df-convert:hover {\n",
              "      background-color: #434B5C;\n",
              "      box-shadow: 0px 1px 3px 1px rgba(0, 0, 0, 0.15);\n",
              "      filter: drop-shadow(0px 1px 2px rgba(0, 0, 0, 0.3));\n",
              "      fill: #FFFFFF;\n",
              "    }\n",
              "  </style>\n",
              "\n",
              "    <script>\n",
              "      const buttonEl =\n",
              "        document.querySelector('#df-f7147730-0ccc-4dda-b50a-0e2bb9b0ff3f button.colab-df-convert');\n",
              "      buttonEl.style.display =\n",
              "        google.colab.kernel.accessAllowed ? 'block' : 'none';\n",
              "\n",
              "      async function convertToInteractive(key) {\n",
              "        const element = document.querySelector('#df-f7147730-0ccc-4dda-b50a-0e2bb9b0ff3f');\n",
              "        const dataTable =\n",
              "          await google.colab.kernel.invokeFunction('convertToInteractive',\n",
              "                                                    [key], {});\n",
              "        if (!dataTable) return;\n",
              "\n",
              "        const docLinkHtml = 'Like what you see? Visit the ' +\n",
              "          '<a target=\"_blank\" href=https://colab.research.google.com/notebooks/data_table.ipynb>data table notebook</a>'\n",
              "          + ' to learn more about interactive tables.';\n",
              "        element.innerHTML = '';\n",
              "        dataTable['output_type'] = 'display_data';\n",
              "        await google.colab.output.renderOutput(dataTable, element);\n",
              "        const docLink = document.createElement('div');\n",
              "        docLink.innerHTML = docLinkHtml;\n",
              "        element.appendChild(docLink);\n",
              "      }\n",
              "    </script>\n",
              "  </div>\n",
              "\n",
              "    </div>\n",
              "  </div>\n"
            ]
          },
          "metadata": {},
          "execution_count": 156
        }
      ]
    },
    {
      "cell_type": "code",
      "source": [
        "highest_rated_movie = top_250_movies.iloc[highest_rated_movies.index].name\n",
        "highest_rated_movie"
      ],
      "metadata": {
        "colab": {
          "base_uri": "https://localhost:8080/"
        },
        "id": "6JgUC_u8bp9v",
        "outputId": "3bc3f3eb-5353-48f2-c412-25ed8ce3d149"
      },
      "execution_count": 157,
      "outputs": [
        {
          "output_type": "execute_result",
          "data": {
            "text/plain": [
              "0    The Shawshank Redemption\n",
              "Name: name, dtype: object"
            ]
          },
          "metadata": {},
          "execution_count": 157
        }
      ]
    },
    {
      "cell_type": "markdown",
      "source": [
        "**To find the genre that has the highest average rating**"
      ],
      "metadata": {
        "id": "Djs6FUWNc0WA"
      }
    },
    {
      "cell_type": "code",
      "source": [
        "top_250_movies['genre'].value_counts()"
      ],
      "metadata": {
        "colab": {
          "base_uri": "https://localhost:8080/"
        },
        "id": "5XZMoe-NdpzA",
        "outputId": "cd20c72f-e757-4106-dd7a-b971b852b82f"
      },
      "execution_count": 158,
      "outputs": [
        {
          "output_type": "execute_result",
          "data": {
            "text/plain": [
              "Drama                         19\n",
              "Crime,Drama                   14\n",
              "Animation,Adventure,Comedy    10\n",
              "Biography,Drama,History        9\n",
              "Crime,Drama,Mystery            9\n",
              "                              ..\n",
              "Action,Thriller                1\n",
              "Drama,Mystery,Sci-Fi           1\n",
              "Comedy,Drama,Family            1\n",
              "Comedy,Music,Romance           1\n",
              "Comedy                         1\n",
              "Name: genre, Length: 104, dtype: int64"
            ]
          },
          "metadata": {},
          "execution_count": 158
        }
      ]
    },
    {
      "cell_type": "code",
      "source": [
        "# Split the combined genre values into individual genres\n",
        "\n",
        "genre_list = top_250_movies['genre'].str.split(',')\n",
        "genre_list"
      ],
      "metadata": {
        "colab": {
          "base_uri": "https://localhost:8080/"
        },
        "id": "CNPagHcVeiRi",
        "outputId": "3e18ba20-86be-4337-cc7d-a59ae68a0142"
      },
      "execution_count": 159,
      "outputs": [
        {
          "output_type": "execute_result",
          "data": {
            "text/plain": [
              "0                             [Drama]\n",
              "1                      [Crime, Drama]\n",
              "2              [Action, Crime, Drama]\n",
              "3                      [Crime, Drama]\n",
              "4                      [Crime, Drama]\n",
              "                    ...              \n",
              "245                           [Drama]\n",
              "246     [Adventure, Biography, Drama]\n",
              "247    [Animation, Adventure, Comedy]\n",
              "248       [Biography, Drama, History]\n",
              "249       [Adventure, Drama, Western]\n",
              "Name: genre, Length: 250, dtype: object"
            ]
          },
          "metadata": {},
          "execution_count": 159
        }
      ]
    },
    {
      "cell_type": "code",
      "source": [
        "# Storing the ratings corresponding to each genre in a dictionary\n",
        "\n",
        "genre_ratings = defaultdict(list)\n",
        "\n",
        "for genres, rating in zip(genre_list, top_250_movies['rating']):\n",
        "  for genre in genres:\n",
        "    genre_ratings[genre].append(rating)\n",
        "\n",
        "genre_ratings.items()"
      ],
      "metadata": {
        "colab": {
          "base_uri": "https://localhost:8080/"
        },
        "id": "HiCVrhtteyuA",
        "outputId": "953ac30d-8ea1-481c-bdc3-75f0aa507fbb"
      },
      "execution_count": 160,
      "outputs": [
        {
          "output_type": "execute_result",
          "data": {
            "text/plain": [
              "dict_items([('Drama', [9.3, 9.2, 9.0, 9.0, 9.0, 9.0, 9.0, 8.9, 8.8, 8.8, 8.8, 8.8, 8.7, 8.7, 8.6, 8.6, 8.6, 8.6, 8.6, 8.6, 8.6, 8.6, 8.6, 8.5, 8.5, 8.5, 8.5, 8.5, 8.5, 8.5, 8.5, 8.5, 8.5, 8.5, 8.5, 8.6, 8.5, 8.5, 8.5, 8.5, 8.5, 8.4, 8.4, 8.4, 8.4, 8.4, 8.4, 8.4, 8.4, 8.4, 8.4, 8.3, 8.4, 8.4, 8.4, 8.4, 8.4, 8.3, 8.3, 8.4, 8.4, 8.3, 8.4, 8.4, 8.3, 8.4, 8.3, 8.3, 8.3, 8.3, 8.3, 8.3, 8.3, 8.3, 8.3, 8.4, 8.3, 8.3, 8.3, 8.3, 8.3, 8.3, 8.2, 8.2, 8.3, 8.3, 8.2, 8.2, 8.3, 8.2, 8.3, 8.2, 8.2, 8.2, 8.3, 8.2, 8.2, 8.2, 8.2, 8.2, 8.2, 8.2, 8.2, 8.2, 8.2, 8.2, 8.2, 8.2, 8.2, 8.2, 8.2, 8.2, 8.2, 8.2, 8.2, 8.1, 8.2, 8.1, 8.1, 8.2, 8.1, 8.1, 8.1, 8.2, 8.1, 8.1, 8.1, 8.1, 8.1, 8.1, 8.1, 8.1, 8.1, 8.1, 8.1, 8.1, 8.2, 8.1, 8.1, 8.1, 8.1, 8.1, 8.1, 8.1, 8.2, 8.2, 8.1, 8.1, 8.1, 8.1, 8.1, 8.1, 8.1, 8.1, 8.1, 8.1, 8.1, 8.3, 8.1, 8.1, 8.1, 8.1, 8.1, 8.1, 8.8, 8.2, 8.1, 8.1, 8.1, 8.1, 8.1, 8.1, 8.1, 8.1, 8.2, 8.0, 8.0]), ('Crime', [9.2, 9.0, 9.0, 9.0, 8.9, 8.7, 8.6, 8.6, 8.6, 8.6, 8.5, 8.5, 8.5, 8.5, 8.4, 8.4, 8.3, 8.4, 8.3, 8.3, 8.3, 8.3, 8.3, 8.3, 8.3, 8.3, 8.2, 8.2, 8.2, 8.2, 8.2, 8.2, 8.2, 8.2, 8.2, 8.2, 8.2, 8.1, 8.1, 8.1, 8.1, 8.1, 8.1, 8.1, 8.1, 8.1, 8.1, 8.1, 8.8, 8.1, 8.1]), ('Action', [9.0, 9.0, 8.8, 8.8, 8.8, 8.7, 8.7, 8.6, 8.6, 8.6, 8.5, 8.5, 8.6, 8.4, 8.4, 8.4, 8.4, 8.4, 8.4, 8.4, 8.4, 8.3, 8.3, 8.3, 8.3, 8.2, 8.2, 8.2, 8.3, 8.2, 8.2, 8.2, 8.2, 8.2, 8.2, 8.2, 8.2, 8.2, 8.1, 8.1, 8.2, 8.1, 8.1, 8.1, 8.1, 8.1, 8.1, 8.0, 8.1, 8.1]), ('Biography', [9.0, 8.7, 8.5, 8.5, 8.4, 8.4, 8.3, 8.4, 8.2, 8.3, 8.2, 8.2, 8.2, 8.2, 8.2, 8.1, 8.1, 8.1, 8.1, 8.2, 8.1, 8.1, 8.1, 8.1, 8.1, 8.1, 8.1, 8.2, 8.0]), ('History', [9.0, 8.4, 8.4, 8.2, 8.2, 8.1, 8.1, 8.2, 8.1, 8.0]), ('Adventure', [9.0, 8.8, 8.8, 8.8, 8.8, 8.7, 8.6, 8.6, 8.5, 8.6, 8.5, 8.5, 8.4, 8.4, 8.4, 8.4, 8.4, 8.3, 8.4, 8.3, 8.4, 8.4, 8.3, 8.3, 8.3, 8.3, 8.3, 8.3, 8.2, 8.2, 8.2, 8.2, 8.2, 8.2, 8.2, 8.2, 8.2, 8.2, 8.1, 8.2, 8.1, 8.1, 8.1, 8.1, 8.1, 8.2, 8.1, 8.1, 8.1, 8.1, 8.1, 8.1, 8.1, 8.1, 8.0, 8.1, 8.1, 8.2, 8.0, 8.0]), ('Western', [8.8, 8.5, 8.4, 8.2, 8.2, 8.2, 8.0]), ('Romance', [8.8, 8.6, 8.5, 8.5, 8.5, 8.5, 8.3, 8.3, 8.3, 8.3, 8.3, 8.3, 8.2, 8.2, 8.2, 8.1, 8.1, 8.2, 8.1, 8.1, 8.2, 8.1, 8.1]), ('Sci-Fi', [8.8, 8.7, 8.6, 8.6, 8.5, 8.5, 8.5, 8.4, 8.4, 8.3, 8.3, 8.3, 8.3, 8.2, 8.2, 8.2, 8.1, 8.1, 8.1, 8.1]), ('Fantasy', [8.7, 8.6, 8.6, 8.6, 8.4, 8.3, 8.2, 8.2, 8.2, 8.1, 8.1, 8.1, 8.1, 8.1]), ('Mystery', [8.6, 8.5, 8.5, 8.5, 8.6, 8.5, 8.5, 8.4, 8.4, 8.4, 8.4, 8.4, 8.3, 8.3, 8.3, 8.3, 8.3, 8.2, 8.2, 8.2, 8.2, 8.2, 8.2, 8.2, 8.2, 8.1, 8.1, 8.1, 8.1, 8.8, 8.1]), ('Family', [8.6, 8.6, 8.4, 8.3, 8.3, 8.2, 8.1, 8.2, 8.1, 8.1, 8.1, 8.2, 8.1]), ('Thriller', [8.6, 8.5, 8.5, 8.5, 8.5, 8.4, 8.4, 8.4, 8.3, 8.4, 8.3, 8.3, 8.2, 8.2, 8.2, 8.2, 8.2, 8.2, 8.2, 8.1, 8.1, 8.1, 8.1, 8.2, 8.1, 8.1, 8.1, 8.1, 8.1, 8.1]), ('War', [8.6, 8.5, 8.5, 8.5, 8.4, 8.4, 8.4, 8.3, 8.4, 8.4, 8.3, 8.2, 8.3, 8.2, 8.2, 8.2, 8.2, 8.1, 8.1, 8.1, 8.1, 8.2, 8.1]), ('Comedy', [8.6, 8.5, 8.5, 8.5, 8.5, 8.4, 8.4, 8.4, 8.3, 8.4, 8.3, 8.3, 8.3, 8.3, 8.3, 8.3, 8.2, 8.3, 8.2, 8.2, 8.2, 8.2, 8.2, 8.2, 8.2, 8.2, 8.1, 8.1, 8.1, 8.2, 8.1, 8.1, 8.2, 8.1, 8.1, 8.1, 8.1, 8.1, 8.1, 8.1, 8.1, 8.2, 8.1, 8.0, 8.0]), ('Animation', [8.6, 8.5, 8.5, 8.4, 8.4, 8.4, 8.3, 8.4, 8.4, 8.3, 8.3, 8.2, 8.2, 8.2, 8.1, 8.2, 8.1, 8.1, 8.1, 8.1, 8.0, 8.1, 8.0]), ('Music', [8.5, 8.5, 8.4, 8.2]), ('Horror', [8.5, 8.5, 8.4, 8.2, 8.1]), ('Film-Noir', [8.4, 8.3, 8.1, 8.1]), ('Musical', [8.3]), ('Sport', [8.2, 8.2, 8.1, 8.2, 8.1])])"
            ]
          },
          "metadata": {},
          "execution_count": 160
        }
      ]
    },
    {
      "cell_type": "code",
      "source": [
        "# Calculate the average rating for each genre\n",
        "\n",
        "avg_genre_rating = {k:np.mean(np.array(v)) for k, v in genre_ratings.items()}\n",
        "avg_genre_rating"
      ],
      "metadata": {
        "colab": {
          "base_uri": "https://localhost:8080/"
        },
        "id": "IZrCrJSbhD9Q",
        "outputId": "b2e53b35-9ab5-459c-f7da-4c11a2d444b5"
      },
      "execution_count": 161,
      "outputs": [
        {
          "output_type": "execute_result",
          "data": {
            "text/plain": [
              "{'Drama': 8.320338983050846,\n",
              " 'Crime': 8.36078431372549,\n",
              " 'Action': 8.350000000000001,\n",
              " 'Biography': 8.248275862068963,\n",
              " 'History': 8.27,\n",
              " 'Adventure': 8.3,\n",
              " 'Western': 8.328571428571431,\n",
              " 'Romance': 8.29565217391304,\n",
              " 'Sci-Fi': 8.36,\n",
              " 'Fantasy': 8.307142857142855,\n",
              " 'Mystery': 8.325806451612902,\n",
              " 'Family': 8.253846153846153,\n",
              " 'Thriller': 8.256666666666666,\n",
              " 'War': 8.291304347826085,\n",
              " 'Comedy': 8.231111111111112,\n",
              " 'Animation': 8.256521739130434,\n",
              " 'Music': 8.399999999999999,\n",
              " 'Horror': 8.34,\n",
              " 'Film-Noir': 8.225000000000001,\n",
              " 'Musical': 8.3,\n",
              " 'Sport': 8.16}"
            ]
          },
          "metadata": {},
          "execution_count": 161
        }
      ]
    },
    {
      "cell_type": "code",
      "source": [
        "# Identify the genre with the highest average rating\n",
        "\n",
        "highest_rated_genre = max(avg_genre_rating, key= lambda x: avg_genre_rating[x])\n",
        "print(highest_rated_genre, ':\\t Average rating =', avg_genre_rating.get(highest_rated_genre))"
      ],
      "metadata": {
        "colab": {
          "base_uri": "https://localhost:8080/"
        },
        "id": "3-CC6HwDipjK",
        "outputId": "6b16b80d-b7dc-43fd-c95d-172aa1711bbc"
      },
      "execution_count": 162,
      "outputs": [
        {
          "output_type": "stream",
          "name": "stdout",
          "text": [
            "Music :\t Average rating = 8.399999999999999\n"
          ]
        }
      ]
    },
    {
      "cell_type": "markdown",
      "source": [
        "**For the movies rated above 8, find the top 5 movie directors based on average ratings**"
      ],
      "metadata": {
        "id": "NcWr6XCtj9PI"
      }
    },
    {
      "cell_type": "code",
      "source": [
        "# Filter the dataset to include only movies rated above 8\n",
        "\n",
        "above_8_rating_mov = top_250_movies[top_250_movies['rating'] > 8]\n",
        "print('Dimensions: ', above_8_rating_mov.shape, '\\n')\n",
        "above_8_rating_mov.head()"
      ],
      "metadata": {
        "colab": {
          "base_uri": "https://localhost:8080/",
          "height": 553
        },
        "id": "a1zG3tsnjM3e",
        "outputId": "21fc3769-85c5-49ff-c554-15161c368ee6"
      },
      "execution_count": 163,
      "outputs": [
        {
          "output_type": "stream",
          "name": "stdout",
          "text": [
            "Dimensions:  (245, 13) \n",
            "\n"
          ]
        },
        {
          "output_type": "execute_result",
          "data": {
            "text/plain": [
              "   rank                      name  year  rating               genre  \\\n",
              "0     1  The Shawshank Redemption  1994     9.3               Drama   \n",
              "1     2             The Godfather  1972     9.2         Crime,Drama   \n",
              "2     3           The Dark Knight  2008     9.0  Action,Crime,Drama   \n",
              "3     4     The Godfather Part II  1974     9.0         Crime,Drama   \n",
              "4     5              12 Angry Men  1957     9.0         Crime,Drama   \n",
              "\n",
              "  certificate run_time                                            tagline  \\\n",
              "0           R   2h 22m  Fear can hold you prisoner. Hope can set you f...   \n",
              "1           R   2h 55m                         An offer you can't refuse.   \n",
              "2       PG-13   2h 32m                                    Why So Serious?   \n",
              "3           R   3h 22m       All the power on earth can't change destiny.   \n",
              "4    Approved   1h 36m  Life Is In Their Hands -- Death Is On Their Mi...   \n",
              "\n",
              "   budget   box_office                                              casts  \\\n",
              "0   25.00    28.884504  Tim Robbins,Morgan Freeman,Bob Gunton,William ...   \n",
              "1    6.00   250.341816  Marlon Brando,Al Pacino,James Caan,Diane Keato...   \n",
              "2  185.00  1006.234167  Christian Bale,Heath Ledger,Aaron Eckhart,Mich...   \n",
              "3   13.00    47.961919  Al Pacino,Robert De Niro,Robert Duvall,Diane K...   \n",
              "4    0.35     0.000955  Henry Fonda,Lee J. Cobb,Martin Balsam,John Fie...   \n",
              "\n",
              "              directors                                          writers  \n",
              "0        Frank Darabont                      Stephen King,Frank Darabont  \n",
              "1  Francis Ford Coppola                  Mario Puzo,Francis Ford Coppola  \n",
              "2     Christopher Nolan  Jonathan Nolan,Christopher Nolan,David S. Goyer  \n",
              "3  Francis Ford Coppola                  Francis Ford Coppola,Mario Puzo  \n",
              "4          Sidney Lumet                                    Reginald Rose  "
            ],
            "text/html": [
              "\n",
              "  <div id=\"df-b3253996-56ea-4983-b419-1510fcd3ca41\" class=\"colab-df-container\">\n",
              "    <div>\n",
              "<style scoped>\n",
              "    .dataframe tbody tr th:only-of-type {\n",
              "        vertical-align: middle;\n",
              "    }\n",
              "\n",
              "    .dataframe tbody tr th {\n",
              "        vertical-align: top;\n",
              "    }\n",
              "\n",
              "    .dataframe thead th {\n",
              "        text-align: right;\n",
              "    }\n",
              "</style>\n",
              "<table border=\"1\" class=\"dataframe\">\n",
              "  <thead>\n",
              "    <tr style=\"text-align: right;\">\n",
              "      <th></th>\n",
              "      <th>rank</th>\n",
              "      <th>name</th>\n",
              "      <th>year</th>\n",
              "      <th>rating</th>\n",
              "      <th>genre</th>\n",
              "      <th>certificate</th>\n",
              "      <th>run_time</th>\n",
              "      <th>tagline</th>\n",
              "      <th>budget</th>\n",
              "      <th>box_office</th>\n",
              "      <th>casts</th>\n",
              "      <th>directors</th>\n",
              "      <th>writers</th>\n",
              "    </tr>\n",
              "  </thead>\n",
              "  <tbody>\n",
              "    <tr>\n",
              "      <th>0</th>\n",
              "      <td>1</td>\n",
              "      <td>The Shawshank Redemption</td>\n",
              "      <td>1994</td>\n",
              "      <td>9.3</td>\n",
              "      <td>Drama</td>\n",
              "      <td>R</td>\n",
              "      <td>2h 22m</td>\n",
              "      <td>Fear can hold you prisoner. Hope can set you f...</td>\n",
              "      <td>25.00</td>\n",
              "      <td>28.884504</td>\n",
              "      <td>Tim Robbins,Morgan Freeman,Bob Gunton,William ...</td>\n",
              "      <td>Frank Darabont</td>\n",
              "      <td>Stephen King,Frank Darabont</td>\n",
              "    </tr>\n",
              "    <tr>\n",
              "      <th>1</th>\n",
              "      <td>2</td>\n",
              "      <td>The Godfather</td>\n",
              "      <td>1972</td>\n",
              "      <td>9.2</td>\n",
              "      <td>Crime,Drama</td>\n",
              "      <td>R</td>\n",
              "      <td>2h 55m</td>\n",
              "      <td>An offer you can't refuse.</td>\n",
              "      <td>6.00</td>\n",
              "      <td>250.341816</td>\n",
              "      <td>Marlon Brando,Al Pacino,James Caan,Diane Keato...</td>\n",
              "      <td>Francis Ford Coppola</td>\n",
              "      <td>Mario Puzo,Francis Ford Coppola</td>\n",
              "    </tr>\n",
              "    <tr>\n",
              "      <th>2</th>\n",
              "      <td>3</td>\n",
              "      <td>The Dark Knight</td>\n",
              "      <td>2008</td>\n",
              "      <td>9.0</td>\n",
              "      <td>Action,Crime,Drama</td>\n",
              "      <td>PG-13</td>\n",
              "      <td>2h 32m</td>\n",
              "      <td>Why So Serious?</td>\n",
              "      <td>185.00</td>\n",
              "      <td>1006.234167</td>\n",
              "      <td>Christian Bale,Heath Ledger,Aaron Eckhart,Mich...</td>\n",
              "      <td>Christopher Nolan</td>\n",
              "      <td>Jonathan Nolan,Christopher Nolan,David S. Goyer</td>\n",
              "    </tr>\n",
              "    <tr>\n",
              "      <th>3</th>\n",
              "      <td>4</td>\n",
              "      <td>The Godfather Part II</td>\n",
              "      <td>1974</td>\n",
              "      <td>9.0</td>\n",
              "      <td>Crime,Drama</td>\n",
              "      <td>R</td>\n",
              "      <td>3h 22m</td>\n",
              "      <td>All the power on earth can't change destiny.</td>\n",
              "      <td>13.00</td>\n",
              "      <td>47.961919</td>\n",
              "      <td>Al Pacino,Robert De Niro,Robert Duvall,Diane K...</td>\n",
              "      <td>Francis Ford Coppola</td>\n",
              "      <td>Francis Ford Coppola,Mario Puzo</td>\n",
              "    </tr>\n",
              "    <tr>\n",
              "      <th>4</th>\n",
              "      <td>5</td>\n",
              "      <td>12 Angry Men</td>\n",
              "      <td>1957</td>\n",
              "      <td>9.0</td>\n",
              "      <td>Crime,Drama</td>\n",
              "      <td>Approved</td>\n",
              "      <td>1h 36m</td>\n",
              "      <td>Life Is In Their Hands -- Death Is On Their Mi...</td>\n",
              "      <td>0.35</td>\n",
              "      <td>0.000955</td>\n",
              "      <td>Henry Fonda,Lee J. Cobb,Martin Balsam,John Fie...</td>\n",
              "      <td>Sidney Lumet</td>\n",
              "      <td>Reginald Rose</td>\n",
              "    </tr>\n",
              "  </tbody>\n",
              "</table>\n",
              "</div>\n",
              "    <div class=\"colab-df-buttons\">\n",
              "\n",
              "  <div class=\"colab-df-container\">\n",
              "    <button class=\"colab-df-convert\" onclick=\"convertToInteractive('df-b3253996-56ea-4983-b419-1510fcd3ca41')\"\n",
              "            title=\"Convert this dataframe to an interactive table.\"\n",
              "            style=\"display:none;\">\n",
              "\n",
              "  <svg xmlns=\"http://www.w3.org/2000/svg\" height=\"24px\" viewBox=\"0 -960 960 960\">\n",
              "    <path d=\"M120-120v-720h720v720H120Zm60-500h600v-160H180v160Zm220 220h160v-160H400v160Zm0 220h160v-160H400v160ZM180-400h160v-160H180v160Zm440 0h160v-160H620v160ZM180-180h160v-160H180v160Zm440 0h160v-160H620v160Z\"/>\n",
              "  </svg>\n",
              "    </button>\n",
              "\n",
              "  <style>\n",
              "    .colab-df-container {\n",
              "      display:flex;\n",
              "      gap: 12px;\n",
              "    }\n",
              "\n",
              "    .colab-df-convert {\n",
              "      background-color: #E8F0FE;\n",
              "      border: none;\n",
              "      border-radius: 50%;\n",
              "      cursor: pointer;\n",
              "      display: none;\n",
              "      fill: #1967D2;\n",
              "      height: 32px;\n",
              "      padding: 0 0 0 0;\n",
              "      width: 32px;\n",
              "    }\n",
              "\n",
              "    .colab-df-convert:hover {\n",
              "      background-color: #E2EBFA;\n",
              "      box-shadow: 0px 1px 2px rgba(60, 64, 67, 0.3), 0px 1px 3px 1px rgba(60, 64, 67, 0.15);\n",
              "      fill: #174EA6;\n",
              "    }\n",
              "\n",
              "    .colab-df-buttons div {\n",
              "      margin-bottom: 4px;\n",
              "    }\n",
              "\n",
              "    [theme=dark] .colab-df-convert {\n",
              "      background-color: #3B4455;\n",
              "      fill: #D2E3FC;\n",
              "    }\n",
              "\n",
              "    [theme=dark] .colab-df-convert:hover {\n",
              "      background-color: #434B5C;\n",
              "      box-shadow: 0px 1px 3px 1px rgba(0, 0, 0, 0.15);\n",
              "      filter: drop-shadow(0px 1px 2px rgba(0, 0, 0, 0.3));\n",
              "      fill: #FFFFFF;\n",
              "    }\n",
              "  </style>\n",
              "\n",
              "    <script>\n",
              "      const buttonEl =\n",
              "        document.querySelector('#df-b3253996-56ea-4983-b419-1510fcd3ca41 button.colab-df-convert');\n",
              "      buttonEl.style.display =\n",
              "        google.colab.kernel.accessAllowed ? 'block' : 'none';\n",
              "\n",
              "      async function convertToInteractive(key) {\n",
              "        const element = document.querySelector('#df-b3253996-56ea-4983-b419-1510fcd3ca41');\n",
              "        const dataTable =\n",
              "          await google.colab.kernel.invokeFunction('convertToInteractive',\n",
              "                                                    [key], {});\n",
              "        if (!dataTable) return;\n",
              "\n",
              "        const docLinkHtml = 'Like what you see? Visit the ' +\n",
              "          '<a target=\"_blank\" href=https://colab.research.google.com/notebooks/data_table.ipynb>data table notebook</a>'\n",
              "          + ' to learn more about interactive tables.';\n",
              "        element.innerHTML = '';\n",
              "        dataTable['output_type'] = 'display_data';\n",
              "        await google.colab.output.renderOutput(dataTable, element);\n",
              "        const docLink = document.createElement('div');\n",
              "        docLink.innerHTML = docLinkHtml;\n",
              "        element.appendChild(docLink);\n",
              "      }\n",
              "    </script>\n",
              "  </div>\n",
              "\n",
              "\n",
              "<div id=\"df-7b962129-ef09-4028-99f5-5ed1fe8b0212\">\n",
              "  <button class=\"colab-df-quickchart\" onclick=\"quickchart('df-7b962129-ef09-4028-99f5-5ed1fe8b0212')\"\n",
              "            title=\"Suggest charts.\"\n",
              "            style=\"display:none;\">\n",
              "\n",
              "<svg xmlns=\"http://www.w3.org/2000/svg\" height=\"24px\"viewBox=\"0 0 24 24\"\n",
              "     width=\"24px\">\n",
              "    <g>\n",
              "        <path d=\"M19 3H5c-1.1 0-2 .9-2 2v14c0 1.1.9 2 2 2h14c1.1 0 2-.9 2-2V5c0-1.1-.9-2-2-2zM9 17H7v-7h2v7zm4 0h-2V7h2v10zm4 0h-2v-4h2v4z\"/>\n",
              "    </g>\n",
              "</svg>\n",
              "  </button>\n",
              "\n",
              "<style>\n",
              "  .colab-df-quickchart {\n",
              "      --bg-color: #E8F0FE;\n",
              "      --fill-color: #1967D2;\n",
              "      --hover-bg-color: #E2EBFA;\n",
              "      --hover-fill-color: #174EA6;\n",
              "      --disabled-fill-color: #AAA;\n",
              "      --disabled-bg-color: #DDD;\n",
              "  }\n",
              "\n",
              "  [theme=dark] .colab-df-quickchart {\n",
              "      --bg-color: #3B4455;\n",
              "      --fill-color: #D2E3FC;\n",
              "      --hover-bg-color: #434B5C;\n",
              "      --hover-fill-color: #FFFFFF;\n",
              "      --disabled-bg-color: #3B4455;\n",
              "      --disabled-fill-color: #666;\n",
              "  }\n",
              "\n",
              "  .colab-df-quickchart {\n",
              "    background-color: var(--bg-color);\n",
              "    border: none;\n",
              "    border-radius: 50%;\n",
              "    cursor: pointer;\n",
              "    display: none;\n",
              "    fill: var(--fill-color);\n",
              "    height: 32px;\n",
              "    padding: 0;\n",
              "    width: 32px;\n",
              "  }\n",
              "\n",
              "  .colab-df-quickchart:hover {\n",
              "    background-color: var(--hover-bg-color);\n",
              "    box-shadow: 0 1px 2px rgba(60, 64, 67, 0.3), 0 1px 3px 1px rgba(60, 64, 67, 0.15);\n",
              "    fill: var(--button-hover-fill-color);\n",
              "  }\n",
              "\n",
              "  .colab-df-quickchart-complete:disabled,\n",
              "  .colab-df-quickchart-complete:disabled:hover {\n",
              "    background-color: var(--disabled-bg-color);\n",
              "    fill: var(--disabled-fill-color);\n",
              "    box-shadow: none;\n",
              "  }\n",
              "\n",
              "  .colab-df-spinner {\n",
              "    border: 2px solid var(--fill-color);\n",
              "    border-color: transparent;\n",
              "    border-bottom-color: var(--fill-color);\n",
              "    animation:\n",
              "      spin 1s steps(1) infinite;\n",
              "  }\n",
              "\n",
              "  @keyframes spin {\n",
              "    0% {\n",
              "      border-color: transparent;\n",
              "      border-bottom-color: var(--fill-color);\n",
              "      border-left-color: var(--fill-color);\n",
              "    }\n",
              "    20% {\n",
              "      border-color: transparent;\n",
              "      border-left-color: var(--fill-color);\n",
              "      border-top-color: var(--fill-color);\n",
              "    }\n",
              "    30% {\n",
              "      border-color: transparent;\n",
              "      border-left-color: var(--fill-color);\n",
              "      border-top-color: var(--fill-color);\n",
              "      border-right-color: var(--fill-color);\n",
              "    }\n",
              "    40% {\n",
              "      border-color: transparent;\n",
              "      border-right-color: var(--fill-color);\n",
              "      border-top-color: var(--fill-color);\n",
              "    }\n",
              "    60% {\n",
              "      border-color: transparent;\n",
              "      border-right-color: var(--fill-color);\n",
              "    }\n",
              "    80% {\n",
              "      border-color: transparent;\n",
              "      border-right-color: var(--fill-color);\n",
              "      border-bottom-color: var(--fill-color);\n",
              "    }\n",
              "    90% {\n",
              "      border-color: transparent;\n",
              "      border-bottom-color: var(--fill-color);\n",
              "    }\n",
              "  }\n",
              "</style>\n",
              "\n",
              "  <script>\n",
              "    async function quickchart(key) {\n",
              "      const quickchartButtonEl =\n",
              "        document.querySelector('#' + key + ' button');\n",
              "      quickchartButtonEl.disabled = true;  // To prevent multiple clicks.\n",
              "      quickchartButtonEl.classList.add('colab-df-spinner');\n",
              "      try {\n",
              "        const charts = await google.colab.kernel.invokeFunction(\n",
              "            'suggestCharts', [key], {});\n",
              "      } catch (error) {\n",
              "        console.error('Error during call to suggestCharts:', error);\n",
              "      }\n",
              "      quickchartButtonEl.classList.remove('colab-df-spinner');\n",
              "      quickchartButtonEl.classList.add('colab-df-quickchart-complete');\n",
              "    }\n",
              "    (() => {\n",
              "      let quickchartButtonEl =\n",
              "        document.querySelector('#df-7b962129-ef09-4028-99f5-5ed1fe8b0212 button');\n",
              "      quickchartButtonEl.style.display =\n",
              "        google.colab.kernel.accessAllowed ? 'block' : 'none';\n",
              "    })();\n",
              "  </script>\n",
              "</div>\n",
              "    </div>\n",
              "  </div>\n"
            ]
          },
          "metadata": {},
          "execution_count": 163
        }
      ]
    },
    {
      "cell_type": "code",
      "source": [
        "# Find the number of directors in thsi filtered grouping of highly rated movies\n",
        "\n",
        "len(above_8_rating_mov['directors'].unique())"
      ],
      "metadata": {
        "colab": {
          "base_uri": "https://localhost:8080/"
        },
        "id": "5CHcDBZ4kFnC",
        "outputId": "8ee1181a-e1cc-4978-fd8d-35e48f12cac0"
      },
      "execution_count": 164,
      "outputs": [
        {
          "output_type": "execute_result",
          "data": {
            "text/plain": [
              "156"
            ]
          },
          "metadata": {},
          "execution_count": 164
        }
      ]
    },
    {
      "cell_type": "code",
      "source": [
        "# Group the filtered dataset by directors\n",
        "\n",
        "grp_by_directors = above_8_rating_mov.groupby('directors')"
      ],
      "metadata": {
        "id": "_qGLBQXrlQIB"
      },
      "execution_count": 165,
      "outputs": []
    },
    {
      "cell_type": "code",
      "source": [
        "#Calculate the average rating for each director\n",
        "\n",
        "average_rating = grp_by_directors['rating'].mean()\n",
        "average_rating"
      ],
      "metadata": {
        "colab": {
          "base_uri": "https://localhost:8080/"
        },
        "id": "sKn7Ngekl12J",
        "outputId": "90161934-e44e-49d8-a9e0-fc4852e58907"
      },
      "execution_count": 166,
      "outputs": [
        {
          "output_type": "execute_result",
          "data": {
            "text/plain": [
              "directors\n",
              "Aamir Khan,Amole Gupte(uncredited)    8.300000\n",
              "Adam Elliot                           8.100000\n",
              "Akira Kurosawa                        8.300000\n",
              "Alejandro G. Iñárritu                 8.100000\n",
              "Alfred Hitchcock                      8.316667\n",
              "                                        ...   \n",
              "William Friedkin                      8.100000\n",
              "William Wyler                         8.100000\n",
              "Wolfgang Petersen                     8.400000\n",
              "Yasujirô Ozu                          8.200000\n",
              "Çagan Irmak                           8.200000\n",
              "Name: rating, Length: 156, dtype: float64"
            ]
          },
          "metadata": {},
          "execution_count": 166
        }
      ]
    },
    {
      "cell_type": "code",
      "source": [
        "# Sort the directors by average rating in descending order\n",
        "\n",
        "sorted_directors = average_rating.sort_values(ascending=False)"
      ],
      "metadata": {
        "id": "-cyJGJgdl8WL"
      },
      "execution_count": 167,
      "outputs": []
    },
    {
      "cell_type": "code",
      "source": [
        "# Top 5 directors with the highest average ratings\n",
        "\n",
        "top_5_directors = sorted_directors.head(5)\n",
        "\n",
        "print(\"Top 5 Movie Directors Based on average ratings for movies rated above 8:\")\n",
        "top_5_directors"
      ],
      "metadata": {
        "colab": {
          "base_uri": "https://localhost:8080/"
        },
        "id": "aNj24U9dmHLS",
        "outputId": "8f444970-9dab-4614-ae58-14db9be42f9e"
      },
      "execution_count": 168,
      "outputs": [
        {
          "output_type": "stream",
          "name": "stdout",
          "text": [
            "Top 5 Movie Directors Based on average ratings for movies rated above 8:\n"
          ]
        },
        {
          "output_type": "execute_result",
          "data": {
            "text/plain": [
              "directors\n",
              "Frank Darabont                    8.950000\n",
              "Francis Ford Coppola              8.900000\n",
              "Peter Jackson                     8.866667\n",
              "T.J. Gnanavel                     8.800000\n",
              "Lana Wachowski,Lilly Wachowski    8.700000\n",
              "Name: rating, dtype: float64"
            ]
          },
          "metadata": {},
          "execution_count": 168
        }
      ]
    },
    {
      "cell_type": "markdown",
      "source": [
        "**Study the relationship between the following factors and report any findings through relevant plots**\n",
        "\n",
        "*   **Rating**\n",
        "*   **Budget**\n",
        "*   **Box office**\n",
        "\n"
      ],
      "metadata": {
        "id": "PGNsmJsrnTXZ"
      }
    },
    {
      "cell_type": "code",
      "source": [
        "# Correlation using pairplot\n",
        "\n",
        "movie_relations = top_250_movies.loc[:, top_250_movies.columns.isin(['rating', 'budget', 'box_office'])]\n",
        "\n",
        "for i in range(0, len(movie_relations.columns),5):\n",
        "    sns.pairplot(movie_relations, y_vars ='rating', x_vars = movie_relations.columns[i:i+5])\n",
        "\n"
      ],
      "metadata": {
        "colab": {
          "base_uri": "https://localhost:8080/",
          "height": 268
        },
        "id": "L1f24RDArrKC",
        "outputId": "1c8c7d06-cf2e-49d0-9b66-ab139e93f5f3"
      },
      "execution_count": 169,
      "outputs": [
        {
          "output_type": "display_data",
          "data": {
            "text/plain": [
              "<Figure size 750x250 with 4 Axes>"
            ],
            "image/png": "[encoded data removed]"
          },
          "metadata": {}
        }
      ]
    },
    {
      "cell_type": "code",
      "source": [
        "# Rating V/s Budget (Scatter Plot)\n",
        "\n",
        "px.scatter(top_250_movies, x='rating', y='budget', color='genre', title='Rating V/s Budget', color_discrete_sequence = px.colors.diverging.delta)"
      ],
      "metadata": {
        "colab": {
          "base_uri": "https://localhost:8080/",
          "height": 542
        },
        "id": "TKVF7TBclIc3",
        "outputId": "65ba2d7f-7565-4a05-e501-f1877a60a86a"
      },
      "execution_count": 174,
      "outputs": [
        {
          "output_type": "display_data",
          "data": {
            "text/html": [
              "<html>\n",
              "<head><meta charset=\"utf-8\" /></head>\n",
              "<body>\n",
              "    <div>            <script src=\"https://cdnjs.cloudflare.com/ajax/libs/mathjax/2.7.5/MathJax.js?config=TeX-AMS-MML_SVG\"></script><script type=\"text/javascript\">if (window.MathJax && window.MathJax.Hub && window.MathJax.Hub.Config) {window.MathJax.Hub.Config({SVG: {font: \"STIX-Web\"}});}</script>                <script type=\"text/javascript\">window.PlotlyConfig = {MathJaxConfig: 'local'};</script>\n",
              "        <script charset=\"utf-8\" src=\"https://cdn.plot.ly/plotly-2.24.1.min.js\"></script>                <div id=\"20382d53-d591-4e5e-9834-2a2d2646d27b\" class=\"plotly-graph-div\" style=\"height:525px; width:100%;\"></div>            <script type=\"text/javascript\">                                    window.PLOTLYENV=window.PLOTLYENV || {};                                    if (document.getElementById(\"20382d53-d591-4e5e-9834-2a2d2646d27b\")) {                    Plotly.newPlot(                        \"20382d53-d591-4e5e-9834-2a2d2646d27b\",                        [{\"hovertemplate\":\"genre=Drama\\u003cbr\\u003erating=%{x}\\u003cbr\\u003ebudget=%{y}\\u003cextra\\u003e\\u003c\\u002fextra\\u003e\",\"legendgroup\":\"Drama\",\"marker\":{\"color\":\"rgb(16, 31, 63)\",\"symbol\":\"circle\"},\"mode\":\"markers\",\"name\":\"Drama\",\"orientation\":\"v\",\"showlegend\":true,\"x\":[9.3,8.8,8.7,8.4,8.3,8.4,8.3,8.3,8.3,8.3,8.2,8.2,8.1,8.1,8.2,8.1,8.3,8.1,8.1],\"xaxis\":\"x\",\"y\":[25.0,63.0,3.0,15.0,4.5,15.0,15.0,15.0,0.5,0.13300000131130219,1.399999976158142,25.0,1.5,33.0,15.0,3.799999952316284,15.0,0.800000011920929,25.0],\"yaxis\":\"y\",\"type\":\"scatter\"},{\"hovertemplate\":\"genre=Crime,Drama\\u003cbr\\u003erating=%{x}\\u003cbr\\u003ebudget=%{y}\\u003cextra\\u003e\\u003c\\u002fextra\\u003e\",\"legendgroup\":\"Crime,Drama\",\"marker\":{\"color\":\"rgb(38, 62, 144)\",\"symbol\":\"circle\"},\"mode\":\"markers\",\"name\":\"Crime,Drama\",\"orientation\":\"v\",\"showlegend\":true,\"x\":[9.2,9.0,9.0,8.9,8.6,8.5,8.3,8.3,8.3,8.2,8.2,8.1,8.1,8.1],\"xaxis\":\"x\",\"y\":[6.0,13.0,0.3499999940395355,8.0,3.299999952316284,20.0,30.0,25.0,2.0,1.2999999523162842,52.0,15.0,3.200000047683716,15.0],\"yaxis\":\"y\",\"type\":\"scatter\"},{\"hovertemplate\":\"genre=Action,Crime,Drama\\u003cbr\\u003erating=%{x}\\u003cbr\\u003ebudget=%{y}\\u003cextra\\u003e\\u003c\\u002fextra\\u003e\",\"legendgroup\":\"Action,Crime,Drama\",\"marker\":{\"color\":\"rgb(30, 110, 161)\",\"symbol\":\"circle\"},\"mode\":\"markers\",\"name\":\"Action,Crime,Drama\",\"orientation\":\"v\",\"showlegend\":true,\"x\":[9.0,8.5,8.3,8.2,8.2],\"xaxis\":\"x\",\"y\":[185.0,15.0,60.0,150.0,30.0],\"yaxis\":\"y\",\"type\":\"scatter\"},{\"hovertemplate\":\"genre=Biography,Drama,History\\u003cbr\\u003erating=%{x}\\u003cbr\\u003ebudget=%{y}\\u003cextra\\u003e\\u003c\\u002fextra\\u003e\",\"legendgroup\":\"Biography,Drama,History\",\"marker\":{\"color\":\"rgb(60, 154, 171)\",\"symbol\":\"circle\"},\"mode\":\"markers\",\"name\":\"Biography,Drama,History\",\"orientation\":\"v\",\"showlegend\":true,\"x\":[9.0,8.4,8.4,8.2,8.1,8.1,8.2,8.1,8.0],\"xaxis\":\"x\",\"y\":[22.0,72.0,15.0,13.5,20.0,40.0,15.0,17.5,22.0],\"yaxis\":\"y\",\"type\":\"scatter\"},{\"hovertemplate\":\"genre=Action,Adventure,Drama\\u003cbr\\u003erating=%{x}\\u003cbr\\u003ebudget=%{y}\\u003cextra\\u003e\\u003c\\u002fextra\\u003e\",\"legendgroup\":\"Action,Adventure,Drama\",\"marker\":{\"color\":\"rgb(140, 193, 186)\",\"symbol\":\"circle\"},\"mode\":\"markers\",\"name\":\"Action,Adventure,Drama\",\"orientation\":\"v\",\"showlegend\":true,\"x\":[9.0,8.8,8.8,8.5,8.4],\"xaxis\":\"x\",\"y\":[94.0,93.0,94.0,103.0,356.0],\"yaxis\":\"y\",\"type\":\"scatter\"},{\"hovertemplate\":\"genre=Adventure,Western\\u003cbr\\u003erating=%{x}\\u003cbr\\u003ebudget=%{y}\\u003cextra\\u003e\\u003c\\u002fextra\\u003e\",\"legendgroup\":\"Adventure,Western\",\"marker\":{\"color\":\"rgb(217, 229, 218)\",\"symbol\":\"circle\"},\"mode\":\"markers\",\"name\":\"Adventure,Western\",\"orientation\":\"v\",\"showlegend\":true,\"x\":[8.8],\"xaxis\":\"x\",\"y\":[1.2000000476837158],\"yaxis\":\"y\",\"type\":\"scatter\"},{\"hovertemplate\":\"genre=Drama,Romance\\u003cbr\\u003erating=%{x}\\u003cbr\\u003ebudget=%{y}\\u003cextra\\u003e\\u003c\\u002fextra\\u003e\",\"legendgroup\":\"Drama,Romance\",\"marker\":{\"color\":\"rgb(239, 226, 156)\",\"symbol\":\"circle\"},\"mode\":\"markers\",\"name\":\"Drama,Romance\",\"orientation\":\"v\",\"showlegend\":true,\"x\":[8.8,8.5,8.3,8.1,8.1,8.1],\"xaxis\":\"x\",\"y\":[55.0,5.0,15.0,2.5,15.0,15.0],\"yaxis\":\"y\",\"type\":\"scatter\"},{\"hovertemplate\":\"genre=Action,Adventure,Sci-Fi\\u003cbr\\u003erating=%{x}\\u003cbr\\u003ebudget=%{y}\\u003cextra\\u003e\\u003c\\u002fextra\\u003e\",\"legendgroup\":\"Action,Adventure,Sci-Fi\",\"marker\":{\"color\":\"rgb(195, 182, 59)\",\"symbol\":\"circle\"},\"mode\":\"markers\",\"name\":\"Action,Adventure,Sci-Fi\",\"orientation\":\"v\",\"showlegend\":true,\"x\":[8.8,8.4,8.4,8.2,8.1],\"xaxis\":\"x\",\"y\":[160.0,321.0,18.5,63.0,150.0],\"yaxis\":\"y\",\"type\":\"scatter\"},{\"hovertemplate\":\"genre=Action,Adventure,Fantasy\\u003cbr\\u003erating=%{x}\\u003cbr\\u003ebudget=%{y}\\u003cextra\\u003e\\u003c\\u002fextra\\u003e\",\"legendgroup\":\"Action,Adventure,Fantasy\",\"marker\":{\"color\":\"rgb(115, 152, 5)\",\"symbol\":\"circle\"},\"mode\":\"markers\",\"name\":\"Action,Adventure,Fantasy\",\"orientation\":\"v\",\"showlegend\":true,\"x\":[8.7,8.6,8.3,8.2,8.1],\"xaxis\":\"x\",\"y\":[18.0,11.0,32.5,200.0,140.0],\"yaxis\":\"y\",\"type\":\"scatter\"},{\"hovertemplate\":\"genre=Action,Sci-Fi\\u003cbr\\u003erating=%{x}\\u003cbr\\u003ebudget=%{y}\\u003cextra\\u003e\\u003c\\u002fextra\\u003e\",\"legendgroup\":\"Action,Sci-Fi\",\"marker\":{\"color\":\"rgb(34, 120, 36)\",\"symbol\":\"circle\"},\"mode\":\"markers\",\"name\":\"Action,Sci-Fi\",\"orientation\":\"v\",\"showlegend\":true,\"x\":[8.7,8.6,8.1],\"xaxis\":\"x\",\"y\":[63.0,102.0,6.400000095367432],\"yaxis\":\"y\",\"type\":\"scatter\"},{\"hovertemplate\":\"genre=Biography,Crime,Drama\\u003cbr\\u003erating=%{x}\\u003cbr\\u003ebudget=%{y}\\u003cextra\\u003e\\u003c\\u002fextra\\u003e\",\"legendgroup\":\"Biography,Crime,Drama\",\"marker\":{\"color\":\"rgb(18, 78, 43)\",\"symbol\":\"circle\"},\"mode\":\"markers\",\"name\":\"Biography,Crime,Drama\",\"orientation\":\"v\",\"showlegend\":true,\"x\":[8.7,8.1,8.1,8.1],\"xaxis\":\"x\",\"y\":[25.0,15.0,15.0,20.0],\"yaxis\":\"y\",\"type\":\"scatter\"},{\"hovertemplate\":\"genre=Crime,Drama,Mystery\\u003cbr\\u003erating=%{x}\\u003cbr\\u003ebudget=%{y}\\u003cextra\\u003e\\u003c\\u002fextra\\u003e\",\"legendgroup\":\"Crime,Drama,Mystery\",\"marker\":{\"color\":\"rgb(23, 35, 18)\",\"symbol\":\"circle\"},\"mode\":\"markers\",\"name\":\"Crime,Drama,Mystery\",\"orientation\":\"v\",\"showlegend\":true,\"x\":[8.6,8.5,8.4,8.4,8.2,8.2,8.1,8.1,8.8],\"xaxis\":\"x\",\"y\":[33.0,6.0,3.0,15.0,35.0,0.25,46.0,2.799999952316284,15.0],\"yaxis\":\"y\",\"type\":\"scatter\"},{\"hovertemplate\":\"genre=Action,Drama\\u003cbr\\u003erating=%{x}\\u003cbr\\u003ebudget=%{y}\\u003cextra\\u003e\\u003c\\u002fextra\\u003e\",\"legendgroup\":\"Action,Drama\",\"marker\":{\"color\":\"rgb(16, 31, 63)\",\"symbol\":\"circle\"},\"mode\":\"markers\",\"name\":\"Action,Drama\",\"orientation\":\"v\",\"showlegend\":true,\"x\":[8.6,8.4,8.3],\"xaxis\":\"x\",\"y\":[125.0,250.0,170.0],\"yaxis\":\"y\",\"type\":\"scatter\"},{\"hovertemplate\":\"genre=Drama,Family,Fantasy\\u003cbr\\u003erating=%{x}\\u003cbr\\u003ebudget=%{y}\\u003cextra\\u003e\\u003c\\u002fextra\\u003e\",\"legendgroup\":\"Drama,Family,Fantasy\",\"marker\":{\"color\":\"rgb(38, 62, 144)\",\"symbol\":\"circle\"},\"mode\":\"markers\",\"name\":\"Drama,Family,Fantasy\",\"orientation\":\"v\",\"showlegend\":true,\"x\":[8.6],\"xaxis\":\"x\",\"y\":[3.180000066757202],\"yaxis\":\"y\",\"type\":\"scatter\"},{\"hovertemplate\":\"genre=Crime,Drama,Thriller\\u003cbr\\u003erating=%{x}\\u003cbr\\u003ebudget=%{y}\\u003cextra\\u003e\\u003c\\u002fextra\\u003e\",\"legendgroup\":\"Crime,Drama,Thriller\",\"marker\":{\"color\":\"rgb(30, 110, 161)\",\"symbol\":\"circle\"},\"mode\":\"markers\",\"name\":\"Crime,Drama,Thriller\",\"orientation\":\"v\",\"showlegend\":true,\"x\":[8.6,8.5,8.4,8.2,8.1],\"xaxis\":\"x\",\"y\":[19.0,90.0,55.0,25.0,0.9100000262260437],\"yaxis\":\"y\",\"type\":\"scatter\"},{\"hovertemplate\":\"genre=Drama,War\\u003cbr\\u003erating=%{x}\\u003cbr\\u003ebudget=%{y}\\u003cextra\\u003e\\u003c\\u002fextra\\u003e\",\"legendgroup\":\"Drama,War\",\"marker\":{\"color\":\"rgb(60, 154, 171)\",\"symbol\":\"circle\"},\"mode\":\"markers\",\"name\":\"Drama,War\",\"orientation\":\"v\",\"showlegend\":true,\"x\":[8.6,8.4,8.4,8.3,8.3,8.1,8.1,8.1],\"xaxis\":\"x\",\"y\":[70.0,0.9350000023841858,15.0,30.0,3.0,15.0,6.0,0.800000011920929],\"yaxis\":\"y\",\"type\":\"scatter\"},{\"hovertemplate\":\"genre=Adventure,Drama,Sci-Fi\\u003cbr\\u003erating=%{x}\\u003cbr\\u003ebudget=%{y}\\u003cextra\\u003e\\u003c\\u002fextra\\u003e\",\"legendgroup\":\"Adventure,Drama,Sci-Fi\",\"marker\":{\"color\":\"rgb(140, 193, 186)\",\"symbol\":\"circle\"},\"mode\":\"markers\",\"name\":\"Adventure,Drama,Sci-Fi\",\"orientation\":\"v\",\"showlegend\":true,\"x\":[8.6],\"xaxis\":\"x\",\"y\":[165.0],\"yaxis\":\"y\",\"type\":\"scatter\"},{\"hovertemplate\":\"genre=Comedy,Drama,Romance\\u003cbr\\u003erating=%{x}\\u003cbr\\u003ebudget=%{y}\\u003cextra\\u003e\\u003c\\u002fextra\\u003e\",\"legendgroup\":\"Comedy,Drama,Romance\",\"marker\":{\"color\":\"rgb(217, 229, 218)\",\"symbol\":\"circle\"},\"mode\":\"markers\",\"name\":\"Comedy,Drama,Romance\",\"orientation\":\"v\",\"showlegend\":true,\"x\":[8.6,8.5,8.5,8.3],\"xaxis\":\"x\",\"y\":[20.0,1.5,1.5,3.0],\"yaxis\":\"y\",\"type\":\"scatter\"},{\"hovertemplate\":\"genre=Crime,Drama,Fantasy\\u003cbr\\u003erating=%{x}\\u003cbr\\u003ebudget=%{y}\\u003cextra\\u003e\\u003c\\u002fextra\\u003e\",\"legendgroup\":\"Crime,Drama,Fantasy\",\"marker\":{\"color\":\"rgb(239, 226, 156)\",\"symbol\":\"circle\"},\"mode\":\"markers\",\"name\":\"Crime,Drama,Fantasy\",\"orientation\":\"v\",\"showlegend\":true,\"x\":[8.6],\"xaxis\":\"x\",\"y\":[60.0],\"yaxis\":\"y\",\"type\":\"scatter\"},{\"hovertemplate\":\"genre=Adventure,Comedy,Sci-Fi\\u003cbr\\u003erating=%{x}\\u003cbr\\u003ebudget=%{y}\\u003cextra\\u003e\\u003c\\u002fextra\\u003e\",\"legendgroup\":\"Adventure,Comedy,Sci-Fi\",\"marker\":{\"color\":\"rgb(195, 182, 59)\",\"symbol\":\"circle\"},\"mode\":\"markers\",\"name\":\"Adventure,Comedy,Sci-Fi\",\"orientation\":\"v\",\"showlegend\":true,\"x\":[8.5],\"xaxis\":\"x\",\"y\":[19.0],\"yaxis\":\"y\",\"type\":\"scatter\"},{\"hovertemplate\":\"genre=Animation,Adventure,Family\\u003cbr\\u003erating=%{x}\\u003cbr\\u003ebudget=%{y}\\u003cextra\\u003e\\u003c\\u002fextra\\u003e\",\"legendgroup\":\"Animation,Adventure,Family\",\"marker\":{\"color\":\"rgb(115, 152, 5)\",\"symbol\":\"circle\"},\"mode\":\"markers\",\"name\":\"Animation,Adventure,Family\",\"orientation\":\"v\",\"showlegend\":true,\"x\":[8.6,8.4,8.2],\"xaxis\":\"x\",\"y\":[19.0,180.0,24.0],\"yaxis\":\"y\",\"type\":\"scatter\"},{\"hovertemplate\":\"genre=Biography,Drama,Music\\u003cbr\\u003erating=%{x}\\u003cbr\\u003ebudget=%{y}\\u003cextra\\u003e\\u003c\\u002fextra\\u003e\",\"legendgroup\":\"Biography,Drama,Music\",\"marker\":{\"color\":\"rgb(34, 120, 36)\",\"symbol\":\"circle\"},\"mode\":\"markers\",\"name\":\"Biography,Drama,Music\",\"orientation\":\"v\",\"showlegend\":true,\"x\":[8.5,8.4],\"xaxis\":\"x\",\"y\":[35.0,18.0],\"yaxis\":\"y\",\"type\":\"scatter\"},{\"hovertemplate\":\"genre=Horror,Mystery,Thriller\\u003cbr\\u003erating=%{x}\\u003cbr\\u003ebudget=%{y}\\u003cextra\\u003e\\u003c\\u002fextra\\u003e\",\"legendgroup\":\"Horror,Mystery,Thriller\",\"marker\":{\"color\":\"rgb(18, 78, 43)\",\"symbol\":\"circle\"},\"mode\":\"markers\",\"name\":\"Horror,Mystery,Thriller\",\"orientation\":\"v\",\"showlegend\":true,\"x\":[8.5],\"xaxis\":\"x\",\"y\":[0.8069469928741455],\"yaxis\":\"y\",\"type\":\"scatter\"},{\"hovertemplate\":\"genre=Drama,Thriller\\u003cbr\\u003erating=%{x}\\u003cbr\\u003ebudget=%{y}\\u003cextra\\u003e\\u003c\\u002fextra\\u003e\",\"legendgroup\":\"Drama,Thriller\",\"marker\":{\"color\":\"rgb(23, 35, 18)\",\"symbol\":\"circle\"},\"mode\":\"markers\",\"name\":\"Drama,Thriller\",\"orientation\":\"v\",\"showlegend\":true,\"x\":[8.5,8.1,8.1,8.1],\"xaxis\":\"x\",\"y\":[11.399999618530273,13.0,2.0,15.0],\"yaxis\":\"y\",\"type\":\"scatter\"},{\"hovertemplate\":\"genre=Animation,Adventure,Drama\\u003cbr\\u003erating=%{x}\\u003cbr\\u003ebudget=%{y}\\u003cextra\\u003e\\u003c\\u002fextra\\u003e\",\"legendgroup\":\"Animation,Adventure,Drama\",\"marker\":{\"color\":\"rgb(16, 31, 63)\",\"symbol\":\"circle\"},\"mode\":\"markers\",\"name\":\"Animation,Adventure,Drama\",\"orientation\":\"v\",\"showlegend\":true,\"x\":[8.5],\"xaxis\":\"x\",\"y\":[45.0],\"yaxis\":\"y\",\"type\":\"scatter\"},{\"hovertemplate\":\"genre=Drama,Mystery,Sci-Fi\\u003cbr\\u003erating=%{x}\\u003cbr\\u003ebudget=%{y}\\u003cextra\\u003e\\u003c\\u002fextra\\u003e\",\"legendgroup\":\"Drama,Mystery,Sci-Fi\",\"marker\":{\"color\":\"rgb(38, 62, 144)\",\"symbol\":\"circle\"},\"mode\":\"markers\",\"name\":\"Drama,Mystery,Sci-Fi\",\"orientation\":\"v\",\"showlegend\":true,\"x\":[8.5],\"xaxis\":\"x\",\"y\":[40.0],\"yaxis\":\"y\",\"type\":\"scatter\"},{\"hovertemplate\":\"genre=Drama,Music\\u003cbr\\u003erating=%{x}\\u003cbr\\u003ebudget=%{y}\\u003cextra\\u003e\\u003c\\u002fextra\\u003e\",\"legendgroup\":\"Drama,Music\",\"marker\":{\"color\":\"rgb(30, 110, 161)\",\"symbol\":\"circle\"},\"mode\":\"markers\",\"name\":\"Drama,Music\",\"orientation\":\"v\",\"showlegend\":true,\"x\":[8.5],\"xaxis\":\"x\",\"y\":[3.299999952316284],\"yaxis\":\"y\",\"type\":\"scatter\"},{\"hovertemplate\":\"genre=Drama,Romance,War\\u003cbr\\u003erating=%{x}\\u003cbr\\u003ebudget=%{y}\\u003cextra\\u003e\\u003c\\u002fextra\\u003e\",\"legendgroup\":\"Drama,Romance,War\",\"marker\":{\"color\":\"rgb(60, 154, 171)\",\"symbol\":\"circle\"},\"mode\":\"markers\",\"name\":\"Drama,Romance,War\",\"orientation\":\"v\",\"showlegend\":true,\"x\":[8.5,8.2,8.1],\"xaxis\":\"x\",\"y\":[0.949999988079071,3.9769999980926514,2.0999999046325684],\"yaxis\":\"y\",\"type\":\"scatter\"},{\"hovertemplate\":\"genre=Animation,Drama,War\\u003cbr\\u003erating=%{x}\\u003cbr\\u003ebudget=%{y}\\u003cextra\\u003e\\u003c\\u002fextra\\u003e\",\"legendgroup\":\"Animation,Drama,War\",\"marker\":{\"color\":\"rgb(140, 193, 186)\",\"symbol\":\"circle\"},\"mode\":\"markers\",\"name\":\"Animation,Drama,War\",\"orientation\":\"v\",\"showlegend\":true,\"x\":[8.5],\"xaxis\":\"x\",\"y\":[3.700000047683716],\"yaxis\":\"y\",\"type\":\"scatter\"},{\"hovertemplate\":\"genre=Action,Drama,Mystery\\u003cbr\\u003erating=%{x}\\u003cbr\\u003ebudget=%{y}\\u003cextra\\u003e\\u003c\\u002fextra\\u003e\",\"legendgroup\":\"Action,Drama,Mystery\",\"marker\":{\"color\":\"rgb(217, 229, 218)\",\"symbol\":\"circle\"},\"mode\":\"markers\",\"name\":\"Action,Drama,Mystery\",\"orientation\":\"v\",\"showlegend\":true,\"x\":[8.6,8.4],\"xaxis\":\"x\",\"y\":[15.0,3.0],\"yaxis\":\"y\",\"type\":\"scatter\"},{\"hovertemplate\":\"genre=Biography,Comedy,Drama\\u003cbr\\u003erating=%{x}\\u003cbr\\u003ebudget=%{y}\\u003cextra\\u003e\\u003c\\u002fextra\\u003e\",\"legendgroup\":\"Biography,Comedy,Drama\",\"marker\":{\"color\":\"rgb(239, 226, 156)\",\"symbol\":\"circle\"},\"mode\":\"markers\",\"name\":\"Biography,Comedy,Drama\",\"orientation\":\"v\",\"showlegend\":true,\"x\":[8.5,8.2],\"xaxis\":\"x\",\"y\":[9.5,23.0],\"yaxis\":\"y\",\"type\":\"scatter\"},{\"hovertemplate\":\"genre=Western\\u003cbr\\u003erating=%{x}\\u003cbr\\u003ebudget=%{y}\\u003cextra\\u003e\\u003c\\u002fextra\\u003e\",\"legendgroup\":\"Western\",\"marker\":{\"color\":\"rgb(195, 182, 59)\",\"symbol\":\"circle\"},\"mode\":\"markers\",\"name\":\"Western\",\"orientation\":\"v\",\"showlegend\":true,\"x\":[8.5,8.2],\"xaxis\":\"x\",\"y\":[5.0,0.6000000238418579],\"yaxis\":\"y\",\"type\":\"scatter\"},{\"hovertemplate\":\"genre=Mystery,Thriller\\u003cbr\\u003erating=%{x}\\u003cbr\\u003ebudget=%{y}\\u003cextra\\u003e\\u003c\\u002fextra\\u003e\",\"legendgroup\":\"Mystery,Thriller\",\"marker\":{\"color\":\"rgb(115, 152, 5)\",\"symbol\":\"circle\"},\"mode\":\"markers\",\"name\":\"Mystery,Thriller\",\"orientation\":\"v\",\"showlegend\":true,\"x\":[8.5,8.4,8.2],\"xaxis\":\"x\",\"y\":[1.0,9.0,80.0],\"yaxis\":\"y\",\"type\":\"scatter\"},{\"hovertemplate\":\"genre=Horror,Sci-Fi\\u003cbr\\u003erating=%{x}\\u003cbr\\u003ebudget=%{y}\\u003cextra\\u003e\\u003c\\u002fextra\\u003e\",\"legendgroup\":\"Horror,Sci-Fi\",\"marker\":{\"color\":\"rgb(34, 120, 36)\",\"symbol\":\"circle\"},\"mode\":\"markers\",\"name\":\"Horror,Sci-Fi\",\"orientation\":\"v\",\"showlegend\":true,\"x\":[8.5],\"xaxis\":\"x\",\"y\":[11.0],\"yaxis\":\"y\",\"type\":\"scatter\"},{\"hovertemplate\":\"genre=Drama,Mystery,War\\u003cbr\\u003erating=%{x}\\u003cbr\\u003ebudget=%{y}\\u003cextra\\u003e\\u003c\\u002fextra\\u003e\",\"legendgroup\":\"Drama,Mystery,War\",\"marker\":{\"color\":\"rgb(18, 78, 43)\",\"symbol\":\"circle\"},\"mode\":\"markers\",\"name\":\"Drama,Mystery,War\",\"orientation\":\"v\",\"showlegend\":true,\"x\":[8.5],\"xaxis\":\"x\",\"y\":[31.5],\"yaxis\":\"y\",\"type\":\"scatter\"},{\"hovertemplate\":\"genre=Drama,Western\\u003cbr\\u003erating=%{x}\\u003cbr\\u003ebudget=%{y}\\u003cextra\\u003e\\u003c\\u002fextra\\u003e\",\"legendgroup\":\"Drama,Western\",\"marker\":{\"color\":\"rgb(23, 35, 18)\",\"symbol\":\"circle\"},\"mode\":\"markers\",\"name\":\"Drama,Western\",\"orientation\":\"v\",\"showlegend\":true,\"x\":[8.4,8.2],\"xaxis\":\"x\",\"y\":[100.0,14.399999618530273],\"yaxis\":\"y\",\"type\":\"scatter\"},{\"hovertemplate\":\"genre=Action,Adventure\\u003cbr\\u003erating=%{x}\\u003cbr\\u003ebudget=%{y}\\u003cextra\\u003e\\u003c\\u002fextra\\u003e\",\"legendgroup\":\"Action,Adventure\",\"marker\":{\"color\":\"rgb(16, 31, 63)\",\"symbol\":\"circle\"},\"mode\":\"markers\",\"name\":\"Action,Adventure\",\"orientation\":\"v\",\"showlegend\":true,\"x\":[8.4,8.2],\"xaxis\":\"x\",\"y\":[18.0,48.0],\"yaxis\":\"y\",\"type\":\"scatter\"},{\"hovertemplate\":\"genre=Drama,Mystery,Thriller\\u003cbr\\u003erating=%{x}\\u003cbr\\u003ebudget=%{y}\\u003cextra\\u003e\\u003c\\u002fextra\\u003e\",\"legendgroup\":\"Drama,Mystery,Thriller\",\"marker\":{\"color\":\"rgb(38, 62, 144)\",\"symbol\":\"circle\"},\"mode\":\"markers\",\"name\":\"Drama,Mystery,Thriller\",\"orientation\":\"v\",\"showlegend\":true,\"x\":[8.4,8.2,8.2,8.1],\"xaxis\":\"x\",\"y\":[2.0,40.0,6.0,15.0],\"yaxis\":\"y\",\"type\":\"scatter\"},{\"hovertemplate\":\"genre=Drama,Film-Noir\\u003cbr\\u003erating=%{x}\\u003cbr\\u003ebudget=%{y}\\u003cextra\\u003e\\u003c\\u002fextra\\u003e\",\"legendgroup\":\"Drama,Film-Noir\",\"marker\":{\"color\":\"rgb(30, 110, 161)\",\"symbol\":\"circle\"},\"mode\":\"markers\",\"name\":\"Drama,Film-Noir\",\"orientation\":\"v\",\"showlegend\":true,\"x\":[8.4],\"xaxis\":\"x\",\"y\":[1.7519999742507935],\"yaxis\":\"y\",\"type\":\"scatter\"},{\"hovertemplate\":\"genre=Drama,Horror\\u003cbr\\u003erating=%{x}\\u003cbr\\u003ebudget=%{y}\\u003cextra\\u003e\\u003c\\u002fextra\\u003e\",\"legendgroup\":\"Drama,Horror\",\"marker\":{\"color\":\"rgb(60, 154, 171)\",\"symbol\":\"circle\"},\"mode\":\"markers\",\"name\":\"Drama,Horror\",\"orientation\":\"v\",\"showlegend\":true,\"x\":[8.4],\"xaxis\":\"x\",\"y\":[19.0],\"yaxis\":\"y\",\"type\":\"scatter\"},{\"hovertemplate\":\"genre=Comedy,Drama,War\\u003cbr\\u003erating=%{x}\\u003cbr\\u003ebudget=%{y}\\u003cextra\\u003e\\u003c\\u002fextra\\u003e\",\"legendgroup\":\"Comedy,Drama,War\",\"marker\":{\"color\":\"rgb(140, 193, 186)\",\"symbol\":\"circle\"},\"mode\":\"markers\",\"name\":\"Comedy,Drama,War\",\"orientation\":\"v\",\"showlegend\":true,\"x\":[8.4],\"xaxis\":\"x\",\"y\":[2.0],\"yaxis\":\"y\",\"type\":\"scatter\"},{\"hovertemplate\":\"genre=Animation,Action,Adventure\\u003cbr\\u003erating=%{x}\\u003cbr\\u003ebudget=%{y}\\u003cextra\\u003e\\u003c\\u002fextra\\u003e\",\"legendgroup\":\"Animation,Action,Adventure\",\"marker\":{\"color\":\"rgb(217, 229, 218)\",\"symbol\":\"circle\"},\"mode\":\"markers\",\"name\":\"Animation,Action,Adventure\",\"orientation\":\"v\",\"showlegend\":true,\"x\":[8.4,8.4,8.1,8.0,8.1],\"xaxis\":\"x\",\"y\":[15.0,2400.0,165.0,92.0,70.0],\"yaxis\":\"y\",\"type\":\"scatter\"},{\"hovertemplate\":\"genre=Comedy,War\\u003cbr\\u003erating=%{x}\\u003cbr\\u003ebudget=%{y}\\u003cextra\\u003e\\u003c\\u002fextra\\u003e\",\"legendgroup\":\"Comedy,War\",\"marker\":{\"color\":\"rgb(239, 226, 156)\",\"symbol\":\"circle\"},\"mode\":\"markers\",\"name\":\"Comedy,War\",\"orientation\":\"v\",\"showlegend\":true,\"x\":[8.4],\"xaxis\":\"x\",\"y\":[1.7999999523162842],\"yaxis\":\"y\",\"type\":\"scatter\"},{\"hovertemplate\":\"genre=Adventure,Drama,War\\u003cbr\\u003erating=%{x}\\u003cbr\\u003ebudget=%{y}\\u003cextra\\u003e\\u003c\\u002fextra\\u003e\",\"legendgroup\":\"Adventure,Drama,War\",\"marker\":{\"color\":\"rgb(195, 182, 59)\",\"symbol\":\"circle\"},\"mode\":\"markers\",\"name\":\"Adventure,Drama,War\",\"orientation\":\"v\",\"showlegend\":true,\"x\":[8.3,8.2,8.1],\"xaxis\":\"x\",\"y\":[70.0,3.0,11.0],\"yaxis\":\"y\",\"type\":\"scatter\"},{\"hovertemplate\":\"genre=Animation,Adventure,Comedy\\u003cbr\\u003erating=%{x}\\u003cbr\\u003ebudget=%{y}\\u003cextra\\u003e\\u003c\\u002fextra\\u003e\",\"legendgroup\":\"Animation,Adventure,Comedy\",\"marker\":{\"color\":\"rgb(115, 152, 5)\",\"symbol\":\"circle\"},\"mode\":\"markers\",\"name\":\"Animation,Adventure,Comedy\",\"orientation\":\"v\",\"showlegend\":true,\"x\":[8.4,8.3,8.3,8.3,8.2,8.2,8.2,8.1,8.1,8.0],\"xaxis\":\"x\",\"y\":[175.0,30.0,200.0,175.0,94.0,175.0,15.0,115.0,150.0,15.0],\"yaxis\":\"y\",\"type\":\"scatter\"},{\"hovertemplate\":\"genre=Animation,Drama,Fantasy\\u003cbr\\u003erating=%{x}\\u003cbr\\u003ebudget=%{y}\\u003cextra\\u003e\\u003c\\u002fextra\\u003e\",\"legendgroup\":\"Animation,Drama,Fantasy\",\"marker\":{\"color\":\"rgb(34, 120, 36)\",\"symbol\":\"circle\"},\"mode\":\"markers\",\"name\":\"Animation,Drama,Fantasy\",\"orientation\":\"v\",\"showlegend\":true,\"x\":[8.4],\"xaxis\":\"x\",\"y\":[15.0],\"yaxis\":\"y\",\"type\":\"scatter\"},{\"hovertemplate\":\"genre=Comedy,Drama\\u003cbr\\u003erating=%{x}\\u003cbr\\u003ebudget=%{y}\\u003cextra\\u003e\\u003c\\u002fextra\\u003e\",\"legendgroup\":\"Comedy,Drama\",\"marker\":{\"color\":\"rgb(18, 78, 43)\",\"symbol\":\"circle\"},\"mode\":\"markers\",\"name\":\"Comedy,Drama\",\"orientation\":\"v\",\"showlegend\":true,\"x\":[8.4,8.2,8.1,8.1],\"xaxis\":\"x\",\"y\":[550.0,60.0,1.899999976158142,16.399999618530273],\"yaxis\":\"y\",\"type\":\"scatter\"},{\"hovertemplate\":\"genre=Comedy,Musical,Romance\\u003cbr\\u003erating=%{x}\\u003cbr\\u003ebudget=%{y}\\u003cextra\\u003e\\u003c\\u002fextra\\u003e\",\"legendgroup\":\"Comedy,Musical,Romance\",\"marker\":{\"color\":\"rgb(23, 35, 18)\",\"symbol\":\"circle\"},\"mode\":\"markers\",\"name\":\"Comedy,Musical,Romance\",\"orientation\":\"v\",\"showlegend\":true,\"x\":[8.3],\"xaxis\":\"x\",\"y\":[2.540800094604492],\"yaxis\":\"y\",\"type\":\"scatter\"},{\"hovertemplate\":\"genre=Drama,Romance,Sci-Fi\\u003cbr\\u003erating=%{x}\\u003cbr\\u003ebudget=%{y}\\u003cextra\\u003e\\u003c\\u002fextra\\u003e\",\"legendgroup\":\"Drama,Romance,Sci-Fi\",\"marker\":{\"color\":\"rgb(16, 31, 63)\",\"symbol\":\"circle\"},\"mode\":\"markers\",\"name\":\"Drama,Romance,Sci-Fi\",\"orientation\":\"v\",\"showlegend\":true,\"x\":[8.3],\"xaxis\":\"x\",\"y\":[20.0],\"yaxis\":\"y\",\"type\":\"scatter\"},{\"hovertemplate\":\"genre=Adventure,Sci-Fi\\u003cbr\\u003erating=%{x}\\u003cbr\\u003ebudget=%{y}\\u003cextra\\u003e\\u003c\\u002fextra\\u003e\",\"legendgroup\":\"Adventure,Sci-Fi\",\"marker\":{\"color\":\"rgb(38, 62, 144)\",\"symbol\":\"circle\"},\"mode\":\"markers\",\"name\":\"Adventure,Sci-Fi\",\"orientation\":\"v\",\"showlegend\":true,\"x\":[8.3],\"xaxis\":\"x\",\"y\":[12.0],\"yaxis\":\"y\",\"type\":\"scatter\"},{\"hovertemplate\":\"genre=Crime,Thriller\\u003cbr\\u003erating=%{x}\\u003cbr\\u003ebudget=%{y}\\u003cextra\\u003e\\u003c\\u002fextra\\u003e\",\"legendgroup\":\"Crime,Thriller\",\"marker\":{\"color\":\"rgb(30, 110, 161)\",\"symbol\":\"circle\"},\"mode\":\"markers\",\"name\":\"Crime,Thriller\",\"orientation\":\"v\",\"showlegend\":true,\"x\":[8.3,8.2,8.1],\"xaxis\":\"x\",\"y\":[1.2000000476837158,1.399999976158142,7.0],\"yaxis\":\"y\",\"type\":\"scatter\"},{\"hovertemplate\":\"genre=Drama,Thriller,War\\u003cbr\\u003erating=%{x}\\u003cbr\\u003ebudget=%{y}\\u003cextra\\u003e\\u003c\\u002fextra\\u003e\",\"legendgroup\":\"Drama,Thriller,War\",\"marker\":{\"color\":\"rgb(60, 154, 171)\",\"symbol\":\"circle\"},\"mode\":\"markers\",\"name\":\"Drama,Thriller,War\",\"orientation\":\"v\",\"showlegend\":true,\"x\":[8.4],\"xaxis\":\"x\",\"y\":[15.0],\"yaxis\":\"y\",\"type\":\"scatter\"},{\"hovertemplate\":\"genre=Drama,Mystery\\u003cbr\\u003erating=%{x}\\u003cbr\\u003ebudget=%{y}\\u003cextra\\u003e\\u003c\\u002fextra\\u003e\",\"legendgroup\":\"Drama,Mystery\",\"marker\":{\"color\":\"rgb(140, 193, 186)\",\"symbol\":\"circle\"},\"mode\":\"markers\",\"name\":\"Drama,Mystery\",\"orientation\":\"v\",\"showlegend\":true,\"x\":[8.3,8.3,8.2],\"xaxis\":\"x\",\"y\":[0.839726984500885,6.800000190734863,6.0],\"yaxis\":\"y\",\"type\":\"scatter\"},{\"hovertemplate\":\"genre=Crime,Mystery,Thriller\\u003cbr\\u003erating=%{x}\\u003cbr\\u003ebudget=%{y}\\u003cextra\\u003e\\u003c\\u002fextra\\u003e\",\"legendgroup\":\"Crime,Mystery,Thriller\",\"marker\":{\"color\":\"rgb(217, 229, 218)\",\"symbol\":\"circle\"},\"mode\":\"markers\",\"name\":\"Crime,Mystery,Thriller\",\"orientation\":\"v\",\"showlegend\":true,\"x\":[8.3],\"xaxis\":\"x\",\"y\":[15.0],\"yaxis\":\"y\",\"type\":\"scatter\"},{\"hovertemplate\":\"genre=Adventure,Biography,Drama\\u003cbr\\u003erating=%{x}\\u003cbr\\u003ebudget=%{y}\\u003cextra\\u003e\\u003c\\u002fextra\\u003e\",\"legendgroup\":\"Adventure,Biography,Drama\",\"marker\":{\"color\":\"rgb(239, 226, 156)\",\"symbol\":\"circle\"},\"mode\":\"markers\",\"name\":\"Adventure,Biography,Drama\",\"orientation\":\"v\",\"showlegend\":true,\"x\":[8.3,8.1,8.2],\"xaxis\":\"x\",\"y\":[15.0,15.0,4.0],\"yaxis\":\"y\",\"type\":\"scatter\"},{\"hovertemplate\":\"genre=Action,Adventure,Mystery\\u003cbr\\u003erating=%{x}\\u003cbr\\u003ebudget=%{y}\\u003cextra\\u003e\\u003c\\u002fextra\\u003e\",\"legendgroup\":\"Action,Adventure,Mystery\",\"marker\":{\"color\":\"rgb(195, 182, 59)\",\"symbol\":\"circle\"},\"mode\":\"markers\",\"name\":\"Action,Adventure,Mystery\",\"orientation\":\"v\",\"showlegend\":true,\"x\":[8.3],\"xaxis\":\"x\",\"y\":[3.1010000705718994],\"yaxis\":\"y\",\"type\":\"scatter\"},{\"hovertemplate\":\"genre=Mystery,Romance,Thriller\\u003cbr\\u003erating=%{x}\\u003cbr\\u003ebudget=%{y}\\u003cextra\\u003e\\u003c\\u002fextra\\u003e\",\"legendgroup\":\"Mystery,Romance,Thriller\",\"marker\":{\"color\":\"rgb(115, 152, 5)\",\"symbol\":\"circle\"},\"mode\":\"markers\",\"name\":\"Mystery,Romance,Thriller\",\"orientation\":\"v\",\"showlegend\":true,\"x\":[8.3],\"xaxis\":\"x\",\"y\":[2.4790000915527344],\"yaxis\":\"y\",\"type\":\"scatter\"},{\"hovertemplate\":\"genre=Comedy,Romance\\u003cbr\\u003erating=%{x}\\u003cbr\\u003ebudget=%{y}\\u003cextra\\u003e\\u003c\\u002fextra\\u003e\",\"legendgroup\":\"Comedy,Romance\",\"marker\":{\"color\":\"rgb(34, 120, 36)\",\"symbol\":\"circle\"},\"mode\":\"markers\",\"name\":\"Comedy,Romance\",\"orientation\":\"v\",\"showlegend\":true,\"x\":[8.3,8.1],\"xaxis\":\"x\",\"y\":[10.0,0.32499998807907104],\"yaxis\":\"y\",\"type\":\"scatter\"},{\"hovertemplate\":\"genre=Crime,Sci-Fi\\u003cbr\\u003erating=%{x}\\u003cbr\\u003ebudget=%{y}\\u003cextra\\u003e\\u003c\\u002fextra\\u003e\",\"legendgroup\":\"Crime,Sci-Fi\",\"marker\":{\"color\":\"rgb(18, 78, 43)\",\"symbol\":\"circle\"},\"mode\":\"markers\",\"name\":\"Crime,Sci-Fi\",\"orientation\":\"v\",\"showlegend\":true,\"x\":[8.3],\"xaxis\":\"x\",\"y\":[2.200000047683716],\"yaxis\":\"y\",\"type\":\"scatter\"},{\"hovertemplate\":\"genre=Crime,Drama,Film-Noir\\u003cbr\\u003erating=%{x}\\u003cbr\\u003ebudget=%{y}\\u003cextra\\u003e\\u003c\\u002fextra\\u003e\",\"legendgroup\":\"Crime,Drama,Film-Noir\",\"marker\":{\"color\":\"rgb(23, 35, 18)\",\"symbol\":\"circle\"},\"mode\":\"markers\",\"name\":\"Crime,Drama,Film-Noir\",\"orientation\":\"v\",\"showlegend\":true,\"x\":[8.3],\"xaxis\":\"x\",\"y\":[0.927262008190155],\"yaxis\":\"y\",\"type\":\"scatter\"},{\"hovertemplate\":\"genre=Comedy,Crime,Drama\\u003cbr\\u003erating=%{x}\\u003cbr\\u003ebudget=%{y}\\u003cextra\\u003e\\u003c\\u002fextra\\u003e\",\"legendgroup\":\"Comedy,Crime,Drama\",\"marker\":{\"color\":\"rgb(16, 31, 63)\",\"symbol\":\"circle\"},\"mode\":\"markers\",\"name\":\"Comedy,Crime,Drama\",\"orientation\":\"v\",\"showlegend\":true,\"x\":[8.3,8.1],\"xaxis\":\"x\",\"y\":[5.5,15.0],\"yaxis\":\"y\",\"type\":\"scatter\"},{\"hovertemplate\":\"genre=Drama,Sci-Fi\\u003cbr\\u003erating=%{x}\\u003cbr\\u003ebudget=%{y}\\u003cextra\\u003e\\u003c\\u002fextra\\u003e\",\"legendgroup\":\"Drama,Sci-Fi\",\"marker\":{\"color\":\"rgb(38, 62, 144)\",\"symbol\":\"circle\"},\"mode\":\"markers\",\"name\":\"Drama,Sci-Fi\",\"orientation\":\"v\",\"showlegend\":true,\"x\":[8.3],\"xaxis\":\"x\",\"y\":[15.0],\"yaxis\":\"y\",\"type\":\"scatter\"},{\"hovertemplate\":\"genre=Action,Thriller\\u003cbr\\u003erating=%{x}\\u003cbr\\u003ebudget=%{y}\\u003cextra\\u003e\\u003c\\u002fextra\\u003e\",\"legendgroup\":\"Action,Thriller\",\"marker\":{\"color\":\"rgb(30, 110, 161)\",\"symbol\":\"circle\"},\"mode\":\"markers\",\"name\":\"Action,Thriller\",\"orientation\":\"v\",\"showlegend\":true,\"x\":[8.2],\"xaxis\":\"x\",\"y\":[28.0],\"yaxis\":\"y\",\"type\":\"scatter\"},{\"hovertemplate\":\"genre=Comedy,Crime\\u003cbr\\u003erating=%{x}\\u003cbr\\u003ebudget=%{y}\\u003cextra\\u003e\\u003c\\u002fextra\\u003e\",\"legendgroup\":\"Comedy,Crime\",\"marker\":{\"color\":\"rgb(60, 154, 171)\",\"symbol\":\"circle\"},\"mode\":\"markers\",\"name\":\"Comedy,Crime\",\"orientation\":\"v\",\"showlegend\":true,\"x\":[8.2,8.1],\"xaxis\":\"x\",\"y\":[6.0,15.0],\"yaxis\":\"y\",\"type\":\"scatter\"},{\"hovertemplate\":\"genre=Drama,Family\\u003cbr\\u003erating=%{x}\\u003cbr\\u003ebudget=%{y}\\u003cextra\\u003e\\u003c\\u002fextra\\u003e\",\"legendgroup\":\"Drama,Family\",\"marker\":{\"color\":\"rgb(140, 193, 186)\",\"symbol\":\"circle\"},\"mode\":\"markers\",\"name\":\"Drama,Family\",\"orientation\":\"v\",\"showlegend\":true,\"x\":[8.3,8.2],\"xaxis\":\"x\",\"y\":[15.0,15.0],\"yaxis\":\"y\",\"type\":\"scatter\"},{\"hovertemplate\":\"genre=Action,Drama,War\\u003cbr\\u003erating=%{x}\\u003cbr\\u003ebudget=%{y}\\u003cextra\\u003e\\u003c\\u002fextra\\u003e\",\"legendgroup\":\"Action,Drama,War\",\"marker\":{\"color\":\"rgb(217, 229, 218)\",\"symbol\":\"circle\"},\"mode\":\"markers\",\"name\":\"Action,Drama,War\",\"orientation\":\"v\",\"showlegend\":true,\"x\":[8.2,8.2],\"xaxis\":\"x\",\"y\":[95.0,11.5],\"yaxis\":\"y\",\"type\":\"scatter\"},{\"hovertemplate\":\"genre=Action,Biography,Drama\\u003cbr\\u003erating=%{x}\\u003cbr\\u003ebudget=%{y}\\u003cextra\\u003e\\u003c\\u002fextra\\u003e\",\"legendgroup\":\"Action,Biography,Drama\",\"marker\":{\"color\":\"rgb(239, 226, 156)\",\"symbol\":\"circle\"},\"mode\":\"markers\",\"name\":\"Action,Biography,Drama\",\"orientation\":\"v\",\"showlegend\":true,\"x\":[8.3,8.1,8.1],\"xaxis\":\"x\",\"y\":[15.0,97.5999984741211,38.0],\"yaxis\":\"y\",\"type\":\"scatter\"},{\"hovertemplate\":\"genre=Comedy,Drama,Family\\u003cbr\\u003erating=%{x}\\u003cbr\\u003ebudget=%{y}\\u003cextra\\u003e\\u003c\\u002fextra\\u003e\",\"legendgroup\":\"Comedy,Drama,Family\",\"marker\":{\"color\":\"rgb(195, 182, 59)\",\"symbol\":\"circle\"},\"mode\":\"markers\",\"name\":\"Comedy,Drama,Family\",\"orientation\":\"v\",\"showlegend\":true,\"x\":[8.3],\"xaxis\":\"x\",\"y\":[0.25],\"yaxis\":\"y\",\"type\":\"scatter\"},{\"hovertemplate\":\"genre=Comedy,Music,Romance\\u003cbr\\u003erating=%{x}\\u003cbr\\u003ebudget=%{y}\\u003cextra\\u003e\\u003c\\u002fextra\\u003e\",\"legendgroup\":\"Comedy,Music,Romance\",\"marker\":{\"color\":\"rgb(115, 152, 5)\",\"symbol\":\"circle\"},\"mode\":\"markers\",\"name\":\"Comedy,Music,Romance\",\"orientation\":\"v\",\"showlegend\":true,\"x\":[8.2],\"xaxis\":\"x\",\"y\":[2.883847951889038],\"yaxis\":\"y\",\"type\":\"scatter\"},{\"hovertemplate\":\"genre=Biography,Comedy,Crime\\u003cbr\\u003erating=%{x}\\u003cbr\\u003ebudget=%{y}\\u003cextra\\u003e\\u003c\\u002fextra\\u003e\",\"legendgroup\":\"Biography,Comedy,Crime\",\"marker\":{\"color\":\"rgb(34, 120, 36)\",\"symbol\":\"circle\"},\"mode\":\"markers\",\"name\":\"Biography,Comedy,Crime\",\"orientation\":\"v\",\"showlegend\":true,\"x\":[8.2],\"xaxis\":\"x\",\"y\":[100.0],\"yaxis\":\"y\",\"type\":\"scatter\"},{\"hovertemplate\":\"genre=Drama,Fantasy,War\\u003cbr\\u003erating=%{x}\\u003cbr\\u003ebudget=%{y}\\u003cextra\\u003e\\u003c\\u002fextra\\u003e\",\"legendgroup\":\"Drama,Fantasy,War\",\"marker\":{\"color\":\"rgb(18, 78, 43)\",\"symbol\":\"circle\"},\"mode\":\"markers\",\"name\":\"Drama,Fantasy,War\",\"orientation\":\"v\",\"showlegend\":true,\"x\":[8.2],\"xaxis\":\"x\",\"y\":[19.0],\"yaxis\":\"y\",\"type\":\"scatter\"},{\"hovertemplate\":\"genre=Biography,Drama\\u003cbr\\u003erating=%{x}\\u003cbr\\u003ebudget=%{y}\\u003cextra\\u003e\\u003c\\u002fextra\\u003e\",\"legendgroup\":\"Biography,Drama\",\"marker\":{\"color\":\"rgb(23, 35, 18)\",\"symbol\":\"circle\"},\"mode\":\"markers\",\"name\":\"Biography,Drama\",\"orientation\":\"v\",\"showlegend\":true,\"x\":[8.2,8.2],\"xaxis\":\"x\",\"y\":[58.0,5.0],\"yaxis\":\"y\",\"type\":\"scatter\"},{\"hovertemplate\":\"genre=Action,Drama,Thriller\\u003cbr\\u003erating=%{x}\\u003cbr\\u003ebudget=%{y}\\u003cextra\\u003e\\u003c\\u002fextra\\u003e\",\"legendgroup\":\"Action,Drama,Thriller\",\"marker\":{\"color\":\"rgb(16, 31, 63)\",\"symbol\":\"circle\"},\"mode\":\"markers\",\"name\":\"Action,Drama,Thriller\",\"orientation\":\"v\",\"showlegend\":true,\"x\":[8.2],\"xaxis\":\"x\",\"y\":[15.0],\"yaxis\":\"y\",\"type\":\"scatter\"},{\"hovertemplate\":\"genre=Adventure,Drama,Western\\u003cbr\\u003erating=%{x}\\u003cbr\\u003ebudget=%{y}\\u003cextra\\u003e\\u003c\\u002fextra\\u003e\",\"legendgroup\":\"Adventure,Drama,Western\",\"marker\":{\"color\":\"rgb(38, 62, 144)\",\"symbol\":\"circle\"},\"mode\":\"markers\",\"name\":\"Adventure,Drama,Western\",\"orientation\":\"v\",\"showlegend\":true,\"x\":[8.2,8.0],\"xaxis\":\"x\",\"y\":[3.0,22.0],\"yaxis\":\"y\",\"type\":\"scatter\"},{\"hovertemplate\":\"genre=Adventure,Comedy,Fantasy\\u003cbr\\u003erating=%{x}\\u003cbr\\u003ebudget=%{y}\\u003cextra\\u003e\\u003c\\u002fextra\\u003e\",\"legendgroup\":\"Adventure,Comedy,Fantasy\",\"marker\":{\"color\":\"rgb(30, 110, 161)\",\"symbol\":\"circle\"},\"mode\":\"markers\",\"name\":\"Adventure,Comedy,Fantasy\",\"orientation\":\"v\",\"showlegend\":true,\"x\":[8.2],\"xaxis\":\"x\",\"y\":[0.2295749932527542],\"yaxis\":\"y\",\"type\":\"scatter\"},{\"hovertemplate\":\"genre=Adventure,Drama,History\\u003cbr\\u003erating=%{x}\\u003cbr\\u003ebudget=%{y}\\u003cextra\\u003e\\u003c\\u002fextra\\u003e\",\"legendgroup\":\"Adventure,Drama,History\",\"marker\":{\"color\":\"rgb(60, 154, 171)\",\"symbol\":\"circle\"},\"mode\":\"markers\",\"name\":\"Adventure,Drama,History\",\"orientation\":\"v\",\"showlegend\":true,\"x\":[8.2],\"xaxis\":\"x\",\"y\":[4.0],\"yaxis\":\"y\",\"type\":\"scatter\"},{\"hovertemplate\":\"genre=Horror,Mystery,Sci-Fi\\u003cbr\\u003erating=%{x}\\u003cbr\\u003ebudget=%{y}\\u003cextra\\u003e\\u003c\\u002fextra\\u003e\",\"legendgroup\":\"Horror,Mystery,Sci-Fi\",\"marker\":{\"color\":\"rgb(140, 193, 186)\",\"symbol\":\"circle\"},\"mode\":\"markers\",\"name\":\"Horror,Mystery,Sci-Fi\",\"orientation\":\"v\",\"showlegend\":true,\"x\":[8.2],\"xaxis\":\"x\",\"y\":[15.0],\"yaxis\":\"y\",\"type\":\"scatter\"},{\"hovertemplate\":\"genre=Biography,Drama,Sport\\u003cbr\\u003erating=%{x}\\u003cbr\\u003ebudget=%{y}\\u003cextra\\u003e\\u003c\\u002fextra\\u003e\",\"legendgroup\":\"Biography,Drama,Sport\",\"marker\":{\"color\":\"rgb(217, 229, 218)\",\"symbol\":\"circle\"},\"mode\":\"markers\",\"name\":\"Biography,Drama,Sport\",\"orientation\":\"v\",\"showlegend\":true,\"x\":[8.2],\"xaxis\":\"x\",\"y\":[18.0],\"yaxis\":\"y\",\"type\":\"scatter\"},{\"hovertemplate\":\"genre=Action,Drama,Sci-Fi\\u003cbr\\u003erating=%{x}\\u003cbr\\u003ebudget=%{y}\\u003cextra\\u003e\\u003c\\u002fextra\\u003e\",\"legendgroup\":\"Action,Drama,Sci-Fi\",\"marker\":{\"color\":\"rgb(239, 226, 156)\",\"symbol\":\"circle\"},\"mode\":\"markers\",\"name\":\"Action,Drama,Sci-Fi\",\"orientation\":\"v\",\"showlegend\":true,\"x\":[8.2,8.1,8.1],\"xaxis\":\"x\",\"y\":[54.0,28.0,97.0],\"yaxis\":\"y\",\"type\":\"scatter\"},{\"hovertemplate\":\"genre=Action,Comedy,Crime\\u003cbr\\u003erating=%{x}\\u003cbr\\u003ebudget=%{y}\\u003cextra\\u003e\\u003c\\u002fextra\\u003e\",\"legendgroup\":\"Action,Comedy,Crime\",\"marker\":{\"color\":\"rgb(195, 182, 59)\",\"symbol\":\"circle\"},\"mode\":\"markers\",\"name\":\"Action,Comedy,Crime\",\"orientation\":\"v\",\"showlegend\":true,\"x\":[8.2],\"xaxis\":\"x\",\"y\":[0.9599999785423279],\"yaxis\":\"y\",\"type\":\"scatter\"},{\"hovertemplate\":\"genre=Drama,Mystery,Romance\\u003cbr\\u003erating=%{x}\\u003cbr\\u003ebudget=%{y}\\u003cextra\\u003e\\u003c\\u002fextra\\u003e\",\"legendgroup\":\"Drama,Mystery,Romance\",\"marker\":{\"color\":\"rgb(115, 152, 5)\",\"symbol\":\"circle\"},\"mode\":\"markers\",\"name\":\"Drama,Mystery,Romance\",\"orientation\":\"v\",\"showlegend\":true,\"x\":[8.2],\"xaxis\":\"x\",\"y\":[15.0],\"yaxis\":\"y\",\"type\":\"scatter\"},{\"hovertemplate\":\"genre=Action,Drama,Sport\\u003cbr\\u003erating=%{x}\\u003cbr\\u003ebudget=%{y}\\u003cextra\\u003e\\u003c\\u002fextra\\u003e\",\"legendgroup\":\"Action,Drama,Sport\",\"marker\":{\"color\":\"rgb(34, 120, 36)\",\"symbol\":\"circle\"},\"mode\":\"markers\",\"name\":\"Action,Drama,Sport\",\"orientation\":\"v\",\"showlegend\":true,\"x\":[8.2],\"xaxis\":\"x\",\"y\":[25.0],\"yaxis\":\"y\",\"type\":\"scatter\"},{\"hovertemplate\":\"genre=Animation,Comedy,Family\\u003cbr\\u003erating=%{x}\\u003cbr\\u003ebudget=%{y}\\u003cextra\\u003e\\u003c\\u002fextra\\u003e\",\"legendgroup\":\"Animation,Comedy,Family\",\"marker\":{\"color\":\"rgb(18, 78, 43)\",\"symbol\":\"circle\"},\"mode\":\"markers\",\"name\":\"Animation,Comedy,Family\",\"orientation\":\"v\",\"showlegend\":true,\"x\":[8.1],\"xaxis\":\"x\",\"y\":[15.0],\"yaxis\":\"y\",\"type\":\"scatter\"},{\"hovertemplate\":\"genre=Drama,Sport\\u003cbr\\u003erating=%{x}\\u003cbr\\u003ebudget=%{y}\\u003cextra\\u003e\\u003c\\u002fextra\\u003e\",\"legendgroup\":\"Drama,Sport\",\"marker\":{\"color\":\"rgb(23, 35, 18)\",\"symbol\":\"circle\"},\"mode\":\"markers\",\"name\":\"Drama,Sport\",\"orientation\":\"v\",\"showlegend\":true,\"x\":[8.1,8.1],\"xaxis\":\"x\",\"y\":[30.0,0.9599999785423279],\"yaxis\":\"y\",\"type\":\"scatter\"},{\"hovertemplate\":\"genre=Drama,Family,Sport\\u003cbr\\u003erating=%{x}\\u003cbr\\u003ebudget=%{y}\\u003cextra\\u003e\\u003c\\u002fextra\\u003e\",\"legendgroup\":\"Drama,Family,Sport\",\"marker\":{\"color\":\"rgb(16, 31, 63)\",\"symbol\":\"circle\"},\"mode\":\"markers\",\"name\":\"Drama,Family,Sport\",\"orientation\":\"v\",\"showlegend\":true,\"x\":[8.2],\"xaxis\":\"x\",\"y\":[15.0],\"yaxis\":\"y\",\"type\":\"scatter\"},{\"hovertemplate\":\"genre=Adventure,Comedy,Drama\\u003cbr\\u003erating=%{x}\\u003cbr\\u003ebudget=%{y}\\u003cextra\\u003e\\u003c\\u002fextra\\u003e\",\"legendgroup\":\"Adventure,Comedy,Drama\",\"marker\":{\"color\":\"rgb(38, 62, 144)\",\"symbol\":\"circle\"},\"mode\":\"markers\",\"name\":\"Adventure,Comedy,Drama\",\"orientation\":\"v\",\"showlegend\":true,\"x\":[8.1],\"xaxis\":\"x\",\"y\":[0.9229999780654907],\"yaxis\":\"y\",\"type\":\"scatter\"},{\"hovertemplate\":\"genre=Adventure,Family,Fantasy\\u003cbr\\u003erating=%{x}\\u003cbr\\u003ebudget=%{y}\\u003cextra\\u003e\\u003c\\u002fextra\\u003e\",\"legendgroup\":\"Adventure,Family,Fantasy\",\"marker\":{\"color\":\"rgb(30, 110, 161)\",\"symbol\":\"circle\"},\"mode\":\"markers\",\"name\":\"Adventure,Family,Fantasy\",\"orientation\":\"v\",\"showlegend\":true,\"x\":[8.1,8.1],\"xaxis\":\"x\",\"y\":[125.0,2.7769999504089355],\"yaxis\":\"y\",\"type\":\"scatter\"},{\"hovertemplate\":\"genre=Adventure,Drama\\u003cbr\\u003erating=%{x}\\u003cbr\\u003ebudget=%{y}\\u003cextra\\u003e\\u003c\\u002fextra\\u003e\",\"legendgroup\":\"Adventure,Drama\",\"marker\":{\"color\":\"rgb(60, 154, 171)\",\"symbol\":\"circle\"},\"mode\":\"markers\",\"name\":\"Adventure,Drama\",\"orientation\":\"v\",\"showlegend\":true,\"x\":[8.1,8.1],\"xaxis\":\"x\",\"y\":[15.0,8.0],\"yaxis\":\"y\",\"type\":\"scatter\"},{\"hovertemplate\":\"genre=Adventure,Comedy,Crime\\u003cbr\\u003erating=%{x}\\u003cbr\\u003ebudget=%{y}\\u003cextra\\u003e\\u003c\\u002fextra\\u003e\",\"legendgroup\":\"Adventure,Comedy,Crime\",\"marker\":{\"color\":\"rgb(140, 193, 186)\",\"symbol\":\"circle\"},\"mode\":\"markers\",\"name\":\"Adventure,Comedy,Crime\",\"orientation\":\"v\",\"showlegend\":true,\"x\":[8.1],\"xaxis\":\"x\",\"y\":[25.0],\"yaxis\":\"y\",\"type\":\"scatter\"},{\"hovertemplate\":\"genre=Action,Adventure,Comedy\\u003cbr\\u003erating=%{x}\\u003cbr\\u003ebudget=%{y}\\u003cextra\\u003e\\u003c\\u002fextra\\u003e\",\"legendgroup\":\"Action,Adventure,Comedy\",\"marker\":{\"color\":\"rgb(217, 229, 218)\",\"symbol\":\"circle\"},\"mode\":\"markers\",\"name\":\"Action,Adventure,Comedy\",\"orientation\":\"v\",\"showlegend\":true,\"x\":[8.1],\"xaxis\":\"x\",\"y\":[0.75],\"yaxis\":\"y\",\"type\":\"scatter\"},{\"hovertemplate\":\"genre=Film-Noir,Mystery,Thriller\\u003cbr\\u003erating=%{x}\\u003cbr\\u003ebudget=%{y}\\u003cextra\\u003e\\u003c\\u002fextra\\u003e\",\"legendgroup\":\"Film-Noir,Mystery,Thriller\",\"marker\":{\"color\":\"rgb(239, 226, 156)\",\"symbol\":\"circle\"},\"mode\":\"markers\",\"name\":\"Film-Noir,Mystery,Thriller\",\"orientation\":\"v\",\"showlegend\":true,\"x\":[8.1],\"xaxis\":\"x\",\"y\":[15.0],\"yaxis\":\"y\",\"type\":\"scatter\"},{\"hovertemplate\":\"genre=Adventure,Drama,Thriller\\u003cbr\\u003erating=%{x}\\u003cbr\\u003ebudget=%{y}\\u003cextra\\u003e\\u003c\\u002fextra\\u003e\",\"legendgroup\":\"Adventure,Drama,Thriller\",\"marker\":{\"color\":\"rgb(195, 182, 59)\",\"symbol\":\"circle\"},\"mode\":\"markers\",\"name\":\"Adventure,Drama,Thriller\",\"orientation\":\"v\",\"showlegend\":true,\"x\":[8.2],\"xaxis\":\"x\",\"y\":[15.0],\"yaxis\":\"y\",\"type\":\"scatter\"},{\"hovertemplate\":\"genre=Action,Comedy,Romance\\u003cbr\\u003erating=%{x}\\u003cbr\\u003ebudget=%{y}\\u003cextra\\u003e\\u003c\\u002fextra\\u003e\",\"legendgroup\":\"Action,Comedy,Romance\",\"marker\":{\"color\":\"rgb(115, 152, 5)\",\"symbol\":\"circle\"},\"mode\":\"markers\",\"name\":\"Action,Comedy,Romance\",\"orientation\":\"v\",\"showlegend\":true,\"x\":[8.2],\"xaxis\":\"x\",\"y\":[15.0],\"yaxis\":\"y\",\"type\":\"scatter\"},{\"hovertemplate\":\"genre=Comedy,Drama,Thriller\\u003cbr\\u003erating=%{x}\\u003cbr\\u003ebudget=%{y}\\u003cextra\\u003e\\u003c\\u002fextra\\u003e\",\"legendgroup\":\"Comedy,Drama,Thriller\",\"marker\":{\"color\":\"rgb(34, 120, 36)\",\"symbol\":\"circle\"},\"mode\":\"markers\",\"name\":\"Comedy,Drama,Thriller\",\"orientation\":\"v\",\"showlegend\":true,\"x\":[8.1],\"xaxis\":\"x\",\"y\":[15.0],\"yaxis\":\"y\",\"type\":\"scatter\"},{\"hovertemplate\":\"genre=Drama,Fantasy\\u003cbr\\u003erating=%{x}\\u003cbr\\u003ebudget=%{y}\\u003cextra\\u003e\\u003c\\u002fextra\\u003e\",\"legendgroup\":\"Drama,Fantasy\",\"marker\":{\"color\":\"rgb(18, 78, 43)\",\"symbol\":\"circle\"},\"mode\":\"markers\",\"name\":\"Drama,Fantasy\",\"orientation\":\"v\",\"showlegend\":true,\"x\":[8.1],\"xaxis\":\"x\",\"y\":[0.15000000596046448],\"yaxis\":\"y\",\"type\":\"scatter\"},{\"hovertemplate\":\"genre=Animation,Comedy,Drama\\u003cbr\\u003erating=%{x}\\u003cbr\\u003ebudget=%{y}\\u003cextra\\u003e\\u003c\\u002fextra\\u003e\",\"legendgroup\":\"Animation,Comedy,Drama\",\"marker\":{\"color\":\"rgb(23, 35, 18)\",\"symbol\":\"circle\"},\"mode\":\"markers\",\"name\":\"Animation,Comedy,Drama\",\"orientation\":\"v\",\"showlegend\":true,\"x\":[8.1],\"xaxis\":\"x\",\"y\":[8.239999771118164],\"yaxis\":\"y\",\"type\":\"scatter\"},{\"hovertemplate\":\"genre=Adventure,Thriller\\u003cbr\\u003erating=%{x}\\u003cbr\\u003ebudget=%{y}\\u003cextra\\u003e\\u003c\\u002fextra\\u003e\",\"legendgroup\":\"Adventure,Thriller\",\"marker\":{\"color\":\"rgb(16, 31, 63)\",\"symbol\":\"circle\"},\"mode\":\"markers\",\"name\":\"Adventure,Thriller\",\"orientation\":\"v\",\"showlegend\":true,\"x\":[8.1],\"xaxis\":\"x\",\"y\":[7.0],\"yaxis\":\"y\",\"type\":\"scatter\"},{\"hovertemplate\":\"genre=Comedy,Drama,Fantasy\\u003cbr\\u003erating=%{x}\\u003cbr\\u003ebudget=%{y}\\u003cextra\\u003e\\u003c\\u002fextra\\u003e\",\"legendgroup\":\"Comedy,Drama,Fantasy\",\"marker\":{\"color\":\"rgb(38, 62, 144)\",\"symbol\":\"circle\"},\"mode\":\"markers\",\"name\":\"Comedy,Drama,Fantasy\",\"orientation\":\"v\",\"showlegend\":true,\"x\":[8.1],\"xaxis\":\"x\",\"y\":[14.600000381469727],\"yaxis\":\"y\",\"type\":\"scatter\"},{\"hovertemplate\":\"genre=Horror\\u003cbr\\u003erating=%{x}\\u003cbr\\u003ebudget=%{y}\\u003cextra\\u003e\\u003c\\u002fextra\\u003e\",\"legendgroup\":\"Horror\",\"marker\":{\"color\":\"rgb(30, 110, 161)\",\"symbol\":\"circle\"},\"mode\":\"markers\",\"name\":\"Horror\",\"orientation\":\"v\",\"showlegend\":true,\"x\":[8.1],\"xaxis\":\"x\",\"y\":[11.0],\"yaxis\":\"y\",\"type\":\"scatter\"},{\"hovertemplate\":\"genre=Comedy,Romance,War\\u003cbr\\u003erating=%{x}\\u003cbr\\u003ebudget=%{y}\\u003cextra\\u003e\\u003c\\u002fextra\\u003e\",\"legendgroup\":\"Comedy,Romance,War\",\"marker\":{\"color\":\"rgb(60, 154, 171)\",\"symbol\":\"circle\"},\"mode\":\"markers\",\"name\":\"Comedy,Romance,War\",\"orientation\":\"v\",\"showlegend\":true,\"x\":[8.2],\"xaxis\":\"x\",\"y\":[15.0],\"yaxis\":\"y\",\"type\":\"scatter\"},{\"hovertemplate\":\"genre=Biography,Drama,Family\\u003cbr\\u003erating=%{x}\\u003cbr\\u003ebudget=%{y}\\u003cextra\\u003e\\u003c\\u002fextra\\u003e\",\"legendgroup\":\"Biography,Drama,Family\",\"marker\":{\"color\":\"rgb(140, 193, 186)\",\"symbol\":\"circle\"},\"mode\":\"markers\",\"name\":\"Biography,Drama,Family\",\"orientation\":\"v\",\"showlegend\":true,\"x\":[8.1,8.1],\"xaxis\":\"x\",\"y\":[15.0,8.199999809265137],\"yaxis\":\"y\",\"type\":\"scatter\"},{\"hovertemplate\":\"genre=Drama,Film-Noir,Mystery\\u003cbr\\u003erating=%{x}\\u003cbr\\u003ebudget=%{y}\\u003cextra\\u003e\\u003c\\u002fextra\\u003e\",\"legendgroup\":\"Drama,Film-Noir,Mystery\",\"marker\":{\"color\":\"rgb(217, 229, 218)\",\"symbol\":\"circle\"},\"mode\":\"markers\",\"name\":\"Drama,Film-Noir,Mystery\",\"orientation\":\"v\",\"showlegend\":true,\"x\":[8.1],\"xaxis\":\"x\",\"y\":[1.2879999876022339],\"yaxis\":\"y\",\"type\":\"scatter\"},{\"hovertemplate\":\"genre=Drama,Romance,Thriller\\u003cbr\\u003erating=%{x}\\u003cbr\\u003ebudget=%{y}\\u003cextra\\u003e\\u003c\\u002fextra\\u003e\",\"legendgroup\":\"Drama,Romance,Thriller\",\"marker\":{\"color\":\"rgb(239, 226, 156)\",\"symbol\":\"circle\"},\"mode\":\"markers\",\"name\":\"Drama,Romance,Thriller\",\"orientation\":\"v\",\"showlegend\":true,\"x\":[8.1],\"xaxis\":\"x\",\"y\":[15.0],\"yaxis\":\"y\",\"type\":\"scatter\"},{\"hovertemplate\":\"genre=Comedy\\u003cbr\\u003erating=%{x}\\u003cbr\\u003ebudget=%{y}\\u003cextra\\u003e\\u003c\\u002fextra\\u003e\",\"legendgroup\":\"Comedy\",\"marker\":{\"color\":\"rgb(195, 182, 59)\",\"symbol\":\"circle\"},\"mode\":\"markers\",\"name\":\"Comedy\",\"orientation\":\"v\",\"showlegend\":true,\"x\":[8.0],\"xaxis\":\"x\",\"y\":[4.0],\"yaxis\":\"y\",\"type\":\"scatter\"}],                        {\"template\":{\"data\":{\"histogram2dcontour\":[{\"type\":\"histogram2dcontour\",\"colorbar\":{\"outlinewidth\":0,\"ticks\":\"\"},\"colorscale\":[[0.0,\"#0d0887\"],[0.1111111111111111,\"#46039f\"],[0.2222222222222222,\"#7201a8\"],[0.3333333333333333,\"#9c179e\"],[0.4444444444444444,\"#bd3786\"],[0.5555555555555556,\"#d8576b\"],[0.6666666666666666,\"#ed7953\"],[0.7777777777777778,\"#fb9f3a\"],[0.8888888888888888,\"#fdca26\"],[1.0,\"#f0f921\"]]}],\"choropleth\":[{\"type\":\"choropleth\",\"colorbar\":{\"outlinewidth\":0,\"ticks\":\"\"}}],\"histogram2d\":[{\"type\":\"histogram2d\",\"colorbar\":{\"outlinewidth\":0,\"ticks\":\"\"},\"colorscale\":[[0.0,\"#0d0887\"],[0.1111111111111111,\"#46039f\"],[0.2222222222222222,\"#7201a8\"],[0.3333333333333333,\"#9c179e\"],[0.4444444444444444,\"#bd3786\"],[0.5555555555555556,\"#d8576b\"],[0.6666666666666666,\"#ed7953\"],[0.7777777777777778,\"#fb9f3a\"],[0.8888888888888888,\"#fdca26\"],[1.0,\"#f0f921\"]]}],\"heatmap\":[{\"type\":\"heatmap\",\"colorbar\":{\"outlinewidth\":0,\"ticks\":\"\"},\"colorscale\":[[0.0,\"#0d0887\"],[0.1111111111111111,\"#46039f\"],[0.2222222222222222,\"#7201a8\"],[0.3333333333333333,\"#9c179e\"],[0.4444444444444444,\"#bd3786\"],[0.5555555555555556,\"#d8576b\"],[0.6666666666666666,\"#ed7953\"],[0.7777777777777778,\"#fb9f3a\"],[0.8888888888888888,\"#fdca26\"],[1.0,\"#f0f921\"]]}],\"heatmapgl\":[{\"type\":\"heatmapgl\",\"colorbar\":{\"outlinewidth\":0,\"ticks\":\"\"},\"colorscale\":[[0.0,\"#0d0887\"],[0.1111111111111111,\"#46039f\"],[0.2222222222222222,\"#7201a8\"],[0.3333333333333333,\"#9c179e\"],[0.4444444444444444,\"#bd3786\"],[0.5555555555555556,\"#d8576b\"],[0.6666666666666666,\"#ed7953\"],[0.7777777777777778,\"#fb9f3a\"],[0.8888888888888888,\"#fdca26\"],[1.0,\"#f0f921\"]]}],\"contourcarpet\":[{\"type\":\"contourcarpet\",\"colorbar\":{\"outlinewidth\":0,\"ticks\":\"\"}}],\"contour\":[{\"type\":\"contour\",\"colorbar\":{\"outlinewidth\":0,\"ticks\":\"\"},\"colorscale\":[[0.0,\"#0d0887\"],[0.1111111111111111,\"#46039f\"],[0.2222222222222222,\"#7201a8\"],[0.3333333333333333,\"#9c179e\"],[0.4444444444444444,\"#bd3786\"],[0.5555555555555556,\"#d8576b\"],[0.6666666666666666,\"#ed7953\"],[0.7777777777777778,\"#fb9f3a\"],[0.8888888888888888,\"#fdca26\"],[1.0,\"#f0f921\"]]}],\"surface\":[{\"type\":\"surface\",\"colorbar\":{\"outlinewidth\":0,\"ticks\":\"\"},\"colorscale\":[[0.0,\"#0d0887\"],[0.1111111111111111,\"#46039f\"],[0.2222222222222222,\"#7201a8\"],[0.3333333333333333,\"#9c179e\"],[0.4444444444444444,\"#bd3786\"],[0.5555555555555556,\"#d8576b\"],[0.6666666666666666,\"#ed7953\"],[0.7777777777777778,\"#fb9f3a\"],[0.8888888888888888,\"#fdca26\"],[1.0,\"#f0f921\"]]}],\"mesh3d\":[{\"type\":\"mesh3d\",\"colorbar\":{\"outlinewidth\":0,\"ticks\":\"\"}}],\"scatter\":[{\"fillpattern\":{\"fillmode\":\"overlay\",\"size\":10,\"solidity\":0.2},\"type\":\"scatter\"}],\"parcoords\":[{\"type\":\"parcoords\",\"line\":{\"colorbar\":{\"outlinewidth\":0,\"ticks\":\"\"}}}],\"scatterpolargl\":[{\"type\":\"scatterpolargl\",\"marker\":{\"colorbar\":{\"outlinewidth\":0,\"ticks\":\"\"}}}],\"bar\":[{\"error_x\":{\"color\":\"#2a3f5f\"},\"error_y\":{\"color\":\"#2a3f5f\"},\"marker\":{\"line\":{\"color\":\"#E5ECF6\",\"width\":0.5},\"pattern\":{\"fillmode\":\"overlay\",\"size\":10,\"solidity\":0.2}},\"type\":\"bar\"}],\"scattergeo\":[{\"type\":\"scattergeo\",\"marker\":{\"colorbar\":{\"outlinewidth\":0,\"ticks\":\"\"}}}],\"scatterpolar\":[{\"type\":\"scatterpolar\",\"marker\":{\"colorbar\":{\"outlinewidth\":0,\"ticks\":\"\"}}}],\"histogram\":[{\"marker\":{\"pattern\":{\"fillmode\":\"overlay\",\"size\":10,\"solidity\":0.2}},\"type\":\"histogram\"}],\"scattergl\":[{\"type\":\"scattergl\",\"marker\":{\"colorbar\":{\"outlinewidth\":0,\"ticks\":\"\"}}}],\"scatter3d\":[{\"type\":\"scatter3d\",\"line\":{\"colorbar\":{\"outlinewidth\":0,\"ticks\":\"\"}},\"marker\":{\"colorbar\":{\"outlinewidth\":0,\"ticks\":\"\"}}}],\"scattermapbox\":[{\"type\":\"scattermapbox\",\"marker\":{\"colorbar\":{\"outlinewidth\":0,\"ticks\":\"\"}}}],\"scatterternary\":[{\"type\":\"scatterternary\",\"marker\":{\"colorbar\":{\"outlinewidth\":0,\"ticks\":\"\"}}}],\"scattercarpet\":[{\"type\":\"scattercarpet\",\"marker\":{\"colorbar\":{\"outlinewidth\":0,\"ticks\":\"\"}}}],\"carpet\":[{\"aaxis\":{\"endlinecolor\":\"#2a3f5f\",\"gridcolor\":\"white\",\"linecolor\":\"white\",\"minorgridcolor\":\"white\",\"startlinecolor\":\"#2a3f5f\"},\"baxis\":{\"endlinecolor\":\"#2a3f5f\",\"gridcolor\":\"white\",\"linecolor\":\"white\",\"minorgridcolor\":\"white\",\"startlinecolor\":\"#2a3f5f\"},\"type\":\"carpet\"}],\"table\":[{\"cells\":{\"fill\":{\"color\":\"#EBF0F8\"},\"line\":{\"color\":\"white\"}},\"header\":{\"fill\":{\"color\":\"#C8D4E3\"},\"line\":{\"color\":\"white\"}},\"type\":\"table\"}],\"barpolar\":[{\"marker\":{\"line\":{\"color\":\"#E5ECF6\",\"width\":0.5},\"pattern\":{\"fillmode\":\"overlay\",\"size\":10,\"solidity\":0.2}},\"type\":\"barpolar\"}],\"pie\":[{\"automargin\":true,\"type\":\"pie\"}]},\"layout\":{\"autotypenumbers\":\"strict\",\"colorway\":[\"#636efa\",\"#EF553B\",\"#00cc96\",\"#ab63fa\",\"#FFA15A\",\"#19d3f3\",\"#FF6692\",\"#B6E880\",\"#FF97FF\",\"#FECB52\"],\"font\":{\"color\":\"#2a3f5f\"},\"hovermode\":\"closest\",\"hoverlabel\":{\"align\":\"left\"},\"paper_bgcolor\":\"white\",\"plot_bgcolor\":\"#E5ECF6\",\"polar\":{\"bgcolor\":\"#E5ECF6\",\"angularaxis\":{\"gridcolor\":\"white\",\"linecolor\":\"white\",\"ticks\":\"\"},\"radialaxis\":{\"gridcolor\":\"white\",\"linecolor\":\"white\",\"ticks\":\"\"}},\"ternary\":{\"bgcolor\":\"#E5ECF6\",\"aaxis\":{\"gridcolor\":\"white\",\"linecolor\":\"white\",\"ticks\":\"\"},\"baxis\":{\"gridcolor\":\"white\",\"linecolor\":\"white\",\"ticks\":\"\"},\"caxis\":{\"gridcolor\":\"white\",\"linecolor\":\"white\",\"ticks\":\"\"}},\"coloraxis\":{\"colorbar\":{\"outlinewidth\":0,\"ticks\":\"\"}},\"colorscale\":{\"sequential\":[[0.0,\"#0d0887\"],[0.1111111111111111,\"#46039f\"],[0.2222222222222222,\"#7201a8\"],[0.3333333333333333,\"#9c179e\"],[0.4444444444444444,\"#bd3786\"],[0.5555555555555556,\"#d8576b\"],[0.6666666666666666,\"#ed7953\"],[0.7777777777777778,\"#fb9f3a\"],[0.8888888888888888,\"#fdca26\"],[1.0,\"#f0f921\"]],\"sequentialminus\":[[0.0,\"#0d0887\"],[0.1111111111111111,\"#46039f\"],[0.2222222222222222,\"#7201a8\"],[0.3333333333333333,\"#9c179e\"],[0.4444444444444444,\"#bd3786\"],[0.5555555555555556,\"#d8576b\"],[0.6666666666666666,\"#ed7953\"],[0.7777777777777778,\"#fb9f3a\"],[0.8888888888888888,\"#fdca26\"],[1.0,\"#f0f921\"]],\"diverging\":[[0,\"#8e0152\"],[0.1,\"#c51b7d\"],[0.2,\"#de77ae\"],[0.3,\"#f1b6da\"],[0.4,\"#fde0ef\"],[0.5,\"#f7f7f7\"],[0.6,\"#e6f5d0\"],[0.7,\"#b8e186\"],[0.8,\"#7fbc41\"],[0.9,\"#4d9221\"],[1,\"#276419\"]]},\"xaxis\":{\"gridcolor\":\"white\",\"linecolor\":\"white\",\"ticks\":\"\",\"title\":{\"standoff\":15},\"zerolinecolor\":\"white\",\"automargin\":true,\"zerolinewidth\":2},\"yaxis\":{\"gridcolor\":\"white\",\"linecolor\":\"white\",\"ticks\":\"\",\"title\":{\"standoff\":15},\"zerolinecolor\":\"white\",\"automargin\":true,\"zerolinewidth\":2},\"scene\":{\"xaxis\":{\"backgroundcolor\":\"#E5ECF6\",\"gridcolor\":\"white\",\"linecolor\":\"white\",\"showbackground\":true,\"ticks\":\"\",\"zerolinecolor\":\"white\",\"gridwidth\":2},\"yaxis\":{\"backgroundcolor\":\"#E5ECF6\",\"gridcolor\":\"white\",\"linecolor\":\"white\",\"showbackground\":true,\"ticks\":\"\",\"zerolinecolor\":\"white\",\"gridwidth\":2},\"zaxis\":{\"backgroundcolor\":\"#E5ECF6\",\"gridcolor\":\"white\",\"linecolor\":\"white\",\"showbackground\":true,\"ticks\":\"\",\"zerolinecolor\":\"white\",\"gridwidth\":2}},\"shapedefaults\":{\"line\":{\"color\":\"#2a3f5f\"}},\"annotationdefaults\":{\"arrowcolor\":\"#2a3f5f\",\"arrowhead\":0,\"arrowwidth\":1},\"geo\":{\"bgcolor\":\"white\",\"landcolor\":\"#E5ECF6\",\"subunitcolor\":\"white\",\"showland\":true,\"showlakes\":true,\"lakecolor\":\"white\"},\"title\":{\"x\":0.05},\"mapbox\":{\"style\":\"light\"}}},\"xaxis\":{\"anchor\":\"y\",\"domain\":[0.0,1.0],\"title\":{\"text\":\"rating\"}},\"yaxis\":{\"anchor\":\"x\",\"domain\":[0.0,1.0],\"title\":{\"text\":\"budget\"}},\"legend\":{\"title\":{\"text\":\"genre\"},\"tracegroupgap\":0},\"title\":{\"text\":\"Rating V\\u002fs Budget\"}},                        {\"responsive\": true}                    ).then(function(){\n",
              "                            \n",
              "var gd = document.getElementById('20382d53-d591-4e5e-9834-2a2d2646d27b');\n",
              "var x = new MutationObserver(function (mutations, observer) {{\n",
              "        var display = window.getComputedStyle(gd).display;\n",
              "        if (!display || display === 'none') {{\n",
              "            console.log([gd, 'removed!']);\n",
              "            Plotly.purge(gd);\n",
              "            observer.disconnect();\n",
              "        }}\n",
              "}});\n",
              "\n",
              "// Listen for the removal of the full notebook cells\n",
              "var notebookContainer = gd.closest('#notebook-container');\n",
              "if (notebookContainer) {{\n",
              "    x.observe(notebookContainer, {childList: true});\n",
              "}}\n",
              "\n",
              "// Listen for the clearing of the current output cell\n",
              "var outputEl = gd.closest('.output');\n",
              "if (outputEl) {{\n",
              "    x.observe(outputEl, {childList: true});\n",
              "}}\n",
              "\n",
              "                        })                };                            </script>        </div>\n",
              "</body>\n",
              "</html>"
            ]
          },
          "metadata": {}
        }
      ]
    },
    {
      "cell_type": "markdown",
      "source": [
        "**Observation** - Some very highly-rated movies are shown to have been produced on a relatively lower budget. Movies made with over 170 million $ are seen to have been rated lower than or equal to 8.4.\n",
        "\n"
      ],
      "metadata": {
        "id": "13ZF-GuFy1YS"
      }
    },
    {
      "cell_type": "code",
      "source": [
        "# Rating vs. Box Office (Scatter Plot)\n",
        "\n",
        "px.scatter(top_250_movies, x='rating', y='box_office', color='genre', title='Rating V/s Box Office', color_discrete_sequence = px.colors.diverging.delta)"
      ],
      "metadata": {
        "colab": {
          "base_uri": "https://localhost:8080/",
          "height": 542
        },
        "id": "0ml4jqniqBxZ",
        "outputId": "a439dd32-65a4-49e3-9161-20f328dd4dfe"
      },
      "execution_count": 176,
      "outputs": [
        {
          "output_type": "display_data",
          "data": {
            "text/html": [
              "<html>\n",
              "<head><meta charset=\"utf-8\" /></head>\n",
              "<body>\n",
              "    <div>            <script src=\"https://cdnjs.cloudflare.com/ajax/libs/mathjax/2.7.5/MathJax.js?config=TeX-AMS-MML_SVG\"></script><script type=\"text/javascript\">if (window.MathJax && window.MathJax.Hub && window.MathJax.Hub.Config) {window.MathJax.Hub.Config({SVG: {font: \"STIX-Web\"}});}</script>                <script type=\"text/javascript\">window.PlotlyConfig = {MathJaxConfig: 'local'};</script>\n",
              "        <script charset=\"utf-8\" src=\"https://cdn.plot.ly/plotly-2.24.1.min.js\"></script>                <div id=\"f2ed73e7-8f11-4ba5-91cc-8260aca5d3b8\" class=\"plotly-graph-div\" style=\"height:525px; width:100%;\"></div>            <script type=\"text/javascript\">                                    window.PLOTLYENV=window.PLOTLYENV || {};                                    if (document.getElementById(\"f2ed73e7-8f11-4ba5-91cc-8260aca5d3b8\")) {                    Plotly.newPlot(                        \"f2ed73e7-8f11-4ba5-91cc-8260aca5d3b8\",                        [{\"hovertemplate\":\"genre=Drama\\u003cbr\\u003erating=%{x}\\u003cbr\\u003ebox_office=%{y}\\u003cextra\\u003e\\u003c\\u002fextra\\u003e\",\"legendgroup\":\"Drama\",\"marker\":{\"color\":\"rgb(16, 31, 63)\",\"symbol\":\"circle\"},\"mode\":\"markers\",\"name\":\"Drama\",\"orientation\":\"v\",\"showlegend\":true,\"x\":[9.3,8.8,8.7,8.4,8.3,8.4,8.3,8.3,8.3,8.3,8.2,8.2,8.1,8.1,8.2,8.1,8.3,8.1,8.1],\"xaxis\":\"x\",\"y\":[28.884504,101.209702,109.114817,356.296601,7.390108,74.036715,74.036715,0.096302,22.926076,0.436655,0.151052,76.182388,16.767475,269.958228,74.036715,23.690757,0.135342,74.036715,216.639112],\"yaxis\":\"y\",\"type\":\"scatter\"},{\"hovertemplate\":\"genre=Crime,Drama\\u003cbr\\u003erating=%{x}\\u003cbr\\u003ebox_office=%{y}\\u003cextra\\u003e\\u003c\\u002fextra\\u003e\",\"legendgroup\":\"Crime,Drama\",\"marker\":{\"color\":\"rgb(38, 62, 144)\",\"symbol\":\"circle\"},\"mode\":\"markers\",\"name\":\"Crime,Drama\",\"orientation\":\"v\",\"showlegend\":true,\"x\":[9.2,9.0,9.0,8.9,8.6,8.5,8.3,8.3,8.3,8.2,8.2,8.1,8.1,8.1],\"xaxis\":\"x\",\"y\":[250.341816,47.961919,0.000955,213.928762,30.680793,23.875127,5.473337,65.884703,0.599146,28.570902,116.112375,74.036715,6.7e-05,0.127244],\"yaxis\":\"y\",\"type\":\"scatter\"},{\"hovertemplate\":\"genre=Action,Crime,Drama\\u003cbr\\u003erating=%{x}\\u003cbr\\u003ebox_office=%{y}\\u003cextra\\u003e\\u003c\\u002fextra\\u003e\",\"legendgroup\":\"Action,Crime,Drama\",\"marker\":{\"color\":\"rgb(30, 110, 161)\",\"symbol\":\"circle\"},\"mode\":\"markers\",\"name\":\"Action,Crime,Drama\",\"orientation\":\"v\",\"showlegend\":true,\"x\":[9.0,8.5,8.3,8.2,8.2],\"xaxis\":\"x\",\"y\":[1006.234167,19.569225,187.436818,373.672993,180.906076],\"yaxis\":\"y\",\"type\":\"scatter\"},{\"hovertemplate\":\"genre=Biography,Drama,History\\u003cbr\\u003erating=%{x}\\u003cbr\\u003ebox_office=%{y}\\u003cextra\\u003e\\u003c\\u002fextra\\u003e\",\"legendgroup\":\"Biography,Drama,History\",\"marker\":{\"color\":\"rgb(60, 154, 171)\",\"symbol\":\"circle\"},\"mode\":\"markers\",\"name\":\"Biography,Drama,History\",\"orientation\":\"v\",\"showlegend\":true,\"x\":[9.0,8.4,8.4,8.2,8.1,8.1,8.2,8.1,8.0],\"xaxis\":\"x\",\"y\":[322.161245,213.216216,74.036715,92.181574,187.733202,180.563636,74.036715,33.882243,52.767889],\"yaxis\":\"y\",\"type\":\"scatter\"},{\"hovertemplate\":\"genre=Action,Adventure,Drama\\u003cbr\\u003erating=%{x}\\u003cbr\\u003ebox_office=%{y}\\u003cextra\\u003e\\u003c\\u002fextra\\u003e\",\"legendgroup\":\"Action,Adventure,Drama\",\"marker\":{\"color\":\"rgb(140, 193, 186)\",\"symbol\":\"circle\"},\"mode\":\"markers\",\"name\":\"Action,Adventure,Drama\",\"orientation\":\"v\",\"showlegend\":true,\"x\":[9.0,8.8,8.8,8.5,8.4],\"xaxis\":\"x\",\"y\":[1146.457748,898.20442,947.94427,503.162313,2799.4391],\"yaxis\":\"y\",\"type\":\"scatter\"},{\"hovertemplate\":\"genre=Adventure,Western\\u003cbr\\u003erating=%{x}\\u003cbr\\u003ebox_office=%{y}\\u003cextra\\u003e\\u003c\\u002fextra\\u003e\",\"legendgroup\":\"Adventure,Western\",\"marker\":{\"color\":\"rgb(217, 229, 218)\",\"symbol\":\"circle\"},\"mode\":\"markers\",\"name\":\"Adventure,Western\",\"orientation\":\"v\",\"showlegend\":true,\"x\":[8.8],\"xaxis\":\"x\",\"y\":[25.253887],\"yaxis\":\"y\",\"type\":\"scatter\"},{\"hovertemplate\":\"genre=Drama,Romance\\u003cbr\\u003erating=%{x}\\u003cbr\\u003ebox_office=%{y}\\u003cextra\\u003e\\u003c\\u002fextra\\u003e\",\"legendgroup\":\"Drama,Romance\",\"marker\":{\"color\":\"rgb(239, 226, 156)\",\"symbol\":\"circle\"},\"mode\":\"markers\",\"name\":\"Drama,Romance\",\"orientation\":\"v\",\"showlegend\":true,\"x\":[8.8,8.5,8.3,8.1,8.1,8.1],\"xaxis\":\"x\",\"y\":[678.226465,13.019063,74.036715,5.987386,0.060418,74.036715],\"yaxis\":\"y\",\"type\":\"scatter\"},{\"hovertemplate\":\"genre=Action,Adventure,Sci-Fi\\u003cbr\\u003erating=%{x}\\u003cbr\\u003ebox_office=%{y}\\u003cextra\\u003e\\u003c\\u002fextra\\u003e\",\"legendgroup\":\"Action,Adventure,Sci-Fi\",\"marker\":{\"color\":\"rgb(195, 182, 59)\",\"symbol\":\"circle\"},\"mode\":\"markers\",\"name\":\"Action,Adventure,Sci-Fi\",\"orientation\":\"v\",\"showlegend\":true,\"x\":[8.8,8.4,8.4,8.2,8.1],\"xaxis\":\"x\",\"y\":[836.848102,2052.415039,131.060248,1109.802321,415.261382],\"yaxis\":\"y\",\"type\":\"scatter\"},{\"hovertemplate\":\"genre=Action,Adventure,Fantasy\\u003cbr\\u003erating=%{x}\\u003cbr\\u003ebox_office=%{y}\\u003cextra\\u003e\\u003c\\u002fextra\\u003e\",\"legendgroup\":\"Action,Adventure,Fantasy\",\"marker\":{\"color\":\"rgb(115, 152, 5)\",\"symbol\":\"circle\"},\"mode\":\"markers\",\"name\":\"Action,Adventure,Fantasy\",\"orientation\":\"v\",\"showlegend\":true,\"x\":[8.7,8.6,8.3,8.2,8.1],\"xaxis\":\"x\",\"y\":[538.375067,775.398007,475.106177,1921.847111,654.264015],\"yaxis\":\"y\",\"type\":\"scatter\"},{\"hovertemplate\":\"genre=Action,Sci-Fi\\u003cbr\\u003erating=%{x}\\u003cbr\\u003ebox_office=%{y}\\u003cextra\\u003e\\u003c\\u002fextra\\u003e\",\"legendgroup\":\"Action,Sci-Fi\",\"marker\":{\"color\":\"rgb(34, 120, 36)\",\"symbol\":\"circle\"},\"mode\":\"markers\",\"name\":\"Action,Sci-Fi\",\"orientation\":\"v\",\"showlegend\":true,\"x\":[8.7,8.6,8.1],\"xaxis\":\"x\",\"y\":[467.222728,520.881154,78.3712],\"yaxis\":\"y\",\"type\":\"scatter\"},{\"hovertemplate\":\"genre=Biography,Crime,Drama\\u003cbr\\u003erating=%{x}\\u003cbr\\u003ebox_office=%{y}\\u003cextra\\u003e\\u003c\\u002fextra\\u003e\",\"legendgroup\":\"Biography,Crime,Drama\",\"marker\":{\"color\":\"rgb(18, 78, 43)\",\"symbol\":\"circle\"},\"mode\":\"markers\",\"name\":\"Biography,Crime,Drama\",\"orientation\":\"v\",\"showlegend\":true,\"x\":[8.7,8.1,8.1,8.1],\"xaxis\":\"x\",\"y\":[47.036784,74.036715,74.036715,98.690254],\"yaxis\":\"y\",\"type\":\"scatter\"},{\"hovertemplate\":\"genre=Crime,Drama,Mystery\\u003cbr\\u003erating=%{x}\\u003cbr\\u003ebox_office=%{y}\\u003cextra\\u003e\\u003c\\u002fextra\\u003e\",\"legendgroup\":\"Crime,Drama,Mystery\",\"marker\":{\"color\":\"rgb(23, 35, 18)\",\"symbol\":\"circle\"},\"mode\":\"markers\",\"name\":\"Crime,Drama,Mystery\",\"orientation\":\"v\",\"showlegend\":true,\"x\":[8.6,8.5,8.4,8.4,8.2,8.2,8.1,8.1,8.8],\"xaxis\":\"x\",\"y\":[327.333559,23.341568,0.007693,74.036715,126.21694,0.081379,122.126687,1.166717,74.036715],\"yaxis\":\"y\",\"type\":\"scatter\"},{\"hovertemplate\":\"genre=Action,Drama\\u003cbr\\u003erating=%{x}\\u003cbr\\u003ebox_office=%{y}\\u003cextra\\u003e\\u003c\\u002fextra\\u003e\",\"legendgroup\":\"Action,Drama\",\"marker\":{\"color\":\"rgb(16, 31, 63)\",\"symbol\":\"circle\"},\"mode\":\"markers\",\"name\":\"Action,Drama\",\"orientation\":\"v\",\"showlegend\":true,\"x\":[8.6,8.4,8.3],\"xaxis\":\"x\",\"y\":[0.346258,1081.169825,1488.732821],\"yaxis\":\"y\",\"type\":\"scatter\"},{\"hovertemplate\":\"genre=Drama,Family,Fantasy\\u003cbr\\u003erating=%{x}\\u003cbr\\u003ebox_office=%{y}\\u003cextra\\u003e\\u003c\\u002fextra\\u003e\",\"legendgroup\":\"Drama,Family,Fantasy\",\"marker\":{\"color\":\"rgb(38, 62, 144)\",\"symbol\":\"circle\"},\"mode\":\"markers\",\"name\":\"Drama,Family,Fantasy\",\"orientation\":\"v\",\"showlegend\":true,\"x\":[8.6],\"xaxis\":\"x\",\"y\":[8.574081],\"yaxis\":\"y\",\"type\":\"scatter\"},{\"hovertemplate\":\"genre=Crime,Drama,Thriller\\u003cbr\\u003erating=%{x}\\u003cbr\\u003ebox_office=%{y}\\u003cextra\\u003e\\u003c\\u002fextra\\u003e\",\"legendgroup\":\"Crime,Drama,Thriller\",\"marker\":{\"color\":\"rgb(30, 110, 161)\",\"symbol\":\"circle\"},\"mode\":\"markers\",\"name\":\"Crime,Drama,Thriller\",\"orientation\":\"v\",\"showlegend\":true,\"x\":[8.6,8.5,8.4,8.2,8.1],\"xaxis\":\"x\",\"y\":[272.742922,291.480452,1074.458282,171.627434,74.036715],\"yaxis\":\"y\",\"type\":\"scatter\"},{\"hovertemplate\":\"genre=Drama,War\\u003cbr\\u003erating=%{x}\\u003cbr\\u003ebox_office=%{y}\\u003cextra\\u003e\\u003c\\u002fextra\\u003e\",\"legendgroup\":\"Drama,War\",\"marker\":{\"color\":\"rgb(60, 154, 171)\",\"symbol\":\"circle\"},\"mode\":\"markers\",\"name\":\"Drama,War\",\"orientation\":\"v\",\"showlegend\":true,\"x\":[8.6,8.4,8.4,8.3,8.3,8.1,8.1,8.1],\"xaxis\":\"x\",\"y\":[482.349603,0.005252,11.487676,46.358827,0.01218,49.074379,138.545632,0.962002],\"yaxis\":\"y\",\"type\":\"scatter\"},{\"hovertemplate\":\"genre=Adventure,Drama,Sci-Fi\\u003cbr\\u003erating=%{x}\\u003cbr\\u003ebox_office=%{y}\\u003cextra\\u003e\\u003c\\u002fextra\\u003e\",\"legendgroup\":\"Adventure,Drama,Sci-Fi\",\"marker\":{\"color\":\"rgb(140, 193, 186)\",\"symbol\":\"circle\"},\"mode\":\"markers\",\"name\":\"Adventure,Drama,Sci-Fi\",\"orientation\":\"v\",\"showlegend\":true,\"x\":[8.6],\"xaxis\":\"x\",\"y\":[773.867216],\"yaxis\":\"y\",\"type\":\"scatter\"},{\"hovertemplate\":\"genre=Comedy,Drama,Romance\\u003cbr\\u003erating=%{x}\\u003cbr\\u003ebox_office=%{y}\\u003cextra\\u003e\\u003c\\u002fextra\\u003e\",\"legendgroup\":\"Comedy,Drama,Romance\",\"marker\":{\"color\":\"rgb(217, 229, 218)\",\"symbol\":\"circle\"},\"mode\":\"markers\",\"name\":\"Comedy,Drama,Romance\",\"orientation\":\"v\",\"showlegend\":true,\"x\":[8.6,8.5,8.5,8.3],\"xaxis\":\"x\",\"y\":[230.098753,0.463618,0.050419,18.778738],\"yaxis\":\"y\",\"type\":\"scatter\"},{\"hovertemplate\":\"genre=Crime,Drama,Fantasy\\u003cbr\\u003erating=%{x}\\u003cbr\\u003ebox_office=%{y}\\u003cextra\\u003e\\u003c\\u002fextra\\u003e\",\"legendgroup\":\"Crime,Drama,Fantasy\",\"marker\":{\"color\":\"rgb(239, 226, 156)\",\"symbol\":\"circle\"},\"mode\":\"markers\",\"name\":\"Crime,Drama,Fantasy\",\"orientation\":\"v\",\"showlegend\":true,\"x\":[8.6],\"xaxis\":\"x\",\"y\":[286.801374],\"yaxis\":\"y\",\"type\":\"scatter\"},{\"hovertemplate\":\"genre=Adventure,Comedy,Sci-Fi\\u003cbr\\u003erating=%{x}\\u003cbr\\u003ebox_office=%{y}\\u003cextra\\u003e\\u003c\\u002fextra\\u003e\",\"legendgroup\":\"Adventure,Comedy,Sci-Fi\",\"marker\":{\"color\":\"rgb(195, 182, 59)\",\"symbol\":\"circle\"},\"mode\":\"markers\",\"name\":\"Adventure,Comedy,Sci-Fi\",\"orientation\":\"v\",\"showlegend\":true,\"x\":[8.5],\"xaxis\":\"x\",\"y\":[383.336762],\"yaxis\":\"y\",\"type\":\"scatter\"},{\"hovertemplate\":\"genre=Animation,Adventure,Family\\u003cbr\\u003erating=%{x}\\u003cbr\\u003ebox_office=%{y}\\u003cextra\\u003e\\u003c\\u002fextra\\u003e\",\"legendgroup\":\"Animation,Adventure,Family\",\"marker\":{\"color\":\"rgb(115, 152, 5)\",\"symbol\":\"circle\"},\"mode\":\"markers\",\"name\":\"Animation,Adventure,Family\",\"orientation\":\"v\",\"showlegend\":true,\"x\":[8.6,8.4,8.2],\"xaxis\":\"x\",\"y\":[355.822319,521.31189,237.536126],\"yaxis\":\"y\",\"type\":\"scatter\"},{\"hovertemplate\":\"genre=Biography,Drama,Music\\u003cbr\\u003erating=%{x}\\u003cbr\\u003ebox_office=%{y}\\u003cextra\\u003e\\u003c\\u002fextra\\u003e\",\"legendgroup\":\"Biography,Drama,Music\",\"marker\":{\"color\":\"rgb(34, 120, 36)\",\"symbol\":\"circle\"},\"mode\":\"markers\",\"name\":\"Biography,Drama,Music\",\"orientation\":\"v\",\"showlegend\":true,\"x\":[8.5,8.4],\"xaxis\":\"x\",\"y\":[120.072577,52.066791],\"yaxis\":\"y\",\"type\":\"scatter\"},{\"hovertemplate\":\"genre=Horror,Mystery,Thriller\\u003cbr\\u003erating=%{x}\\u003cbr\\u003ebox_office=%{y}\\u003cextra\\u003e\\u003c\\u002fextra\\u003e\",\"legendgroup\":\"Horror,Mystery,Thriller\",\"marker\":{\"color\":\"rgb(18, 78, 43)\",\"symbol\":\"circle\"},\"mode\":\"markers\",\"name\":\"Horror,Mystery,Thriller\",\"orientation\":\"v\",\"showlegend\":true,\"x\":[8.5],\"xaxis\":\"x\",\"y\":[32.052925],\"yaxis\":\"y\",\"type\":\"scatter\"},{\"hovertemplate\":\"genre=Drama,Thriller\\u003cbr\\u003erating=%{x}\\u003cbr\\u003ebox_office=%{y}\\u003cextra\\u003e\\u003c\\u002fextra\\u003e\",\"legendgroup\":\"Drama,Thriller\",\"marker\":{\"color\":\"rgb(23, 35, 18)\",\"symbol\":\"circle\"},\"mode\":\"markers\",\"name\":\"Drama,Thriller\",\"orientation\":\"v\",\"showlegend\":true,\"x\":[8.5,8.1,8.1,8.1],\"xaxis\":\"x\",\"y\":[262.676096,35.401758,20.908467,74.036715],\"yaxis\":\"y\",\"type\":\"scatter\"},{\"hovertemplate\":\"genre=Animation,Adventure,Drama\\u003cbr\\u003erating=%{x}\\u003cbr\\u003ebox_office=%{y}\\u003cextra\\u003e\\u003c\\u002fextra\\u003e\",\"legendgroup\":\"Animation,Adventure,Drama\",\"marker\":{\"color\":\"rgb(16, 31, 63)\",\"symbol\":\"circle\"},\"mode\":\"markers\",\"name\":\"Animation,Adventure,Drama\",\"orientation\":\"v\",\"showlegend\":true,\"x\":[8.5],\"xaxis\":\"x\",\"y\":[968.511805],\"yaxis\":\"y\",\"type\":\"scatter\"},{\"hovertemplate\":\"genre=Drama,Mystery,Sci-Fi\\u003cbr\\u003erating=%{x}\\u003cbr\\u003ebox_office=%{y}\\u003cextra\\u003e\\u003c\\u002fextra\\u003e\",\"legendgroup\":\"Drama,Mystery,Sci-Fi\",\"marker\":{\"color\":\"rgb(38, 62, 144)\",\"symbol\":\"circle\"},\"mode\":\"markers\",\"name\":\"Drama,Mystery,Sci-Fi\",\"orientation\":\"v\",\"showlegend\":true,\"x\":[8.5],\"xaxis\":\"x\",\"y\":[109.676311],\"yaxis\":\"y\",\"type\":\"scatter\"},{\"hovertemplate\":\"genre=Drama,Music\\u003cbr\\u003erating=%{x}\\u003cbr\\u003ebox_office=%{y}\\u003cextra\\u003e\\u003c\\u002fextra\\u003e\",\"legendgroup\":\"Drama,Music\",\"marker\":{\"color\":\"rgb(30, 110, 161)\",\"symbol\":\"circle\"},\"mode\":\"markers\",\"name\":\"Drama,Music\",\"orientation\":\"v\",\"showlegend\":true,\"x\":[8.5],\"xaxis\":\"x\",\"y\":[49.396747],\"yaxis\":\"y\",\"type\":\"scatter\"},{\"hovertemplate\":\"genre=Drama,Romance,War\\u003cbr\\u003erating=%{x}\\u003cbr\\u003ebox_office=%{y}\\u003cextra\\u003e\\u003c\\u002fextra\\u003e\",\"legendgroup\":\"Drama,Romance,War\",\"marker\":{\"color\":\"rgb(60, 154, 171)\",\"symbol\":\"circle\"},\"mode\":\"markers\",\"name\":\"Drama,Romance,War\",\"orientation\":\"v\",\"showlegend\":true,\"x\":[8.5,8.2,8.1],\"xaxis\":\"x\",\"y\":[4.626532,402.382193,23.661347],\"yaxis\":\"y\",\"type\":\"scatter\"},{\"hovertemplate\":\"genre=Animation,Drama,War\\u003cbr\\u003erating=%{x}\\u003cbr\\u003ebox_office=%{y}\\u003cextra\\u003e\\u003c\\u002fextra\\u003e\",\"legendgroup\":\"Animation,Drama,War\",\"marker\":{\"color\":\"rgb(140, 193, 186)\",\"symbol\":\"circle\"},\"mode\":\"markers\",\"name\":\"Animation,Drama,War\",\"orientation\":\"v\",\"showlegend\":true,\"x\":[8.5],\"xaxis\":\"x\",\"y\":[0.516962],\"yaxis\":\"y\",\"type\":\"scatter\"},{\"hovertemplate\":\"genre=Action,Drama,Mystery\\u003cbr\\u003erating=%{x}\\u003cbr\\u003ebox_office=%{y}\\u003cextra\\u003e\\u003c\\u002fextra\\u003e\",\"legendgroup\":\"Action,Drama,Mystery\",\"marker\":{\"color\":\"rgb(217, 229, 218)\",\"symbol\":\"circle\"},\"mode\":\"markers\",\"name\":\"Action,Drama,Mystery\",\"orientation\":\"v\",\"showlegend\":true,\"x\":[8.6,8.4],\"xaxis\":\"x\",\"y\":[74.036715,15.421226],\"yaxis\":\"y\",\"type\":\"scatter\"},{\"hovertemplate\":\"genre=Biography,Comedy,Drama\\u003cbr\\u003erating=%{x}\\u003cbr\\u003ebox_office=%{y}\\u003cextra\\u003e\\u003c\\u002fextra\\u003e\",\"legendgroup\":\"Biography,Comedy,Drama\",\"marker\":{\"color\":\"rgb(239, 226, 156)\",\"symbol\":\"circle\"},\"mode\":\"markers\",\"name\":\"Biography,Comedy,Drama\",\"orientation\":\"v\",\"showlegend\":true,\"x\":[8.5,8.2],\"xaxis\":\"x\",\"y\":[426.58851,321.752656],\"yaxis\":\"y\",\"type\":\"scatter\"},{\"hovertemplate\":\"genre=Western\\u003cbr\\u003erating=%{x}\\u003cbr\\u003ebox_office=%{y}\\u003cextra\\u003e\\u003c\\u002fextra\\u003e\",\"legendgroup\":\"Western\",\"marker\":{\"color\":\"rgb(195, 182, 59)\",\"symbol\":\"circle\"},\"mode\":\"markers\",\"name\":\"Western\",\"orientation\":\"v\",\"showlegend\":true,\"x\":[8.5,8.2],\"xaxis\":\"x\",\"y\":[5.435024,15.0],\"yaxis\":\"y\",\"type\":\"scatter\"},{\"hovertemplate\":\"genre=Mystery,Thriller\\u003cbr\\u003erating=%{x}\\u003cbr\\u003ebox_office=%{y}\\u003cextra\\u003e\\u003c\\u002fextra\\u003e\",\"legendgroup\":\"Mystery,Thriller\",\"marker\":{\"color\":\"rgb(115, 152, 5)\",\"symbol\":\"circle\"},\"mode\":\"markers\",\"name\":\"Mystery,Thriller\",\"orientation\":\"v\",\"showlegend\":true,\"x\":[8.5,8.4,8.2],\"xaxis\":\"x\",\"y\":[37.034579,40.047078,294.805697],\"yaxis\":\"y\",\"type\":\"scatter\"},{\"hovertemplate\":\"genre=Horror,Sci-Fi\\u003cbr\\u003erating=%{x}\\u003cbr\\u003ebox_office=%{y}\\u003cextra\\u003e\\u003c\\u002fextra\\u003e\",\"legendgroup\":\"Horror,Sci-Fi\",\"marker\":{\"color\":\"rgb(34, 120, 36)\",\"symbol\":\"circle\"},\"mode\":\"markers\",\"name\":\"Horror,Sci-Fi\",\"orientation\":\"v\",\"showlegend\":true,\"x\":[8.5],\"xaxis\":\"x\",\"y\":[106.285522],\"yaxis\":\"y\",\"type\":\"scatter\"},{\"hovertemplate\":\"genre=Drama,Mystery,War\\u003cbr\\u003erating=%{x}\\u003cbr\\u003ebox_office=%{y}\\u003cextra\\u003e\\u003c\\u002fextra\\u003e\",\"legendgroup\":\"Drama,Mystery,War\",\"marker\":{\"color\":\"rgb(18, 78, 43)\",\"symbol\":\"circle\"},\"mode\":\"markers\",\"name\":\"Drama,Mystery,War\",\"orientation\":\"v\",\"showlegend\":true,\"x\":[8.5],\"xaxis\":\"x\",\"y\":[104.880868],\"yaxis\":\"y\",\"type\":\"scatter\"},{\"hovertemplate\":\"genre=Drama,Western\\u003cbr\\u003erating=%{x}\\u003cbr\\u003ebox_office=%{y}\\u003cextra\\u003e\\u003c\\u002fextra\\u003e\",\"legendgroup\":\"Drama,Western\",\"marker\":{\"color\":\"rgb(23, 35, 18)\",\"symbol\":\"circle\"},\"mode\":\"markers\",\"name\":\"Drama,Western\",\"orientation\":\"v\",\"showlegend\":true,\"x\":[8.4,8.2],\"xaxis\":\"x\",\"y\":[426.074373,159.167799],\"yaxis\":\"y\",\"type\":\"scatter\"},{\"hovertemplate\":\"genre=Action,Adventure\\u003cbr\\u003erating=%{x}\\u003cbr\\u003ebox_office=%{y}\\u003cextra\\u003e\\u003c\\u002fextra\\u003e\",\"legendgroup\":\"Action,Adventure\",\"marker\":{\"color\":\"rgb(16, 31, 63)\",\"symbol\":\"circle\"},\"mode\":\"markers\",\"name\":\"Action,Adventure\",\"orientation\":\"v\",\"showlegend\":true,\"x\":[8.4,8.2],\"xaxis\":\"x\",\"y\":[389.925971,474.171806],\"yaxis\":\"y\",\"type\":\"scatter\"},{\"hovertemplate\":\"genre=Drama,Mystery,Thriller\\u003cbr\\u003erating=%{x}\\u003cbr\\u003ebox_office=%{y}\\u003cextra\\u003e\\u003c\\u002fextra\\u003e\",\"legendgroup\":\"Drama,Mystery,Thriller\",\"marker\":{\"color\":\"rgb(38, 62, 144)\",\"symbol\":\"circle\"},\"mode\":\"markers\",\"name\":\"Drama,Mystery,Thriller\",\"orientation\":\"v\",\"showlegend\":true,\"x\":[8.4,8.2,8.2,8.1],\"xaxis\":\"x\",\"y\":[77.356942,672.806432,29.225935,74.036715],\"yaxis\":\"y\",\"type\":\"scatter\"},{\"hovertemplate\":\"genre=Drama,Film-Noir\\u003cbr\\u003erating=%{x}\\u003cbr\\u003ebox_office=%{y}\\u003cextra\\u003e\\u003c\\u002fextra\\u003e\",\"legendgroup\":\"Drama,Film-Noir\",\"marker\":{\"color\":\"rgb(30, 110, 161)\",\"symbol\":\"circle\"},\"mode\":\"markers\",\"name\":\"Drama,Film-Noir\",\"orientation\":\"v\",\"showlegend\":true,\"x\":[8.4],\"xaxis\":\"x\",\"y\":[0.300073],\"yaxis\":\"y\",\"type\":\"scatter\"},{\"hovertemplate\":\"genre=Drama,Horror\\u003cbr\\u003erating=%{x}\\u003cbr\\u003ebox_office=%{y}\\u003cextra\\u003e\\u003c\\u002fextra\\u003e\",\"legendgroup\":\"Drama,Horror\",\"marker\":{\"color\":\"rgb(60, 154, 171)\",\"symbol\":\"circle\"},\"mode\":\"markers\",\"name\":\"Drama,Horror\",\"orientation\":\"v\",\"showlegend\":true,\"x\":[8.4],\"xaxis\":\"x\",\"y\":[47.335804],\"yaxis\":\"y\",\"type\":\"scatter\"},{\"hovertemplate\":\"genre=Comedy,Drama,War\\u003cbr\\u003erating=%{x}\\u003cbr\\u003ebox_office=%{y}\\u003cextra\\u003e\\u003c\\u002fextra\\u003e\",\"legendgroup\":\"Comedy,Drama,War\",\"marker\":{\"color\":\"rgb(140, 193, 186)\",\"symbol\":\"circle\"},\"mode\":\"markers\",\"name\":\"Comedy,Drama,War\",\"orientation\":\"v\",\"showlegend\":true,\"x\":[8.4],\"xaxis\":\"x\",\"y\":[0.970263],\"yaxis\":\"y\",\"type\":\"scatter\"},{\"hovertemplate\":\"genre=Animation,Action,Adventure\\u003cbr\\u003erating=%{x}\\u003cbr\\u003ebox_office=%{y}\\u003cextra\\u003e\\u003c\\u002fextra\\u003e\",\"legendgroup\":\"Animation,Action,Adventure\",\"marker\":{\"color\":\"rgb(217, 229, 218)\",\"symbol\":\"circle\"},\"mode\":\"markers\",\"name\":\"Animation,Action,Adventure\",\"orientation\":\"v\",\"showlegend\":true,\"x\":[8.4,8.4,8.1,8.0,8.1],\"xaxis\":\"x\",\"y\":[74.036715,170.005875,494.879471,631.607053,23.335817],\"yaxis\":\"y\",\"type\":\"scatter\"},{\"hovertemplate\":\"genre=Comedy,War\\u003cbr\\u003erating=%{x}\\u003cbr\\u003ebox_office=%{y}\\u003cextra\\u003e\\u003c\\u002fextra\\u003e\",\"legendgroup\":\"Comedy,War\",\"marker\":{\"color\":\"rgb(239, 226, 156)\",\"symbol\":\"circle\"},\"mode\":\"markers\",\"name\":\"Comedy,War\",\"orientation\":\"v\",\"showlegend\":true,\"x\":[8.4],\"xaxis\":\"x\",\"y\":[9.523464],\"yaxis\":\"y\",\"type\":\"scatter\"},{\"hovertemplate\":\"genre=Adventure,Drama,War\\u003cbr\\u003erating=%{x}\\u003cbr\\u003ebox_office=%{y}\\u003cextra\\u003e\\u003c\\u002fextra\\u003e\",\"legendgroup\":\"Adventure,Drama,War\",\"marker\":{\"color\":\"rgb(195, 182, 59)\",\"symbol\":\"circle\"},\"mode\":\"markers\",\"name\":\"Adventure,Drama,War\",\"orientation\":\"v\",\"showlegend\":true,\"x\":[8.3,8.2,8.1],\"xaxis\":\"x\",\"y\":[321.457747,27.2,0.199632],\"yaxis\":\"y\",\"type\":\"scatter\"},{\"hovertemplate\":\"genre=Animation,Adventure,Comedy\\u003cbr\\u003erating=%{x}\\u003cbr\\u003ebox_office=%{y}\\u003cextra\\u003e\\u003c\\u002fextra\\u003e\",\"legendgroup\":\"Animation,Adventure,Comedy\",\"marker\":{\"color\":\"rgb(115, 152, 5)\",\"symbol\":\"circle\"},\"mode\":\"markers\",\"name\":\"Animation,Adventure,Comedy\",\"orientation\":\"v\",\"showlegend\":true,\"x\":[8.4,8.3,8.3,8.3,8.2,8.2,8.2,8.1,8.1,8.0],\"xaxis\":\"x\",\"y\":[814.337054,394.436586,1067.316101,735.099102,941.63796,858.848019,74.036715,579.707738,623.726085,74.036715],\"yaxis\":\"y\",\"type\":\"scatter\"},{\"hovertemplate\":\"genre=Animation,Drama,Fantasy\\u003cbr\\u003erating=%{x}\\u003cbr\\u003ebox_office=%{y}\\u003cextra\\u003e\\u003c\\u002fextra\\u003e\",\"legendgroup\":\"Animation,Drama,Fantasy\",\"marker\":{\"color\":\"rgb(34, 120, 36)\",\"symbol\":\"circle\"},\"mode\":\"markers\",\"name\":\"Animation,Drama,Fantasy\",\"orientation\":\"v\",\"showlegend\":true,\"x\":[8.4],\"xaxis\":\"x\",\"y\":[74.036715],\"yaxis\":\"y\",\"type\":\"scatter\"},{\"hovertemplate\":\"genre=Comedy,Drama\\u003cbr\\u003erating=%{x}\\u003cbr\\u003ebox_office=%{y}\\u003cextra\\u003e\\u003c\\u002fextra\\u003e\",\"legendgroup\":\"Comedy,Drama\",\"marker\":{\"color\":\"rgb(18, 78, 43)\",\"symbol\":\"circle\"},\"mode\":\"markers\",\"name\":\"Comedy,Drama\",\"orientation\":\"v\",\"showlegend\":true,\"x\":[8.4,8.2,8.1,8.1],\"xaxis\":\"x\",\"y\":[60.262836,264.118201,0.144738,235.860116],\"yaxis\":\"y\",\"type\":\"scatter\"},{\"hovertemplate\":\"genre=Comedy,Musical,Romance\\u003cbr\\u003erating=%{x}\\u003cbr\\u003ebox_office=%{y}\\u003cextra\\u003e\\u003c\\u002fextra\\u003e\",\"legendgroup\":\"Comedy,Musical,Romance\",\"marker\":{\"color\":\"rgb(23, 35, 18)\",\"symbol\":\"circle\"},\"mode\":\"markers\",\"name\":\"Comedy,Musical,Romance\",\"orientation\":\"v\",\"showlegend\":true,\"x\":[8.3],\"xaxis\":\"x\",\"y\":[2.000288],\"yaxis\":\"y\",\"type\":\"scatter\"},{\"hovertemplate\":\"genre=Drama,Romance,Sci-Fi\\u003cbr\\u003erating=%{x}\\u003cbr\\u003ebox_office=%{y}\\u003cextra\\u003e\\u003c\\u002fextra\\u003e\",\"legendgroup\":\"Drama,Romance,Sci-Fi\",\"marker\":{\"color\":\"rgb(16, 31, 63)\",\"symbol\":\"circle\"},\"mode\":\"markers\",\"name\":\"Drama,Romance,Sci-Fi\",\"orientation\":\"v\",\"showlegend\":true,\"x\":[8.3],\"xaxis\":\"x\",\"y\":[74.036715],\"yaxis\":\"y\",\"type\":\"scatter\"},{\"hovertemplate\":\"genre=Adventure,Sci-Fi\\u003cbr\\u003erating=%{x}\\u003cbr\\u003ebox_office=%{y}\\u003cextra\\u003e\\u003c\\u002fextra\\u003e\",\"legendgroup\":\"Adventure,Sci-Fi\",\"marker\":{\"color\":\"rgb(38, 62, 144)\",\"symbol\":\"circle\"},\"mode\":\"markers\",\"name\":\"Adventure,Sci-Fi\",\"orientation\":\"v\",\"showlegend\":true,\"x\":[8.3],\"xaxis\":\"x\",\"y\":[65.889846],\"yaxis\":\"y\",\"type\":\"scatter\"},{\"hovertemplate\":\"genre=Crime,Thriller\\u003cbr\\u003erating=%{x}\\u003cbr\\u003ebox_office=%{y}\\u003cextra\\u003e\\u003c\\u002fextra\\u003e\",\"legendgroup\":\"Crime,Thriller\",\"marker\":{\"color\":\"rgb(30, 110, 161)\",\"symbol\":\"circle\"},\"mode\":\"markers\",\"name\":\"Crime,Thriller\",\"orientation\":\"v\",\"showlegend\":true,\"x\":[8.3,8.2,8.1],\"xaxis\":\"x\",\"y\":[2.913644,0.031207,60.611975],\"yaxis\":\"y\",\"type\":\"scatter\"},{\"hovertemplate\":\"genre=Drama,Thriller,War\\u003cbr\\u003erating=%{x}\\u003cbr\\u003ebox_office=%{y}\\u003cextra\\u003e\\u003c\\u002fextra\\u003e\",\"legendgroup\":\"Drama,Thriller,War\",\"marker\":{\"color\":\"rgb(60, 154, 171)\",\"symbol\":\"circle\"},\"mode\":\"markers\",\"name\":\"Drama,Thriller,War\",\"orientation\":\"v\",\"showlegend\":true,\"x\":[8.4],\"xaxis\":\"x\",\"y\":[74.036715],\"yaxis\":\"y\",\"type\":\"scatter\"},{\"hovertemplate\":\"genre=Drama,Mystery\\u003cbr\\u003erating=%{x}\\u003cbr\\u003ebox_office=%{y}\\u003cextra\\u003e\\u003c\\u002fextra\\u003e\",\"legendgroup\":\"Drama,Mystery\",\"marker\":{\"color\":\"rgb(140, 193, 186)\",\"symbol\":\"circle\"},\"mode\":\"markers\",\"name\":\"Drama,Mystery\",\"orientation\":\"v\",\"showlegend\":true,\"x\":[8.3,8.3,8.2],\"xaxis\":\"x\",\"y\":[1.645133,6.788659,24.427162],\"yaxis\":\"y\",\"type\":\"scatter\"},{\"hovertemplate\":\"genre=Crime,Mystery,Thriller\\u003cbr\\u003erating=%{x}\\u003cbr\\u003ebox_office=%{y}\\u003cextra\\u003e\\u003c\\u002fextra\\u003e\",\"legendgroup\":\"Crime,Mystery,Thriller\",\"marker\":{\"color\":\"rgb(217, 229, 218)\",\"symbol\":\"circle\"},\"mode\":\"markers\",\"name\":\"Crime,Mystery,Thriller\",\"orientation\":\"v\",\"showlegend\":true,\"x\":[8.3],\"xaxis\":\"x\",\"y\":[0.035566],\"yaxis\":\"y\",\"type\":\"scatter\"},{\"hovertemplate\":\"genre=Adventure,Biography,Drama\\u003cbr\\u003erating=%{x}\\u003cbr\\u003ebox_office=%{y}\\u003cextra\\u003e\\u003c\\u002fextra\\u003e\",\"legendgroup\":\"Adventure,Biography,Drama\",\"marker\":{\"color\":\"rgb(239, 226, 156)\",\"symbol\":\"circle\"},\"mode\":\"markers\",\"name\":\"Adventure,Biography,Drama\",\"orientation\":\"v\",\"showlegend\":true,\"x\":[8.3,8.1,8.2],\"xaxis\":\"x\",\"y\":[45.720631,56.675895,0.01448],\"yaxis\":\"y\",\"type\":\"scatter\"},{\"hovertemplate\":\"genre=Action,Adventure,Mystery\\u003cbr\\u003erating=%{x}\\u003cbr\\u003ebox_office=%{y}\\u003cextra\\u003e\\u003c\\u002fextra\\u003e\",\"legendgroup\":\"Action,Adventure,Mystery\",\"marker\":{\"color\":\"rgb(195, 182, 59)\",\"symbol\":\"circle\"},\"mode\":\"markers\",\"name\":\"Action,Adventure,Mystery\",\"orientation\":\"v\",\"showlegend\":true,\"x\":[8.3],\"xaxis\":\"x\",\"y\":[0.142319],\"yaxis\":\"y\",\"type\":\"scatter\"},{\"hovertemplate\":\"genre=Mystery,Romance,Thriller\\u003cbr\\u003erating=%{x}\\u003cbr\\u003ebox_office=%{y}\\u003cextra\\u003e\\u003c\\u002fextra\\u003e\",\"legendgroup\":\"Mystery,Romance,Thriller\",\"marker\":{\"color\":\"rgb(115, 152, 5)\",\"symbol\":\"circle\"},\"mode\":\"markers\",\"name\":\"Mystery,Romance,Thriller\",\"orientation\":\"v\",\"showlegend\":true,\"x\":[8.3],\"xaxis\":\"x\",\"y\":[7.798146],\"yaxis\":\"y\",\"type\":\"scatter\"},{\"hovertemplate\":\"genre=Comedy,Romance\\u003cbr\\u003erating=%{x}\\u003cbr\\u003ebox_office=%{y}\\u003cextra\\u003e\\u003c\\u002fextra\\u003e\",\"legendgroup\":\"Comedy,Romance\",\"marker\":{\"color\":\"rgb(34, 120, 36)\",\"symbol\":\"circle\"},\"mode\":\"markers\",\"name\":\"Comedy,Romance\",\"orientation\":\"v\",\"showlegend\":true,\"x\":[8.3,8.1],\"xaxis\":\"x\",\"y\":[174.122191,0.011477],\"yaxis\":\"y\",\"type\":\"scatter\"},{\"hovertemplate\":\"genre=Crime,Sci-Fi\\u003cbr\\u003erating=%{x}\\u003cbr\\u003ebox_office=%{y}\\u003cextra\\u003e\\u003c\\u002fextra\\u003e\",\"legendgroup\":\"Crime,Sci-Fi\",\"marker\":{\"color\":\"rgb(18, 78, 43)\",\"symbol\":\"circle\"},\"mode\":\"markers\",\"name\":\"Crime,Sci-Fi\",\"orientation\":\"v\",\"showlegend\":true,\"x\":[8.3],\"xaxis\":\"x\",\"y\":[26.960374],\"yaxis\":\"y\",\"type\":\"scatter\"},{\"hovertemplate\":\"genre=Crime,Drama,Film-Noir\\u003cbr\\u003erating=%{x}\\u003cbr\\u003ebox_office=%{y}\\u003cextra\\u003e\\u003c\\u002fextra\\u003e\",\"legendgroup\":\"Crime,Drama,Film-Noir\",\"marker\":{\"color\":\"rgb(23, 35, 18)\",\"symbol\":\"circle\"},\"mode\":\"markers\",\"name\":\"Crime,Drama,Film-Noir\",\"orientation\":\"v\",\"showlegend\":true,\"x\":[8.3],\"xaxis\":\"x\",\"y\":[0.014651],\"yaxis\":\"y\",\"type\":\"scatter\"},{\"hovertemplate\":\"genre=Comedy,Crime,Drama\\u003cbr\\u003erating=%{x}\\u003cbr\\u003ebox_office=%{y}\\u003cextra\\u003e\\u003c\\u002fextra\\u003e\",\"legendgroup\":\"Comedy,Crime,Drama\",\"marker\":{\"color\":\"rgb(16, 31, 63)\",\"symbol\":\"circle\"},\"mode\":\"markers\",\"name\":\"Comedy,Crime,Drama\",\"orientation\":\"v\",\"showlegend\":true,\"x\":[8.3,8.1],\"xaxis\":\"x\",\"y\":[156.0,162.861289],\"yaxis\":\"y\",\"type\":\"scatter\"},{\"hovertemplate\":\"genre=Drama,Sci-Fi\\u003cbr\\u003erating=%{x}\\u003cbr\\u003ebox_office=%{y}\\u003cextra\\u003e\\u003c\\u002fextra\\u003e\",\"legendgroup\":\"Drama,Sci-Fi\",\"marker\":{\"color\":\"rgb(38, 62, 144)\",\"symbol\":\"circle\"},\"mode\":\"markers\",\"name\":\"Drama,Sci-Fi\",\"orientation\":\"v\",\"showlegend\":true,\"x\":[8.3],\"xaxis\":\"x\",\"y\":[1.349711],\"yaxis\":\"y\",\"type\":\"scatter\"},{\"hovertemplate\":\"genre=Action,Thriller\\u003cbr\\u003erating=%{x}\\u003cbr\\u003ebox_office=%{y}\\u003cextra\\u003e\\u003c\\u002fextra\\u003e\",\"legendgroup\":\"Action,Thriller\",\"marker\":{\"color\":\"rgb(30, 110, 161)\",\"symbol\":\"circle\"},\"mode\":\"markers\",\"name\":\"Action,Thriller\",\"orientation\":\"v\",\"showlegend\":true,\"x\":[8.2],\"xaxis\":\"x\",\"y\":[141.603197],\"yaxis\":\"y\",\"type\":\"scatter\"},{\"hovertemplate\":\"genre=Comedy,Crime\\u003cbr\\u003erating=%{x}\\u003cbr\\u003ebox_office=%{y}\\u003cextra\\u003e\\u003c\\u002fextra\\u003e\",\"legendgroup\":\"Comedy,Crime\",\"marker\":{\"color\":\"rgb(60, 154, 171)\",\"symbol\":\"circle\"},\"mode\":\"markers\",\"name\":\"Comedy,Crime\",\"orientation\":\"v\",\"showlegend\":true,\"x\":[8.2,8.1],\"xaxis\":\"x\",\"y\":[83.557872,46.969409],\"yaxis\":\"y\",\"type\":\"scatter\"},{\"hovertemplate\":\"genre=Drama,Family\\u003cbr\\u003erating=%{x}\\u003cbr\\u003ebox_office=%{y}\\u003cextra\\u003e\\u003c\\u002fextra\\u003e\",\"legendgroup\":\"Drama,Family\",\"marker\":{\"color\":\"rgb(140, 193, 186)\",\"symbol\":\"circle\"},\"mode\":\"markers\",\"name\":\"Drama,Family\",\"orientation\":\"v\",\"showlegend\":true,\"x\":[8.3,8.2],\"xaxis\":\"x\",\"y\":[21.897373,74.036715],\"yaxis\":\"y\",\"type\":\"scatter\"},{\"hovertemplate\":\"genre=Action,Drama,War\\u003cbr\\u003erating=%{x}\\u003cbr\\u003ebox_office=%{y}\\u003cextra\\u003e\\u003c\\u002fextra\\u003e\",\"legendgroup\":\"Action,Drama,War\",\"marker\":{\"color\":\"rgb(217, 229, 218)\",\"symbol\":\"circle\"},\"mode\":\"markers\",\"name\":\"Action,Drama,War\",\"orientation\":\"v\",\"showlegend\":true,\"x\":[8.2,8.2],\"xaxis\":\"x\",\"y\":[384.47994,4.164283],\"yaxis\":\"y\",\"type\":\"scatter\"},{\"hovertemplate\":\"genre=Action,Biography,Drama\\u003cbr\\u003erating=%{x}\\u003cbr\\u003ebox_office=%{y}\\u003cextra\\u003e\\u003c\\u002fextra\\u003e\",\"legendgroup\":\"Action,Biography,Drama\",\"marker\":{\"color\":\"rgb(239, 226, 156)\",\"symbol\":\"circle\"},\"mode\":\"markers\",\"name\":\"Action,Biography,Drama\",\"orientation\":\"v\",\"showlegend\":true,\"x\":[8.3,8.1,8.1],\"xaxis\":\"x\",\"y\":[74.036715,225.50821,96.983009],\"yaxis\":\"y\",\"type\":\"scatter\"},{\"hovertemplate\":\"genre=Comedy,Drama,Family\\u003cbr\\u003erating=%{x}\\u003cbr\\u003ebox_office=%{y}\\u003cextra\\u003e\\u003c\\u002fextra\\u003e\",\"legendgroup\":\"Comedy,Drama,Family\",\"marker\":{\"color\":\"rgb(195, 182, 59)\",\"symbol\":\"circle\"},\"mode\":\"markers\",\"name\":\"Comedy,Drama,Family\",\"orientation\":\"v\",\"showlegend\":true,\"x\":[8.3],\"xaxis\":\"x\",\"y\":[0.04196],\"yaxis\":\"y\",\"type\":\"scatter\"},{\"hovertemplate\":\"genre=Comedy,Music,Romance\\u003cbr\\u003erating=%{x}\\u003cbr\\u003ebox_office=%{y}\\u003cextra\\u003e\\u003c\\u002fextra\\u003e\",\"legendgroup\":\"Comedy,Music,Romance\",\"marker\":{\"color\":\"rgb(115, 152, 5)\",\"symbol\":\"circle\"},\"mode\":\"markers\",\"name\":\"Comedy,Music,Romance\",\"orientation\":\"v\",\"showlegend\":true,\"x\":[8.2],\"xaxis\":\"x\",\"y\":[0.195088],\"yaxis\":\"y\",\"type\":\"scatter\"},{\"hovertemplate\":\"genre=Biography,Comedy,Crime\\u003cbr\\u003erating=%{x}\\u003cbr\\u003ebox_office=%{y}\\u003cextra\\u003e\\u003c\\u002fextra\\u003e\",\"legendgroup\":\"Biography,Comedy,Crime\",\"marker\":{\"color\":\"rgb(34, 120, 36)\",\"symbol\":\"circle\"},\"mode\":\"markers\",\"name\":\"Biography,Comedy,Crime\",\"orientation\":\"v\",\"showlegend\":true,\"x\":[8.2],\"xaxis\":\"x\",\"y\":[406.878233],\"yaxis\":\"y\",\"type\":\"scatter\"},{\"hovertemplate\":\"genre=Drama,Fantasy,War\\u003cbr\\u003erating=%{x}\\u003cbr\\u003ebox_office=%{y}\\u003cextra\\u003e\\u003c\\u002fextra\\u003e\",\"legendgroup\":\"Drama,Fantasy,War\",\"marker\":{\"color\":\"rgb(18, 78, 43)\",\"symbol\":\"circle\"},\"mode\":\"markers\",\"name\":\"Drama,Fantasy,War\",\"orientation\":\"v\",\"showlegend\":true,\"x\":[8.2],\"xaxis\":\"x\",\"y\":[83.862032],\"yaxis\":\"y\",\"type\":\"scatter\"},{\"hovertemplate\":\"genre=Biography,Drama\\u003cbr\\u003erating=%{x}\\u003cbr\\u003ebox_office=%{y}\\u003cextra\\u003e\\u003c\\u002fextra\\u003e\",\"legendgroup\":\"Biography,Drama\",\"marker\":{\"color\":\"rgb(23, 35, 18)\",\"symbol\":\"circle\"},\"mode\":\"markers\",\"name\":\"Biography,Drama\",\"orientation\":\"v\",\"showlegend\":true,\"x\":[8.2,8.2],\"xaxis\":\"x\",\"y\":[316.791257,26.02386],\"yaxis\":\"y\",\"type\":\"scatter\"},{\"hovertemplate\":\"genre=Action,Drama,Thriller\\u003cbr\\u003erating=%{x}\\u003cbr\\u003ebox_office=%{y}\\u003cextra\\u003e\\u003c\\u002fextra\\u003e\",\"legendgroup\":\"Action,Drama,Thriller\",\"marker\":{\"color\":\"rgb(16, 31, 63)\",\"symbol\":\"circle\"},\"mode\":\"markers\",\"name\":\"Action,Drama,Thriller\",\"orientation\":\"v\",\"showlegend\":true,\"x\":[8.2],\"xaxis\":\"x\",\"y\":[0.046808],\"yaxis\":\"y\",\"type\":\"scatter\"},{\"hovertemplate\":\"genre=Adventure,Drama,Western\\u003cbr\\u003erating=%{x}\\u003cbr\\u003ebox_office=%{y}\\u003cextra\\u003e\\u003c\\u002fextra\\u003e\",\"legendgroup\":\"Adventure,Drama,Western\",\"marker\":{\"color\":\"rgb(38, 62, 144)\",\"symbol\":\"circle\"},\"mode\":\"markers\",\"name\":\"Adventure,Drama,Western\",\"orientation\":\"v\",\"showlegend\":true,\"x\":[8.2,8.0],\"xaxis\":\"x\",\"y\":[5.014,424.208848],\"yaxis\":\"y\",\"type\":\"scatter\"},{\"hovertemplate\":\"genre=Adventure,Comedy,Fantasy\\u003cbr\\u003erating=%{x}\\u003cbr\\u003ebox_office=%{y}\\u003cextra\\u003e\\u003c\\u002fextra\\u003e\",\"legendgroup\":\"Adventure,Comedy,Fantasy\",\"marker\":{\"color\":\"rgb(30, 110, 161)\",\"symbol\":\"circle\"},\"mode\":\"markers\",\"name\":\"Adventure,Comedy,Fantasy\",\"orientation\":\"v\",\"showlegend\":true,\"x\":[8.2],\"xaxis\":\"x\",\"y\":[1.940906],\"yaxis\":\"y\",\"type\":\"scatter\"},{\"hovertemplate\":\"genre=Adventure,Drama,History\\u003cbr\\u003erating=%{x}\\u003cbr\\u003ebox_office=%{y}\\u003cextra\\u003e\\u003c\\u002fextra\\u003e\",\"legendgroup\":\"Adventure,Drama,History\",\"marker\":{\"color\":\"rgb(60, 154, 171)\",\"symbol\":\"circle\"},\"mode\":\"markers\",\"name\":\"Adventure,Drama,History\",\"orientation\":\"v\",\"showlegend\":true,\"x\":[8.2],\"xaxis\":\"x\",\"y\":[0.228178],\"yaxis\":\"y\",\"type\":\"scatter\"},{\"hovertemplate\":\"genre=Horror,Mystery,Sci-Fi\\u003cbr\\u003erating=%{x}\\u003cbr\\u003ebox_office=%{y}\\u003cextra\\u003e\\u003c\\u002fextra\\u003e\",\"legendgroup\":\"Horror,Mystery,Sci-Fi\",\"marker\":{\"color\":\"rgb(140, 193, 186)\",\"symbol\":\"circle\"},\"mode\":\"markers\",\"name\":\"Horror,Mystery,Sci-Fi\",\"orientation\":\"v\",\"showlegend\":true,\"x\":[8.2],\"xaxis\":\"x\",\"y\":[19.632715],\"yaxis\":\"y\",\"type\":\"scatter\"},{\"hovertemplate\":\"genre=Biography,Drama,Sport\\u003cbr\\u003erating=%{x}\\u003cbr\\u003ebox_office=%{y}\\u003cextra\\u003e\\u003c\\u002fextra\\u003e\",\"legendgroup\":\"Biography,Drama,Sport\",\"marker\":{\"color\":\"rgb(217, 229, 218)\",\"symbol\":\"circle\"},\"mode\":\"markers\",\"name\":\"Biography,Drama,Sport\",\"orientation\":\"v\",\"showlegend\":true,\"x\":[8.2],\"xaxis\":\"x\",\"y\":[23.402427],\"yaxis\":\"y\",\"type\":\"scatter\"},{\"hovertemplate\":\"genre=Action,Drama,Sci-Fi\\u003cbr\\u003erating=%{x}\\u003cbr\\u003ebox_office=%{y}\\u003cextra\\u003e\\u003c\\u002fextra\\u003e\",\"legendgroup\":\"Action,Drama,Sci-Fi\",\"marker\":{\"color\":\"rgb(239, 226, 156)\",\"symbol\":\"circle\"},\"mode\":\"markers\",\"name\":\"Action,Drama,Sci-Fi\",\"orientation\":\"v\",\"showlegend\":true,\"x\":[8.2,8.1,8.1],\"xaxis\":\"x\",\"y\":[134.686457,41.722424,619.17995],\"yaxis\":\"y\",\"type\":\"scatter\"},{\"hovertemplate\":\"genre=Action,Comedy,Crime\\u003cbr\\u003erating=%{x}\\u003cbr\\u003ebox_office=%{y}\\u003cextra\\u003e\\u003c\\u002fextra\\u003e\",\"legendgroup\":\"Action,Comedy,Crime\",\"marker\":{\"color\":\"rgb(195, 182, 59)\",\"symbol\":\"circle\"},\"mode\":\"markers\",\"name\":\"Action,Comedy,Crime\",\"orientation\":\"v\",\"showlegend\":true,\"x\":[8.2],\"xaxis\":\"x\",\"y\":[3.753929],\"yaxis\":\"y\",\"type\":\"scatter\"},{\"hovertemplate\":\"genre=Drama,Mystery,Romance\\u003cbr\\u003erating=%{x}\\u003cbr\\u003ebox_office=%{y}\\u003cextra\\u003e\\u003c\\u002fextra\\u003e\",\"legendgroup\":\"Drama,Mystery,Romance\",\"marker\":{\"color\":\"rgb(115, 152, 5)\",\"symbol\":\"circle\"},\"mode\":\"markers\",\"name\":\"Drama,Mystery,Romance\",\"orientation\":\"v\",\"showlegend\":true,\"x\":[8.2],\"xaxis\":\"x\",\"y\":[74.036715],\"yaxis\":\"y\",\"type\":\"scatter\"},{\"hovertemplate\":\"genre=Action,Drama,Sport\\u003cbr\\u003erating=%{x}\\u003cbr\\u003ebox_office=%{y}\\u003cextra\\u003e\\u003c\\u002fextra\\u003e\",\"legendgroup\":\"Action,Drama,Sport\",\"marker\":{\"color\":\"rgb(34, 120, 36)\",\"symbol\":\"circle\"},\"mode\":\"markers\",\"name\":\"Action,Drama,Sport\",\"orientation\":\"v\",\"showlegend\":true,\"x\":[8.2],\"xaxis\":\"x\",\"y\":[23.308615],\"yaxis\":\"y\",\"type\":\"scatter\"},{\"hovertemplate\":\"genre=Animation,Comedy,Family\\u003cbr\\u003erating=%{x}\\u003cbr\\u003ebox_office=%{y}\\u003cextra\\u003e\\u003c\\u002fextra\\u003e\",\"legendgroup\":\"Animation,Comedy,Family\",\"marker\":{\"color\":\"rgb(18, 78, 43)\",\"symbol\":\"circle\"},\"mode\":\"markers\",\"name\":\"Animation,Comedy,Family\",\"orientation\":\"v\",\"showlegend\":true,\"x\":[8.1],\"xaxis\":\"x\",\"y\":[74.036715],\"yaxis\":\"y\",\"type\":\"scatter\"},{\"hovertemplate\":\"genre=Drama,Sport\\u003cbr\\u003erating=%{x}\\u003cbr\\u003ebox_office=%{y}\\u003cextra\\u003e\\u003c\\u002fextra\\u003e\",\"legendgroup\":\"Drama,Sport\",\"marker\":{\"color\":\"rgb(23, 35, 18)\",\"symbol\":\"circle\"},\"mode\":\"markers\",\"name\":\"Drama,Sport\",\"orientation\":\"v\",\"showlegend\":true,\"x\":[8.1,8.1],\"xaxis\":\"x\",\"y\":[216.763646,117.250402],\"yaxis\":\"y\",\"type\":\"scatter\"},{\"hovertemplate\":\"genre=Drama,Family,Sport\\u003cbr\\u003erating=%{x}\\u003cbr\\u003ebox_office=%{y}\\u003cextra\\u003e\\u003c\\u002fextra\\u003e\",\"legendgroup\":\"Drama,Family,Sport\",\"marker\":{\"color\":\"rgb(16, 31, 63)\",\"symbol\":\"circle\"},\"mode\":\"markers\",\"name\":\"Drama,Family,Sport\",\"orientation\":\"v\",\"showlegend\":true,\"x\":[8.2],\"xaxis\":\"x\",\"y\":[74.036715],\"yaxis\":\"y\",\"type\":\"scatter\"},{\"hovertemplate\":\"genre=Adventure,Comedy,Drama\\u003cbr\\u003erating=%{x}\\u003cbr\\u003ebox_office=%{y}\\u003cextra\\u003e\\u003c\\u002fextra\\u003e\",\"legendgroup\":\"Adventure,Comedy,Drama\",\"marker\":{\"color\":\"rgb(38, 62, 144)\",\"symbol\":\"circle\"},\"mode\":\"markers\",\"name\":\"Adventure,Comedy,Drama\",\"orientation\":\"v\",\"showlegend\":true,\"x\":[8.1],\"xaxis\":\"x\",\"y\":[0.029328],\"yaxis\":\"y\",\"type\":\"scatter\"},{\"hovertemplate\":\"genre=Adventure,Family,Fantasy\\u003cbr\\u003erating=%{x}\\u003cbr\\u003ebox_office=%{y}\\u003cextra\\u003e\\u003c\\u002fextra\\u003e\",\"legendgroup\":\"Adventure,Family,Fantasy\",\"marker\":{\"color\":\"rgb(30, 110, 161)\",\"symbol\":\"circle\"},\"mode\":\"markers\",\"name\":\"Adventure,Family,Fantasy\",\"orientation\":\"v\",\"showlegend\":true,\"x\":[8.1,8.1],\"xaxis\":\"x\",\"y\":[1342.359942,25.637669],\"yaxis\":\"y\",\"type\":\"scatter\"},{\"hovertemplate\":\"genre=Adventure,Drama\\u003cbr\\u003erating=%{x}\\u003cbr\\u003ebox_office=%{y}\\u003cextra\\u003e\\u003c\\u002fextra\\u003e\",\"legendgroup\":\"Adventure,Drama\",\"marker\":{\"color\":\"rgb(60, 154, 171)\",\"symbol\":\"circle\"},\"mode\":\"markers\",\"name\":\"Adventure,Drama\",\"orientation\":\"v\",\"showlegend\":true,\"x\":[8.1,8.1],\"xaxis\":\"x\",\"y\":[74.43772,52.287414],\"yaxis\":\"y\",\"type\":\"scatter\"},{\"hovertemplate\":\"genre=Adventure,Comedy,Crime\\u003cbr\\u003erating=%{x}\\u003cbr\\u003ebox_office=%{y}\\u003cextra\\u003e\\u003c\\u002fextra\\u003e\",\"legendgroup\":\"Adventure,Comedy,Crime\",\"marker\":{\"color\":\"rgb(140, 193, 186)\",\"symbol\":\"circle\"},\"mode\":\"markers\",\"name\":\"Adventure,Comedy,Crime\",\"orientation\":\"v\",\"showlegend\":true,\"x\":[8.1],\"xaxis\":\"x\",\"y\":[173.082189],\"yaxis\":\"y\",\"type\":\"scatter\"},{\"hovertemplate\":\"genre=Action,Adventure,Comedy\\u003cbr\\u003erating=%{x}\\u003cbr\\u003ebox_office=%{y}\\u003cextra\\u003e\\u003c\\u002fextra\\u003e\",\"legendgroup\":\"Action,Adventure,Comedy\",\"marker\":{\"color\":\"rgb(217, 229, 218)\",\"symbol\":\"circle\"},\"mode\":\"markers\",\"name\":\"Action,Adventure,Comedy\",\"orientation\":\"v\",\"showlegend\":true,\"x\":[8.1],\"xaxis\":\"x\",\"y\":[74.036715],\"yaxis\":\"y\",\"type\":\"scatter\"},{\"hovertemplate\":\"genre=Film-Noir,Mystery,Thriller\\u003cbr\\u003erating=%{x}\\u003cbr\\u003ebox_office=%{y}\\u003cextra\\u003e\\u003c\\u002fextra\\u003e\",\"legendgroup\":\"Film-Noir,Mystery,Thriller\",\"marker\":{\"color\":\"rgb(239, 226, 156)\",\"symbol\":\"circle\"},\"mode\":\"markers\",\"name\":\"Film-Noir,Mystery,Thriller\",\"orientation\":\"v\",\"showlegend\":true,\"x\":[8.1],\"xaxis\":\"x\",\"y\":[1.226507],\"yaxis\":\"y\",\"type\":\"scatter\"},{\"hovertemplate\":\"genre=Adventure,Drama,Thriller\\u003cbr\\u003erating=%{x}\\u003cbr\\u003ebox_office=%{y}\\u003cextra\\u003e\\u003c\\u002fextra\\u003e\",\"legendgroup\":\"Adventure,Drama,Thriller\",\"marker\":{\"color\":\"rgb(195, 182, 59)\",\"symbol\":\"circle\"},\"mode\":\"markers\",\"name\":\"Adventure,Drama,Thriller\",\"orientation\":\"v\",\"showlegend\":true,\"x\":[8.2],\"xaxis\":\"x\",\"y\":[0.001098],\"yaxis\":\"y\",\"type\":\"scatter\"},{\"hovertemplate\":\"genre=Action,Comedy,Romance\\u003cbr\\u003erating=%{x}\\u003cbr\\u003ebox_office=%{y}\\u003cextra\\u003e\\u003c\\u002fextra\\u003e\",\"legendgroup\":\"Action,Comedy,Romance\",\"marker\":{\"color\":\"rgb(115, 152, 5)\",\"symbol\":\"circle\"},\"mode\":\"markers\",\"name\":\"Action,Comedy,Romance\",\"orientation\":\"v\",\"showlegend\":true,\"x\":[8.2],\"xaxis\":\"x\",\"y\":[74.036715],\"yaxis\":\"y\",\"type\":\"scatter\"},{\"hovertemplate\":\"genre=Comedy,Drama,Thriller\\u003cbr\\u003erating=%{x}\\u003cbr\\u003ebox_office=%{y}\\u003cextra\\u003e\\u003c\\u002fextra\\u003e\",\"legendgroup\":\"Comedy,Drama,Thriller\",\"marker\":{\"color\":\"rgb(34, 120, 36)\",\"symbol\":\"circle\"},\"mode\":\"markers\",\"name\":\"Comedy,Drama,Thriller\",\"orientation\":\"v\",\"showlegend\":true,\"x\":[8.1],\"xaxis\":\"x\",\"y\":[74.036715],\"yaxis\":\"y\",\"type\":\"scatter\"},{\"hovertemplate\":\"genre=Drama,Fantasy\\u003cbr\\u003erating=%{x}\\u003cbr\\u003ebox_office=%{y}\\u003cextra\\u003e\\u003c\\u002fextra\\u003e\",\"legendgroup\":\"Drama,Fantasy\",\"marker\":{\"color\":\"rgb(18, 78, 43)\",\"symbol\":\"circle\"},\"mode\":\"markers\",\"name\":\"Drama,Fantasy\",\"orientation\":\"v\",\"showlegend\":true,\"x\":[8.1],\"xaxis\":\"x\",\"y\":[0.311212],\"yaxis\":\"y\",\"type\":\"scatter\"},{\"hovertemplate\":\"genre=Animation,Comedy,Drama\\u003cbr\\u003erating=%{x}\\u003cbr\\u003ebox_office=%{y}\\u003cextra\\u003e\\u003c\\u002fextra\\u003e\",\"legendgroup\":\"Animation,Comedy,Drama\",\"marker\":{\"color\":\"rgb(23, 35, 18)\",\"symbol\":\"circle\"},\"mode\":\"markers\",\"name\":\"Animation,Comedy,Drama\",\"orientation\":\"v\",\"showlegend\":true,\"x\":[8.1],\"xaxis\":\"x\",\"y\":[1.740429],\"yaxis\":\"y\",\"type\":\"scatter\"},{\"hovertemplate\":\"genre=Adventure,Thriller\\u003cbr\\u003erating=%{x}\\u003cbr\\u003ebox_office=%{y}\\u003cextra\\u003e\\u003c\\u002fextra\\u003e\",\"legendgroup\":\"Adventure,Thriller\",\"marker\":{\"color\":\"rgb(16, 31, 63)\",\"symbol\":\"circle\"},\"mode\":\"markers\",\"name\":\"Adventure,Thriller\",\"orientation\":\"v\",\"showlegend\":true,\"x\":[8.1],\"xaxis\":\"x\",\"y\":[476.512065],\"yaxis\":\"y\",\"type\":\"scatter\"},{\"hovertemplate\":\"genre=Comedy,Drama,Fantasy\\u003cbr\\u003erating=%{x}\\u003cbr\\u003ebox_office=%{y}\\u003cextra\\u003e\\u003c\\u002fextra\\u003e\",\"legendgroup\":\"Comedy,Drama,Fantasy\",\"marker\":{\"color\":\"rgb(38, 62, 144)\",\"symbol\":\"circle\"},\"mode\":\"markers\",\"name\":\"Comedy,Drama,Fantasy\",\"orientation\":\"v\",\"showlegend\":true,\"x\":[8.1],\"xaxis\":\"x\",\"y\":[71.108591],\"yaxis\":\"y\",\"type\":\"scatter\"},{\"hovertemplate\":\"genre=Horror\\u003cbr\\u003erating=%{x}\\u003cbr\\u003ebox_office=%{y}\\u003cextra\\u003e\\u003c\\u002fextra\\u003e\",\"legendgroup\":\"Horror\",\"marker\":{\"color\":\"rgb(30, 110, 161)\",\"symbol\":\"circle\"},\"mode\":\"markers\",\"name\":\"Horror\",\"orientation\":\"v\",\"showlegend\":true,\"x\":[8.1],\"xaxis\":\"x\",\"y\":[441.306145],\"yaxis\":\"y\",\"type\":\"scatter\"},{\"hovertemplate\":\"genre=Comedy,Romance,War\\u003cbr\\u003erating=%{x}\\u003cbr\\u003ebox_office=%{y}\\u003cextra\\u003e\\u003c\\u002fextra\\u003e\",\"legendgroup\":\"Comedy,Romance,War\",\"marker\":{\"color\":\"rgb(60, 154, 171)\",\"symbol\":\"circle\"},\"mode\":\"markers\",\"name\":\"Comedy,Romance,War\",\"orientation\":\"v\",\"showlegend\":true,\"x\":[8.2],\"xaxis\":\"x\",\"y\":[74.036715],\"yaxis\":\"y\",\"type\":\"scatter\"},{\"hovertemplate\":\"genre=Biography,Drama,Family\\u003cbr\\u003erating=%{x}\\u003cbr\\u003ebox_office=%{y}\\u003cextra\\u003e\\u003c\\u002fextra\\u003e\",\"legendgroup\":\"Biography,Drama,Family\",\"marker\":{\"color\":\"rgb(140, 193, 186)\",\"symbol\":\"circle\"},\"mode\":\"markers\",\"name\":\"Biography,Drama,Family\",\"orientation\":\"v\",\"showlegend\":true,\"x\":[8.1,8.1],\"xaxis\":\"x\",\"y\":[74.036715,159.428329],\"yaxis\":\"y\",\"type\":\"scatter\"},{\"hovertemplate\":\"genre=Drama,Film-Noir,Mystery\\u003cbr\\u003erating=%{x}\\u003cbr\\u003ebox_office=%{y}\\u003cextra\\u003e\\u003c\\u002fextra\\u003e\",\"legendgroup\":\"Drama,Film-Noir,Mystery\",\"marker\":{\"color\":\"rgb(217, 229, 218)\",\"symbol\":\"circle\"},\"mode\":\"markers\",\"name\":\"Drama,Film-Noir,Mystery\",\"orientation\":\"v\",\"showlegend\":true,\"x\":[8.1],\"xaxis\":\"x\",\"y\":[0.072275],\"yaxis\":\"y\",\"type\":\"scatter\"},{\"hovertemplate\":\"genre=Drama,Romance,Thriller\\u003cbr\\u003erating=%{x}\\u003cbr\\u003ebox_office=%{y}\\u003cextra\\u003e\\u003c\\u002fextra\\u003e\",\"legendgroup\":\"Drama,Romance,Thriller\",\"marker\":{\"color\":\"rgb(239, 226, 156)\",\"symbol\":\"circle\"},\"mode\":\"markers\",\"name\":\"Drama,Romance,Thriller\",\"orientation\":\"v\",\"showlegend\":true,\"x\":[8.1],\"xaxis\":\"x\",\"y\":[74.036715],\"yaxis\":\"y\",\"type\":\"scatter\"},{\"hovertemplate\":\"genre=Comedy\\u003cbr\\u003erating=%{x}\\u003cbr\\u003ebox_office=%{y}\\u003cextra\\u003e\\u003c\\u002fextra\\u003e\",\"legendgroup\":\"Comedy\",\"marker\":{\"color\":\"rgb(195, 182, 59)\",\"symbol\":\"circle\"},\"mode\":\"markers\",\"name\":\"Comedy\",\"orientation\":\"v\",\"showlegend\":true,\"x\":[8.0],\"xaxis\":\"x\",\"y\":[20.745728],\"yaxis\":\"y\",\"type\":\"scatter\"}],                        {\"template\":{\"data\":{\"histogram2dcontour\":[{\"type\":\"histogram2dcontour\",\"colorbar\":{\"outlinewidth\":0,\"ticks\":\"\"},\"colorscale\":[[0.0,\"#0d0887\"],[0.1111111111111111,\"#46039f\"],[0.2222222222222222,\"#7201a8\"],[0.3333333333333333,\"#9c179e\"],[0.4444444444444444,\"#bd3786\"],[0.5555555555555556,\"#d8576b\"],[0.6666666666666666,\"#ed7953\"],[0.7777777777777778,\"#fb9f3a\"],[0.8888888888888888,\"#fdca26\"],[1.0,\"#f0f921\"]]}],\"choropleth\":[{\"type\":\"choropleth\",\"colorbar\":{\"outlinewidth\":0,\"ticks\":\"\"}}],\"histogram2d\":[{\"type\":\"histogram2d\",\"colorbar\":{\"outlinewidth\":0,\"ticks\":\"\"},\"colorscale\":[[0.0,\"#0d0887\"],[0.1111111111111111,\"#46039f\"],[0.2222222222222222,\"#7201a8\"],[0.3333333333333333,\"#9c179e\"],[0.4444444444444444,\"#bd3786\"],[0.5555555555555556,\"#d8576b\"],[0.6666666666666666,\"#ed7953\"],[0.7777777777777778,\"#fb9f3a\"],[0.8888888888888888,\"#fdca26\"],[1.0,\"#f0f921\"]]}],\"heatmap\":[{\"type\":\"heatmap\",\"colorbar\":{\"outlinewidth\":0,\"ticks\":\"\"},\"colorscale\":[[0.0,\"#0d0887\"],[0.1111111111111111,\"#46039f\"],[0.2222222222222222,\"#7201a8\"],[0.3333333333333333,\"#9c179e\"],[0.4444444444444444,\"#bd3786\"],[0.5555555555555556,\"#d8576b\"],[0.6666666666666666,\"#ed7953\"],[0.7777777777777778,\"#fb9f3a\"],[0.8888888888888888,\"#fdca26\"],[1.0,\"#f0f921\"]]}],\"heatmapgl\":[{\"type\":\"heatmapgl\",\"colorbar\":{\"outlinewidth\":0,\"ticks\":\"\"},\"colorscale\":[[0.0,\"#0d0887\"],[0.1111111111111111,\"#46039f\"],[0.2222222222222222,\"#7201a8\"],[0.3333333333333333,\"#9c179e\"],[0.4444444444444444,\"#bd3786\"],[0.5555555555555556,\"#d8576b\"],[0.6666666666666666,\"#ed7953\"],[0.7777777777777778,\"#fb9f3a\"],[0.8888888888888888,\"#fdca26\"],[1.0,\"#f0f921\"]]}],\"contourcarpet\":[{\"type\":\"contourcarpet\",\"colorbar\":{\"outlinewidth\":0,\"ticks\":\"\"}}],\"contour\":[{\"type\":\"contour\",\"colorbar\":{\"outlinewidth\":0,\"ticks\":\"\"},\"colorscale\":[[0.0,\"#0d0887\"],[0.1111111111111111,\"#46039f\"],[0.2222222222222222,\"#7201a8\"],[0.3333333333333333,\"#9c179e\"],[0.4444444444444444,\"#bd3786\"],[0.5555555555555556,\"#d8576b\"],[0.6666666666666666,\"#ed7953\"],[0.7777777777777778,\"#fb9f3a\"],[0.8888888888888888,\"#fdca26\"],[1.0,\"#f0f921\"]]}],\"surface\":[{\"type\":\"surface\",\"colorbar\":{\"outlinewidth\":0,\"ticks\":\"\"},\"colorscale\":[[0.0,\"#0d0887\"],[0.1111111111111111,\"#46039f\"],[0.2222222222222222,\"#7201a8\"],[0.3333333333333333,\"#9c179e\"],[0.4444444444444444,\"#bd3786\"],[0.5555555555555556,\"#d8576b\"],[0.6666666666666666,\"#ed7953\"],[0.7777777777777778,\"#fb9f3a\"],[0.8888888888888888,\"#fdca26\"],[1.0,\"#f0f921\"]]}],\"mesh3d\":[{\"type\":\"mesh3d\",\"colorbar\":{\"outlinewidth\":0,\"ticks\":\"\"}}],\"scatter\":[{\"fillpattern\":{\"fillmode\":\"overlay\",\"size\":10,\"solidity\":0.2},\"type\":\"scatter\"}],\"parcoords\":[{\"type\":\"parcoords\",\"line\":{\"colorbar\":{\"outlinewidth\":0,\"ticks\":\"\"}}}],\"scatterpolargl\":[{\"type\":\"scatterpolargl\",\"marker\":{\"colorbar\":{\"outlinewidth\":0,\"ticks\":\"\"}}}],\"bar\":[{\"error_x\":{\"color\":\"#2a3f5f\"},\"error_y\":{\"color\":\"#2a3f5f\"},\"marker\":{\"line\":{\"color\":\"#E5ECF6\",\"width\":0.5},\"pattern\":{\"fillmode\":\"overlay\",\"size\":10,\"solidity\":0.2}},\"type\":\"bar\"}],\"scattergeo\":[{\"type\":\"scattergeo\",\"marker\":{\"colorbar\":{\"outlinewidth\":0,\"ticks\":\"\"}}}],\"scatterpolar\":[{\"type\":\"scatterpolar\",\"marker\":{\"colorbar\":{\"outlinewidth\":0,\"ticks\":\"\"}}}],\"histogram\":[{\"marker\":{\"pattern\":{\"fillmode\":\"overlay\",\"size\":10,\"solidity\":0.2}},\"type\":\"histogram\"}],\"scattergl\":[{\"type\":\"scattergl\",\"marker\":{\"colorbar\":{\"outlinewidth\":0,\"ticks\":\"\"}}}],\"scatter3d\":[{\"type\":\"scatter3d\",\"line\":{\"colorbar\":{\"outlinewidth\":0,\"ticks\":\"\"}},\"marker\":{\"colorbar\":{\"outlinewidth\":0,\"ticks\":\"\"}}}],\"scattermapbox\":[{\"type\":\"scattermapbox\",\"marker\":{\"colorbar\":{\"outlinewidth\":0,\"ticks\":\"\"}}}],\"scatterternary\":[{\"type\":\"scatterternary\",\"marker\":{\"colorbar\":{\"outlinewidth\":0,\"ticks\":\"\"}}}],\"scattercarpet\":[{\"type\":\"scattercarpet\",\"marker\":{\"colorbar\":{\"outlinewidth\":0,\"ticks\":\"\"}}}],\"carpet\":[{\"aaxis\":{\"endlinecolor\":\"#2a3f5f\",\"gridcolor\":\"white\",\"linecolor\":\"white\",\"minorgridcolor\":\"white\",\"startlinecolor\":\"#2a3f5f\"},\"baxis\":{\"endlinecolor\":\"#2a3f5f\",\"gridcolor\":\"white\",\"linecolor\":\"white\",\"minorgridcolor\":\"white\",\"startlinecolor\":\"#2a3f5f\"},\"type\":\"carpet\"}],\"table\":[{\"cells\":{\"fill\":{\"color\":\"#EBF0F8\"},\"line\":{\"color\":\"white\"}},\"header\":{\"fill\":{\"color\":\"#C8D4E3\"},\"line\":{\"color\":\"white\"}},\"type\":\"table\"}],\"barpolar\":[{\"marker\":{\"line\":{\"color\":\"#E5ECF6\",\"width\":0.5},\"pattern\":{\"fillmode\":\"overlay\",\"size\":10,\"solidity\":0.2}},\"type\":\"barpolar\"}],\"pie\":[{\"automargin\":true,\"type\":\"pie\"}]},\"layout\":{\"autotypenumbers\":\"strict\",\"colorway\":[\"#636efa\",\"#EF553B\",\"#00cc96\",\"#ab63fa\",\"#FFA15A\",\"#19d3f3\",\"#FF6692\",\"#B6E880\",\"#FF97FF\",\"#FECB52\"],\"font\":{\"color\":\"#2a3f5f\"},\"hovermode\":\"closest\",\"hoverlabel\":{\"align\":\"left\"},\"paper_bgcolor\":\"white\",\"plot_bgcolor\":\"#E5ECF6\",\"polar\":{\"bgcolor\":\"#E5ECF6\",\"angularaxis\":{\"gridcolor\":\"white\",\"linecolor\":\"white\",\"ticks\":\"\"},\"radialaxis\":{\"gridcolor\":\"white\",\"linecolor\":\"white\",\"ticks\":\"\"}},\"ternary\":{\"bgcolor\":\"#E5ECF6\",\"aaxis\":{\"gridcolor\":\"white\",\"linecolor\":\"white\",\"ticks\":\"\"},\"baxis\":{\"gridcolor\":\"white\",\"linecolor\":\"white\",\"ticks\":\"\"},\"caxis\":{\"gridcolor\":\"white\",\"linecolor\":\"white\",\"ticks\":\"\"}},\"coloraxis\":{\"colorbar\":{\"outlinewidth\":0,\"ticks\":\"\"}},\"colorscale\":{\"sequential\":[[0.0,\"#0d0887\"],[0.1111111111111111,\"#46039f\"],[0.2222222222222222,\"#7201a8\"],[0.3333333333333333,\"#9c179e\"],[0.4444444444444444,\"#bd3786\"],[0.5555555555555556,\"#d8576b\"],[0.6666666666666666,\"#ed7953\"],[0.7777777777777778,\"#fb9f3a\"],[0.8888888888888888,\"#fdca26\"],[1.0,\"#f0f921\"]],\"sequentialminus\":[[0.0,\"#0d0887\"],[0.1111111111111111,\"#46039f\"],[0.2222222222222222,\"#7201a8\"],[0.3333333333333333,\"#9c179e\"],[0.4444444444444444,\"#bd3786\"],[0.5555555555555556,\"#d8576b\"],[0.6666666666666666,\"#ed7953\"],[0.7777777777777778,\"#fb9f3a\"],[0.8888888888888888,\"#fdca26\"],[1.0,\"#f0f921\"]],\"diverging\":[[0,\"#8e0152\"],[0.1,\"#c51b7d\"],[0.2,\"#de77ae\"],[0.3,\"#f1b6da\"],[0.4,\"#fde0ef\"],[0.5,\"#f7f7f7\"],[0.6,\"#e6f5d0\"],[0.7,\"#b8e186\"],[0.8,\"#7fbc41\"],[0.9,\"#4d9221\"],[1,\"#276419\"]]},\"xaxis\":{\"gridcolor\":\"white\",\"linecolor\":\"white\",\"ticks\":\"\",\"title\":{\"standoff\":15},\"zerolinecolor\":\"white\",\"automargin\":true,\"zerolinewidth\":2},\"yaxis\":{\"gridcolor\":\"white\",\"linecolor\":\"white\",\"ticks\":\"\",\"title\":{\"standoff\":15},\"zerolinecolor\":\"white\",\"automargin\":true,\"zerolinewidth\":2},\"scene\":{\"xaxis\":{\"backgroundcolor\":\"#E5ECF6\",\"gridcolor\":\"white\",\"linecolor\":\"white\",\"showbackground\":true,\"ticks\":\"\",\"zerolinecolor\":\"white\",\"gridwidth\":2},\"yaxis\":{\"backgroundcolor\":\"#E5ECF6\",\"gridcolor\":\"white\",\"linecolor\":\"white\",\"showbackground\":true,\"ticks\":\"\",\"zerolinecolor\":\"white\",\"gridwidth\":2},\"zaxis\":{\"backgroundcolor\":\"#E5ECF6\",\"gridcolor\":\"white\",\"linecolor\":\"white\",\"showbackground\":true,\"ticks\":\"\",\"zerolinecolor\":\"white\",\"gridwidth\":2}},\"shapedefaults\":{\"line\":{\"color\":\"#2a3f5f\"}},\"annotationdefaults\":{\"arrowcolor\":\"#2a3f5f\",\"arrowhead\":0,\"arrowwidth\":1},\"geo\":{\"bgcolor\":\"white\",\"landcolor\":\"#E5ECF6\",\"subunitcolor\":\"white\",\"showland\":true,\"showlakes\":true,\"lakecolor\":\"white\"},\"title\":{\"x\":0.05},\"mapbox\":{\"style\":\"light\"}}},\"xaxis\":{\"anchor\":\"y\",\"domain\":[0.0,1.0],\"title\":{\"text\":\"rating\"}},\"yaxis\":{\"anchor\":\"x\",\"domain\":[0.0,1.0],\"title\":{\"text\":\"box_office\"}},\"legend\":{\"title\":{\"text\":\"genre\"},\"tracegroupgap\":0},\"title\":{\"text\":\"Rating V\\u002fs Box Office\"}},                        {\"responsive\": true}                    ).then(function(){\n",
              "                            \n",
              "var gd = document.getElementById('f2ed73e7-8f11-4ba5-91cc-8260aca5d3b8');\n",
              "var x = new MutationObserver(function (mutations, observer) {{\n",
              "        var display = window.getComputedStyle(gd).display;\n",
              "        if (!display || display === 'none') {{\n",
              "            console.log([gd, 'removed!']);\n",
              "            Plotly.purge(gd);\n",
              "            observer.disconnect();\n",
              "        }}\n",
              "}});\n",
              "\n",
              "// Listen for the removal of the full notebook cells\n",
              "var notebookContainer = gd.closest('#notebook-container');\n",
              "if (notebookContainer) {{\n",
              "    x.observe(notebookContainer, {childList: true});\n",
              "}}\n",
              "\n",
              "// Listen for the clearing of the current output cell\n",
              "var outputEl = gd.closest('.output');\n",
              "if (outputEl) {{\n",
              "    x.observe(outputEl, {childList: true});\n",
              "}}\n",
              "\n",
              "                        })                };                            </script>        </div>\n",
              "</body>\n",
              "</html>"
            ]
          },
          "metadata": {}
        }
      ]
    },
    {
      "cell_type": "markdown",
      "source": [
        "**Observation** - Highly-rated movies tend to not earn too well at the box office. Movies with ratings between 8.2-8.6 have shown good box office collections."
      ],
      "metadata": {
        "id": "M01vN9amyYPx"
      }
    },
    {
      "cell_type": "code",
      "source": [
        "# Budget vs. Box Office (Scatter Plot)\n",
        "\n",
        "px.scatter(top_250_movies, x='budget', y='box_office', color='genre', title='Budget V/s Box Office', color_discrete_sequence = px.colors.diverging.delta)"
      ],
      "metadata": {
        "colab": {
          "base_uri": "https://localhost:8080/",
          "height": 542
        },
        "id": "jXtK_23xw-YQ",
        "outputId": "195ff212-bc5a-4600-c379-a027da00ec61"
      },
      "execution_count": 177,
      "outputs": [
        {
          "output_type": "display_data",
          "data": {
            "text/html": [
              "<html>\n",
              "<head><meta charset=\"utf-8\" /></head>\n",
              "<body>\n",
              "    <div>            <script src=\"https://cdnjs.cloudflare.com/ajax/libs/mathjax/2.7.5/MathJax.js?config=TeX-AMS-MML_SVG\"></script><script type=\"text/javascript\">if (window.MathJax && window.MathJax.Hub && window.MathJax.Hub.Config) {window.MathJax.Hub.Config({SVG: {font: \"STIX-Web\"}});}</script>                <script type=\"text/javascript\">window.PlotlyConfig = {MathJaxConfig: 'local'};</script>\n",
              "        <script charset=\"utf-8\" src=\"https://cdn.plot.ly/plotly-2.24.1.min.js\"></script>                <div id=\"43c609bf-7538-43e3-a28c-314c96d5039c\" class=\"plotly-graph-div\" style=\"height:525px; width:100%;\"></div>            <script type=\"text/javascript\">                                    window.PLOTLYENV=window.PLOTLYENV || {};                                    if (document.getElementById(\"43c609bf-7538-43e3-a28c-314c96d5039c\")) {                    Plotly.newPlot(                        \"43c609bf-7538-43e3-a28c-314c96d5039c\",                        [{\"hovertemplate\":\"genre=Drama\\u003cbr\\u003ebudget=%{x}\\u003cbr\\u003ebox_office=%{y}\\u003cextra\\u003e\\u003c\\u002fextra\\u003e\",\"legendgroup\":\"Drama\",\"marker\":{\"color\":\"rgb(16, 31, 63)\",\"symbol\":\"circle\"},\"mode\":\"markers\",\"name\":\"Drama\",\"orientation\":\"v\",\"showlegend\":true,\"x\":[25.0,63.0,3.0,15.0,4.5,15.0,15.0,15.0,0.5,0.13300000131130219,1.399999976158142,25.0,1.5,33.0,15.0,3.799999952316284,15.0,0.800000011920929,25.0],\"xaxis\":\"x\",\"y\":[28.884504,101.209702,109.114817,356.296601,7.390108,74.036715,74.036715,0.096302,22.926076,0.436655,0.151052,76.182388,16.767475,269.958228,74.036715,23.690757,0.135342,74.036715,216.639112],\"yaxis\":\"y\",\"type\":\"scatter\"},{\"hovertemplate\":\"genre=Crime,Drama\\u003cbr\\u003ebudget=%{x}\\u003cbr\\u003ebox_office=%{y}\\u003cextra\\u003e\\u003c\\u002fextra\\u003e\",\"legendgroup\":\"Crime,Drama\",\"marker\":{\"color\":\"rgb(38, 62, 144)\",\"symbol\":\"circle\"},\"mode\":\"markers\",\"name\":\"Crime,Drama\",\"orientation\":\"v\",\"showlegend\":true,\"x\":[6.0,13.0,0.3499999940395355,8.0,3.299999952316284,20.0,30.0,25.0,2.0,1.2999999523162842,52.0,15.0,3.200000047683716,15.0],\"xaxis\":\"x\",\"y\":[250.341816,47.961919,0.000955,213.928762,30.680793,23.875127,5.473337,65.884703,0.599146,28.570902,116.112375,74.036715,6.7e-05,0.127244],\"yaxis\":\"y\",\"type\":\"scatter\"},{\"hovertemplate\":\"genre=Action,Crime,Drama\\u003cbr\\u003ebudget=%{x}\\u003cbr\\u003ebox_office=%{y}\\u003cextra\\u003e\\u003c\\u002fextra\\u003e\",\"legendgroup\":\"Action,Crime,Drama\",\"marker\":{\"color\":\"rgb(30, 110, 161)\",\"symbol\":\"circle\"},\"mode\":\"markers\",\"name\":\"Action,Crime,Drama\",\"orientation\":\"v\",\"showlegend\":true,\"x\":[185.0,15.0,60.0,150.0,30.0],\"xaxis\":\"x\",\"y\":[1006.234167,19.569225,187.436818,373.672993,180.906076],\"yaxis\":\"y\",\"type\":\"scatter\"},{\"hovertemplate\":\"genre=Biography,Drama,History\\u003cbr\\u003ebudget=%{x}\\u003cbr\\u003ebox_office=%{y}\\u003cextra\\u003e\\u003c\\u002fextra\\u003e\",\"legendgroup\":\"Biography,Drama,History\",\"marker\":{\"color\":\"rgb(60, 154, 171)\",\"symbol\":\"circle\"},\"mode\":\"markers\",\"name\":\"Biography,Drama,History\",\"orientation\":\"v\",\"showlegend\":true,\"x\":[22.0,72.0,15.0,13.5,20.0,40.0,15.0,17.5,22.0],\"xaxis\":\"x\",\"y\":[322.161245,213.216216,74.036715,92.181574,187.733202,180.563636,74.036715,33.882243,52.767889],\"yaxis\":\"y\",\"type\":\"scatter\"},{\"hovertemplate\":\"genre=Action,Adventure,Drama\\u003cbr\\u003ebudget=%{x}\\u003cbr\\u003ebox_office=%{y}\\u003cextra\\u003e\\u003c\\u002fextra\\u003e\",\"legendgroup\":\"Action,Adventure,Drama\",\"marker\":{\"color\":\"rgb(140, 193, 186)\",\"symbol\":\"circle\"},\"mode\":\"markers\",\"name\":\"Action,Adventure,Drama\",\"orientation\":\"v\",\"showlegend\":true,\"x\":[94.0,93.0,94.0,103.0,356.0],\"xaxis\":\"x\",\"y\":[1146.457748,898.20442,947.94427,503.162313,2799.4391],\"yaxis\":\"y\",\"type\":\"scatter\"},{\"hovertemplate\":\"genre=Adventure,Western\\u003cbr\\u003ebudget=%{x}\\u003cbr\\u003ebox_office=%{y}\\u003cextra\\u003e\\u003c\\u002fextra\\u003e\",\"legendgroup\":\"Adventure,Western\",\"marker\":{\"color\":\"rgb(217, 229, 218)\",\"symbol\":\"circle\"},\"mode\":\"markers\",\"name\":\"Adventure,Western\",\"orientation\":\"v\",\"showlegend\":true,\"x\":[1.2000000476837158],\"xaxis\":\"x\",\"y\":[25.253887],\"yaxis\":\"y\",\"type\":\"scatter\"},{\"hovertemplate\":\"genre=Drama,Romance\\u003cbr\\u003ebudget=%{x}\\u003cbr\\u003ebox_office=%{y}\\u003cextra\\u003e\\u003c\\u002fextra\\u003e\",\"legendgroup\":\"Drama,Romance\",\"marker\":{\"color\":\"rgb(239, 226, 156)\",\"symbol\":\"circle\"},\"mode\":\"markers\",\"name\":\"Drama,Romance\",\"orientation\":\"v\",\"showlegend\":true,\"x\":[55.0,5.0,15.0,2.5,15.0,15.0],\"xaxis\":\"x\",\"y\":[678.226465,13.019063,74.036715,5.987386,0.060418,74.036715],\"yaxis\":\"y\",\"type\":\"scatter\"},{\"hovertemplate\":\"genre=Action,Adventure,Sci-Fi\\u003cbr\\u003ebudget=%{x}\\u003cbr\\u003ebox_office=%{y}\\u003cextra\\u003e\\u003c\\u002fextra\\u003e\",\"legendgroup\":\"Action,Adventure,Sci-Fi\",\"marker\":{\"color\":\"rgb(195, 182, 59)\",\"symbol\":\"circle\"},\"mode\":\"markers\",\"name\":\"Action,Adventure,Sci-Fi\",\"orientation\":\"v\",\"showlegend\":true,\"x\":[160.0,321.0,18.5,63.0,150.0],\"xaxis\":\"x\",\"y\":[836.848102,2052.415039,131.060248,1109.802321,415.261382],\"yaxis\":\"y\",\"type\":\"scatter\"},{\"hovertemplate\":\"genre=Action,Adventure,Fantasy\\u003cbr\\u003ebudget=%{x}\\u003cbr\\u003ebox_office=%{y}\\u003cextra\\u003e\\u003c\\u002fextra\\u003e\",\"legendgroup\":\"Action,Adventure,Fantasy\",\"marker\":{\"color\":\"rgb(115, 152, 5)\",\"symbol\":\"circle\"},\"mode\":\"markers\",\"name\":\"Action,Adventure,Fantasy\",\"orientation\":\"v\",\"showlegend\":true,\"x\":[18.0,11.0,32.5,200.0,140.0],\"xaxis\":\"x\",\"y\":[538.375067,775.398007,475.106177,1921.847111,654.264015],\"yaxis\":\"y\",\"type\":\"scatter\"},{\"hovertemplate\":\"genre=Action,Sci-Fi\\u003cbr\\u003ebudget=%{x}\\u003cbr\\u003ebox_office=%{y}\\u003cextra\\u003e\\u003c\\u002fextra\\u003e\",\"legendgroup\":\"Action,Sci-Fi\",\"marker\":{\"color\":\"rgb(34, 120, 36)\",\"symbol\":\"circle\"},\"mode\":\"markers\",\"name\":\"Action,Sci-Fi\",\"orientation\":\"v\",\"showlegend\":true,\"x\":[63.0,102.0,6.400000095367432],\"xaxis\":\"x\",\"y\":[467.222728,520.881154,78.3712],\"yaxis\":\"y\",\"type\":\"scatter\"},{\"hovertemplate\":\"genre=Biography,Crime,Drama\\u003cbr\\u003ebudget=%{x}\\u003cbr\\u003ebox_office=%{y}\\u003cextra\\u003e\\u003c\\u002fextra\\u003e\",\"legendgroup\":\"Biography,Crime,Drama\",\"marker\":{\"color\":\"rgb(18, 78, 43)\",\"symbol\":\"circle\"},\"mode\":\"markers\",\"name\":\"Biography,Crime,Drama\",\"orientation\":\"v\",\"showlegend\":true,\"x\":[25.0,15.0,15.0,20.0],\"xaxis\":\"x\",\"y\":[47.036784,74.036715,74.036715,98.690254],\"yaxis\":\"y\",\"type\":\"scatter\"},{\"hovertemplate\":\"genre=Crime,Drama,Mystery\\u003cbr\\u003ebudget=%{x}\\u003cbr\\u003ebox_office=%{y}\\u003cextra\\u003e\\u003c\\u002fextra\\u003e\",\"legendgroup\":\"Crime,Drama,Mystery\",\"marker\":{\"color\":\"rgb(23, 35, 18)\",\"symbol\":\"circle\"},\"mode\":\"markers\",\"name\":\"Crime,Drama,Mystery\",\"orientation\":\"v\",\"showlegend\":true,\"x\":[33.0,6.0,3.0,15.0,35.0,0.25,46.0,2.799999952316284,15.0],\"xaxis\":\"x\",\"y\":[327.333559,23.341568,0.007693,74.036715,126.21694,0.081379,122.126687,1.166717,74.036715],\"yaxis\":\"y\",\"type\":\"scatter\"},{\"hovertemplate\":\"genre=Action,Drama\\u003cbr\\u003ebudget=%{x}\\u003cbr\\u003ebox_office=%{y}\\u003cextra\\u003e\\u003c\\u002fextra\\u003e\",\"legendgroup\":\"Action,Drama\",\"marker\":{\"color\":\"rgb(16, 31, 63)\",\"symbol\":\"circle\"},\"mode\":\"markers\",\"name\":\"Action,Drama\",\"orientation\":\"v\",\"showlegend\":true,\"x\":[125.0,250.0,170.0],\"xaxis\":\"x\",\"y\":[0.346258,1081.169825,1488.732821],\"yaxis\":\"y\",\"type\":\"scatter\"},{\"hovertemplate\":\"genre=Drama,Family,Fantasy\\u003cbr\\u003ebudget=%{x}\\u003cbr\\u003ebox_office=%{y}\\u003cextra\\u003e\\u003c\\u002fextra\\u003e\",\"legendgroup\":\"Drama,Family,Fantasy\",\"marker\":{\"color\":\"rgb(38, 62, 144)\",\"symbol\":\"circle\"},\"mode\":\"markers\",\"name\":\"Drama,Family,Fantasy\",\"orientation\":\"v\",\"showlegend\":true,\"x\":[3.180000066757202],\"xaxis\":\"x\",\"y\":[8.574081],\"yaxis\":\"y\",\"type\":\"scatter\"},{\"hovertemplate\":\"genre=Crime,Drama,Thriller\\u003cbr\\u003ebudget=%{x}\\u003cbr\\u003ebox_office=%{y}\\u003cextra\\u003e\\u003c\\u002fextra\\u003e\",\"legendgroup\":\"Crime,Drama,Thriller\",\"marker\":{\"color\":\"rgb(30, 110, 161)\",\"symbol\":\"circle\"},\"mode\":\"markers\",\"name\":\"Crime,Drama,Thriller\",\"orientation\":\"v\",\"showlegend\":true,\"x\":[19.0,90.0,55.0,25.0,0.9100000262260437],\"xaxis\":\"x\",\"y\":[272.742922,291.480452,1074.458282,171.627434,74.036715],\"yaxis\":\"y\",\"type\":\"scatter\"},{\"hovertemplate\":\"genre=Drama,War\\u003cbr\\u003ebudget=%{x}\\u003cbr\\u003ebox_office=%{y}\\u003cextra\\u003e\\u003c\\u002fextra\\u003e\",\"legendgroup\":\"Drama,War\",\"marker\":{\"color\":\"rgb(60, 154, 171)\",\"symbol\":\"circle\"},\"mode\":\"markers\",\"name\":\"Drama,War\",\"orientation\":\"v\",\"showlegend\":true,\"x\":[70.0,0.9350000023841858,15.0,30.0,3.0,15.0,6.0,0.800000011920929],\"xaxis\":\"x\",\"y\":[482.349603,0.005252,11.487676,46.358827,0.01218,49.074379,138.545632,0.962002],\"yaxis\":\"y\",\"type\":\"scatter\"},{\"hovertemplate\":\"genre=Adventure,Drama,Sci-Fi\\u003cbr\\u003ebudget=%{x}\\u003cbr\\u003ebox_office=%{y}\\u003cextra\\u003e\\u003c\\u002fextra\\u003e\",\"legendgroup\":\"Adventure,Drama,Sci-Fi\",\"marker\":{\"color\":\"rgb(140, 193, 186)\",\"symbol\":\"circle\"},\"mode\":\"markers\",\"name\":\"Adventure,Drama,Sci-Fi\",\"orientation\":\"v\",\"showlegend\":true,\"x\":[165.0],\"xaxis\":\"x\",\"y\":[773.867216],\"yaxis\":\"y\",\"type\":\"scatter\"},{\"hovertemplate\":\"genre=Comedy,Drama,Romance\\u003cbr\\u003ebudget=%{x}\\u003cbr\\u003ebox_office=%{y}\\u003cextra\\u003e\\u003c\\u002fextra\\u003e\",\"legendgroup\":\"Comedy,Drama,Romance\",\"marker\":{\"color\":\"rgb(217, 229, 218)\",\"symbol\":\"circle\"},\"mode\":\"markers\",\"name\":\"Comedy,Drama,Romance\",\"orientation\":\"v\",\"showlegend\":true,\"x\":[20.0,1.5,1.5,3.0],\"xaxis\":\"x\",\"y\":[230.098753,0.463618,0.050419,18.778738],\"yaxis\":\"y\",\"type\":\"scatter\"},{\"hovertemplate\":\"genre=Crime,Drama,Fantasy\\u003cbr\\u003ebudget=%{x}\\u003cbr\\u003ebox_office=%{y}\\u003cextra\\u003e\\u003c\\u002fextra\\u003e\",\"legendgroup\":\"Crime,Drama,Fantasy\",\"marker\":{\"color\":\"rgb(239, 226, 156)\",\"symbol\":\"circle\"},\"mode\":\"markers\",\"name\":\"Crime,Drama,Fantasy\",\"orientation\":\"v\",\"showlegend\":true,\"x\":[60.0],\"xaxis\":\"x\",\"y\":[286.801374],\"yaxis\":\"y\",\"type\":\"scatter\"},{\"hovertemplate\":\"genre=Adventure,Comedy,Sci-Fi\\u003cbr\\u003ebudget=%{x}\\u003cbr\\u003ebox_office=%{y}\\u003cextra\\u003e\\u003c\\u002fextra\\u003e\",\"legendgroup\":\"Adventure,Comedy,Sci-Fi\",\"marker\":{\"color\":\"rgb(195, 182, 59)\",\"symbol\":\"circle\"},\"mode\":\"markers\",\"name\":\"Adventure,Comedy,Sci-Fi\",\"orientation\":\"v\",\"showlegend\":true,\"x\":[19.0],\"xaxis\":\"x\",\"y\":[383.336762],\"yaxis\":\"y\",\"type\":\"scatter\"},{\"hovertemplate\":\"genre=Animation,Adventure,Family\\u003cbr\\u003ebudget=%{x}\\u003cbr\\u003ebox_office=%{y}\\u003cextra\\u003e\\u003c\\u002fextra\\u003e\",\"legendgroup\":\"Animation,Adventure,Family\",\"marker\":{\"color\":\"rgb(115, 152, 5)\",\"symbol\":\"circle\"},\"mode\":\"markers\",\"name\":\"Animation,Adventure,Family\",\"orientation\":\"v\",\"showlegend\":true,\"x\":[19.0,180.0,24.0],\"xaxis\":\"x\",\"y\":[355.822319,521.31189,237.536126],\"yaxis\":\"y\",\"type\":\"scatter\"},{\"hovertemplate\":\"genre=Biography,Drama,Music\\u003cbr\\u003ebudget=%{x}\\u003cbr\\u003ebox_office=%{y}\\u003cextra\\u003e\\u003c\\u002fextra\\u003e\",\"legendgroup\":\"Biography,Drama,Music\",\"marker\":{\"color\":\"rgb(34, 120, 36)\",\"symbol\":\"circle\"},\"mode\":\"markers\",\"name\":\"Biography,Drama,Music\",\"orientation\":\"v\",\"showlegend\":true,\"x\":[35.0,18.0],\"xaxis\":\"x\",\"y\":[120.072577,52.066791],\"yaxis\":\"y\",\"type\":\"scatter\"},{\"hovertemplate\":\"genre=Horror,Mystery,Thriller\\u003cbr\\u003ebudget=%{x}\\u003cbr\\u003ebox_office=%{y}\\u003cextra\\u003e\\u003c\\u002fextra\\u003e\",\"legendgroup\":\"Horror,Mystery,Thriller\",\"marker\":{\"color\":\"rgb(18, 78, 43)\",\"symbol\":\"circle\"},\"mode\":\"markers\",\"name\":\"Horror,Mystery,Thriller\",\"orientation\":\"v\",\"showlegend\":true,\"x\":[0.8069469928741455],\"xaxis\":\"x\",\"y\":[32.052925],\"yaxis\":\"y\",\"type\":\"scatter\"},{\"hovertemplate\":\"genre=Drama,Thriller\\u003cbr\\u003ebudget=%{x}\\u003cbr\\u003ebox_office=%{y}\\u003cextra\\u003e\\u003c\\u002fextra\\u003e\",\"legendgroup\":\"Drama,Thriller\",\"marker\":{\"color\":\"rgb(23, 35, 18)\",\"symbol\":\"circle\"},\"mode\":\"markers\",\"name\":\"Drama,Thriller\",\"orientation\":\"v\",\"showlegend\":true,\"x\":[11.399999618530273,13.0,2.0,15.0],\"xaxis\":\"x\",\"y\":[262.676096,35.401758,20.908467,74.036715],\"yaxis\":\"y\",\"type\":\"scatter\"},{\"hovertemplate\":\"genre=Animation,Adventure,Drama\\u003cbr\\u003ebudget=%{x}\\u003cbr\\u003ebox_office=%{y}\\u003cextra\\u003e\\u003c\\u002fextra\\u003e\",\"legendgroup\":\"Animation,Adventure,Drama\",\"marker\":{\"color\":\"rgb(16, 31, 63)\",\"symbol\":\"circle\"},\"mode\":\"markers\",\"name\":\"Animation,Adventure,Drama\",\"orientation\":\"v\",\"showlegend\":true,\"x\":[45.0],\"xaxis\":\"x\",\"y\":[968.511805],\"yaxis\":\"y\",\"type\":\"scatter\"},{\"hovertemplate\":\"genre=Drama,Mystery,Sci-Fi\\u003cbr\\u003ebudget=%{x}\\u003cbr\\u003ebox_office=%{y}\\u003cextra\\u003e\\u003c\\u002fextra\\u003e\",\"legendgroup\":\"Drama,Mystery,Sci-Fi\",\"marker\":{\"color\":\"rgb(38, 62, 144)\",\"symbol\":\"circle\"},\"mode\":\"markers\",\"name\":\"Drama,Mystery,Sci-Fi\",\"orientation\":\"v\",\"showlegend\":true,\"x\":[40.0],\"xaxis\":\"x\",\"y\":[109.676311],\"yaxis\":\"y\",\"type\":\"scatter\"},{\"hovertemplate\":\"genre=Drama,Music\\u003cbr\\u003ebudget=%{x}\\u003cbr\\u003ebox_office=%{y}\\u003cextra\\u003e\\u003c\\u002fextra\\u003e\",\"legendgroup\":\"Drama,Music\",\"marker\":{\"color\":\"rgb(30, 110, 161)\",\"symbol\":\"circle\"},\"mode\":\"markers\",\"name\":\"Drama,Music\",\"orientation\":\"v\",\"showlegend\":true,\"x\":[3.299999952316284],\"xaxis\":\"x\",\"y\":[49.396747],\"yaxis\":\"y\",\"type\":\"scatter\"},{\"hovertemplate\":\"genre=Drama,Romance,War\\u003cbr\\u003ebudget=%{x}\\u003cbr\\u003ebox_office=%{y}\\u003cextra\\u003e\\u003c\\u002fextra\\u003e\",\"legendgroup\":\"Drama,Romance,War\",\"marker\":{\"color\":\"rgb(60, 154, 171)\",\"symbol\":\"circle\"},\"mode\":\"markers\",\"name\":\"Drama,Romance,War\",\"orientation\":\"v\",\"showlegend\":true,\"x\":[0.949999988079071,3.9769999980926514,2.0999999046325684],\"xaxis\":\"x\",\"y\":[4.626532,402.382193,23.661347],\"yaxis\":\"y\",\"type\":\"scatter\"},{\"hovertemplate\":\"genre=Animation,Drama,War\\u003cbr\\u003ebudget=%{x}\\u003cbr\\u003ebox_office=%{y}\\u003cextra\\u003e\\u003c\\u002fextra\\u003e\",\"legendgroup\":\"Animation,Drama,War\",\"marker\":{\"color\":\"rgb(140, 193, 186)\",\"symbol\":\"circle\"},\"mode\":\"markers\",\"name\":\"Animation,Drama,War\",\"orientation\":\"v\",\"showlegend\":true,\"x\":[3.700000047683716],\"xaxis\":\"x\",\"y\":[0.516962],\"yaxis\":\"y\",\"type\":\"scatter\"},{\"hovertemplate\":\"genre=Action,Drama,Mystery\\u003cbr\\u003ebudget=%{x}\\u003cbr\\u003ebox_office=%{y}\\u003cextra\\u003e\\u003c\\u002fextra\\u003e\",\"legendgroup\":\"Action,Drama,Mystery\",\"marker\":{\"color\":\"rgb(217, 229, 218)\",\"symbol\":\"circle\"},\"mode\":\"markers\",\"name\":\"Action,Drama,Mystery\",\"orientation\":\"v\",\"showlegend\":true,\"x\":[15.0,3.0],\"xaxis\":\"x\",\"y\":[74.036715,15.421226],\"yaxis\":\"y\",\"type\":\"scatter\"},{\"hovertemplate\":\"genre=Biography,Comedy,Drama\\u003cbr\\u003ebudget=%{x}\\u003cbr\\u003ebox_office=%{y}\\u003cextra\\u003e\\u003c\\u002fextra\\u003e\",\"legendgroup\":\"Biography,Comedy,Drama\",\"marker\":{\"color\":\"rgb(239, 226, 156)\",\"symbol\":\"circle\"},\"mode\":\"markers\",\"name\":\"Biography,Comedy,Drama\",\"orientation\":\"v\",\"showlegend\":true,\"x\":[9.5,23.0],\"xaxis\":\"x\",\"y\":[426.58851,321.752656],\"yaxis\":\"y\",\"type\":\"scatter\"},{\"hovertemplate\":\"genre=Western\\u003cbr\\u003ebudget=%{x}\\u003cbr\\u003ebox_office=%{y}\\u003cextra\\u003e\\u003c\\u002fextra\\u003e\",\"legendgroup\":\"Western\",\"marker\":{\"color\":\"rgb(195, 182, 59)\",\"symbol\":\"circle\"},\"mode\":\"markers\",\"name\":\"Western\",\"orientation\":\"v\",\"showlegend\":true,\"x\":[5.0,0.6000000238418579],\"xaxis\":\"x\",\"y\":[5.435024,15.0],\"yaxis\":\"y\",\"type\":\"scatter\"},{\"hovertemplate\":\"genre=Mystery,Thriller\\u003cbr\\u003ebudget=%{x}\\u003cbr\\u003ebox_office=%{y}\\u003cextra\\u003e\\u003c\\u002fextra\\u003e\",\"legendgroup\":\"Mystery,Thriller\",\"marker\":{\"color\":\"rgb(115, 152, 5)\",\"symbol\":\"circle\"},\"mode\":\"markers\",\"name\":\"Mystery,Thriller\",\"orientation\":\"v\",\"showlegend\":true,\"x\":[1.0,9.0,80.0],\"xaxis\":\"x\",\"y\":[37.034579,40.047078,294.805697],\"yaxis\":\"y\",\"type\":\"scatter\"},{\"hovertemplate\":\"genre=Horror,Sci-Fi\\u003cbr\\u003ebudget=%{x}\\u003cbr\\u003ebox_office=%{y}\\u003cextra\\u003e\\u003c\\u002fextra\\u003e\",\"legendgroup\":\"Horror,Sci-Fi\",\"marker\":{\"color\":\"rgb(34, 120, 36)\",\"symbol\":\"circle\"},\"mode\":\"markers\",\"name\":\"Horror,Sci-Fi\",\"orientation\":\"v\",\"showlegend\":true,\"x\":[11.0],\"xaxis\":\"x\",\"y\":[106.285522],\"yaxis\":\"y\",\"type\":\"scatter\"},{\"hovertemplate\":\"genre=Drama,Mystery,War\\u003cbr\\u003ebudget=%{x}\\u003cbr\\u003ebox_office=%{y}\\u003cextra\\u003e\\u003c\\u002fextra\\u003e\",\"legendgroup\":\"Drama,Mystery,War\",\"marker\":{\"color\":\"rgb(18, 78, 43)\",\"symbol\":\"circle\"},\"mode\":\"markers\",\"name\":\"Drama,Mystery,War\",\"orientation\":\"v\",\"showlegend\":true,\"x\":[31.5],\"xaxis\":\"x\",\"y\":[104.880868],\"yaxis\":\"y\",\"type\":\"scatter\"},{\"hovertemplate\":\"genre=Drama,Western\\u003cbr\\u003ebudget=%{x}\\u003cbr\\u003ebox_office=%{y}\\u003cextra\\u003e\\u003c\\u002fextra\\u003e\",\"legendgroup\":\"Drama,Western\",\"marker\":{\"color\":\"rgb(23, 35, 18)\",\"symbol\":\"circle\"},\"mode\":\"markers\",\"name\":\"Drama,Western\",\"orientation\":\"v\",\"showlegend\":true,\"x\":[100.0,14.399999618530273],\"xaxis\":\"x\",\"y\":[426.074373,159.167799],\"yaxis\":\"y\",\"type\":\"scatter\"},{\"hovertemplate\":\"genre=Action,Adventure\\u003cbr\\u003ebudget=%{x}\\u003cbr\\u003ebox_office=%{y}\\u003cextra\\u003e\\u003c\\u002fextra\\u003e\",\"legendgroup\":\"Action,Adventure\",\"marker\":{\"color\":\"rgb(16, 31, 63)\",\"symbol\":\"circle\"},\"mode\":\"markers\",\"name\":\"Action,Adventure\",\"orientation\":\"v\",\"showlegend\":true,\"x\":[18.0,48.0],\"xaxis\":\"x\",\"y\":[389.925971,474.171806],\"yaxis\":\"y\",\"type\":\"scatter\"},{\"hovertemplate\":\"genre=Drama,Mystery,Thriller\\u003cbr\\u003ebudget=%{x}\\u003cbr\\u003ebox_office=%{y}\\u003cextra\\u003e\\u003c\\u002fextra\\u003e\",\"legendgroup\":\"Drama,Mystery,Thriller\",\"marker\":{\"color\":\"rgb(38, 62, 144)\",\"symbol\":\"circle\"},\"mode\":\"markers\",\"name\":\"Drama,Mystery,Thriller\",\"orientation\":\"v\",\"showlegend\":true,\"x\":[2.0,40.0,6.0,15.0],\"xaxis\":\"x\",\"y\":[77.356942,672.806432,29.225935,74.036715],\"yaxis\":\"y\",\"type\":\"scatter\"},{\"hovertemplate\":\"genre=Drama,Film-Noir\\u003cbr\\u003ebudget=%{x}\\u003cbr\\u003ebox_office=%{y}\\u003cextra\\u003e\\u003c\\u002fextra\\u003e\",\"legendgroup\":\"Drama,Film-Noir\",\"marker\":{\"color\":\"rgb(30, 110, 161)\",\"symbol\":\"circle\"},\"mode\":\"markers\",\"name\":\"Drama,Film-Noir\",\"orientation\":\"v\",\"showlegend\":true,\"x\":[1.7519999742507935],\"xaxis\":\"x\",\"y\":[0.300073],\"yaxis\":\"y\",\"type\":\"scatter\"},{\"hovertemplate\":\"genre=Drama,Horror\\u003cbr\\u003ebudget=%{x}\\u003cbr\\u003ebox_office=%{y}\\u003cextra\\u003e\\u003c\\u002fextra\\u003e\",\"legendgroup\":\"Drama,Horror\",\"marker\":{\"color\":\"rgb(60, 154, 171)\",\"symbol\":\"circle\"},\"mode\":\"markers\",\"name\":\"Drama,Horror\",\"orientation\":\"v\",\"showlegend\":true,\"x\":[19.0],\"xaxis\":\"x\",\"y\":[47.335804],\"yaxis\":\"y\",\"type\":\"scatter\"},{\"hovertemplate\":\"genre=Comedy,Drama,War\\u003cbr\\u003ebudget=%{x}\\u003cbr\\u003ebox_office=%{y}\\u003cextra\\u003e\\u003c\\u002fextra\\u003e\",\"legendgroup\":\"Comedy,Drama,War\",\"marker\":{\"color\":\"rgb(140, 193, 186)\",\"symbol\":\"circle\"},\"mode\":\"markers\",\"name\":\"Comedy,Drama,War\",\"orientation\":\"v\",\"showlegend\":true,\"x\":[2.0],\"xaxis\":\"x\",\"y\":[0.970263],\"yaxis\":\"y\",\"type\":\"scatter\"},{\"hovertemplate\":\"genre=Animation,Action,Adventure\\u003cbr\\u003ebudget=%{x}\\u003cbr\\u003ebox_office=%{y}\\u003cextra\\u003e\\u003c\\u002fextra\\u003e\",\"legendgroup\":\"Animation,Action,Adventure\",\"marker\":{\"color\":\"rgb(217, 229, 218)\",\"symbol\":\"circle\"},\"mode\":\"markers\",\"name\":\"Animation,Action,Adventure\",\"orientation\":\"v\",\"showlegend\":true,\"x\":[15.0,2400.0,165.0,92.0,70.0],\"xaxis\":\"x\",\"y\":[74.036715,170.005875,494.879471,631.607053,23.335817],\"yaxis\":\"y\",\"type\":\"scatter\"},{\"hovertemplate\":\"genre=Comedy,War\\u003cbr\\u003ebudget=%{x}\\u003cbr\\u003ebox_office=%{y}\\u003cextra\\u003e\\u003c\\u002fextra\\u003e\",\"legendgroup\":\"Comedy,War\",\"marker\":{\"color\":\"rgb(239, 226, 156)\",\"symbol\":\"circle\"},\"mode\":\"markers\",\"name\":\"Comedy,War\",\"orientation\":\"v\",\"showlegend\":true,\"x\":[1.7999999523162842],\"xaxis\":\"x\",\"y\":[9.523464],\"yaxis\":\"y\",\"type\":\"scatter\"},{\"hovertemplate\":\"genre=Adventure,Drama,War\\u003cbr\\u003ebudget=%{x}\\u003cbr\\u003ebox_office=%{y}\\u003cextra\\u003e\\u003c\\u002fextra\\u003e\",\"legendgroup\":\"Adventure,Drama,War\",\"marker\":{\"color\":\"rgb(195, 182, 59)\",\"symbol\":\"circle\"},\"mode\":\"markers\",\"name\":\"Adventure,Drama,War\",\"orientation\":\"v\",\"showlegend\":true,\"x\":[70.0,3.0,11.0],\"xaxis\":\"x\",\"y\":[321.457747,27.2,0.199632],\"yaxis\":\"y\",\"type\":\"scatter\"},{\"hovertemplate\":\"genre=Animation,Adventure,Comedy\\u003cbr\\u003ebudget=%{x}\\u003cbr\\u003ebox_office=%{y}\\u003cextra\\u003e\\u003c\\u002fextra\\u003e\",\"legendgroup\":\"Animation,Adventure,Comedy\",\"marker\":{\"color\":\"rgb(115, 152, 5)\",\"symbol\":\"circle\"},\"mode\":\"markers\",\"name\":\"Animation,Adventure,Comedy\",\"orientation\":\"v\",\"showlegend\":true,\"x\":[175.0,30.0,200.0,175.0,94.0,175.0,15.0,115.0,150.0,15.0],\"xaxis\":\"x\",\"y\":[814.337054,394.436586,1067.316101,735.099102,941.63796,858.848019,74.036715,579.707738,623.726085,74.036715],\"yaxis\":\"y\",\"type\":\"scatter\"},{\"hovertemplate\":\"genre=Animation,Drama,Fantasy\\u003cbr\\u003ebudget=%{x}\\u003cbr\\u003ebox_office=%{y}\\u003cextra\\u003e\\u003c\\u002fextra\\u003e\",\"legendgroup\":\"Animation,Drama,Fantasy\",\"marker\":{\"color\":\"rgb(34, 120, 36)\",\"symbol\":\"circle\"},\"mode\":\"markers\",\"name\":\"Animation,Drama,Fantasy\",\"orientation\":\"v\",\"showlegend\":true,\"x\":[15.0],\"xaxis\":\"x\",\"y\":[74.036715],\"yaxis\":\"y\",\"type\":\"scatter\"},{\"hovertemplate\":\"genre=Comedy,Drama\\u003cbr\\u003ebudget=%{x}\\u003cbr\\u003ebox_office=%{y}\\u003cextra\\u003e\\u003c\\u002fextra\\u003e\",\"legendgroup\":\"Comedy,Drama\",\"marker\":{\"color\":\"rgb(18, 78, 43)\",\"symbol\":\"circle\"},\"mode\":\"markers\",\"name\":\"Comedy,Drama\",\"orientation\":\"v\",\"showlegend\":true,\"x\":[550.0,60.0,1.899999976158142,16.399999618530273],\"xaxis\":\"x\",\"y\":[60.262836,264.118201,0.144738,235.860116],\"yaxis\":\"y\",\"type\":\"scatter\"},{\"hovertemplate\":\"genre=Comedy,Musical,Romance\\u003cbr\\u003ebudget=%{x}\\u003cbr\\u003ebox_office=%{y}\\u003cextra\\u003e\\u003c\\u002fextra\\u003e\",\"legendgroup\":\"Comedy,Musical,Romance\",\"marker\":{\"color\":\"rgb(23, 35, 18)\",\"symbol\":\"circle\"},\"mode\":\"markers\",\"name\":\"Comedy,Musical,Romance\",\"orientation\":\"v\",\"showlegend\":true,\"x\":[2.540800094604492],\"xaxis\":\"x\",\"y\":[2.000288],\"yaxis\":\"y\",\"type\":\"scatter\"},{\"hovertemplate\":\"genre=Drama,Romance,Sci-Fi\\u003cbr\\u003ebudget=%{x}\\u003cbr\\u003ebox_office=%{y}\\u003cextra\\u003e\\u003c\\u002fextra\\u003e\",\"legendgroup\":\"Drama,Romance,Sci-Fi\",\"marker\":{\"color\":\"rgb(16, 31, 63)\",\"symbol\":\"circle\"},\"mode\":\"markers\",\"name\":\"Drama,Romance,Sci-Fi\",\"orientation\":\"v\",\"showlegend\":true,\"x\":[20.0],\"xaxis\":\"x\",\"y\":[74.036715],\"yaxis\":\"y\",\"type\":\"scatter\"},{\"hovertemplate\":\"genre=Adventure,Sci-Fi\\u003cbr\\u003ebudget=%{x}\\u003cbr\\u003ebox_office=%{y}\\u003cextra\\u003e\\u003c\\u002fextra\\u003e\",\"legendgroup\":\"Adventure,Sci-Fi\",\"marker\":{\"color\":\"rgb(38, 62, 144)\",\"symbol\":\"circle\"},\"mode\":\"markers\",\"name\":\"Adventure,Sci-Fi\",\"orientation\":\"v\",\"showlegend\":true,\"x\":[12.0],\"xaxis\":\"x\",\"y\":[65.889846],\"yaxis\":\"y\",\"type\":\"scatter\"},{\"hovertemplate\":\"genre=Crime,Thriller\\u003cbr\\u003ebudget=%{x}\\u003cbr\\u003ebox_office=%{y}\\u003cextra\\u003e\\u003c\\u002fextra\\u003e\",\"legendgroup\":\"Crime,Thriller\",\"marker\":{\"color\":\"rgb(30, 110, 161)\",\"symbol\":\"circle\"},\"mode\":\"markers\",\"name\":\"Crime,Thriller\",\"orientation\":\"v\",\"showlegend\":true,\"x\":[1.2000000476837158,1.399999976158142,7.0],\"xaxis\":\"x\",\"y\":[2.913644,0.031207,60.611975],\"yaxis\":\"y\",\"type\":\"scatter\"},{\"hovertemplate\":\"genre=Drama,Thriller,War\\u003cbr\\u003ebudget=%{x}\\u003cbr\\u003ebox_office=%{y}\\u003cextra\\u003e\\u003c\\u002fextra\\u003e\",\"legendgroup\":\"Drama,Thriller,War\",\"marker\":{\"color\":\"rgb(60, 154, 171)\",\"symbol\":\"circle\"},\"mode\":\"markers\",\"name\":\"Drama,Thriller,War\",\"orientation\":\"v\",\"showlegend\":true,\"x\":[15.0],\"xaxis\":\"x\",\"y\":[74.036715],\"yaxis\":\"y\",\"type\":\"scatter\"},{\"hovertemplate\":\"genre=Drama,Mystery\\u003cbr\\u003ebudget=%{x}\\u003cbr\\u003ebox_office=%{y}\\u003cextra\\u003e\\u003c\\u002fextra\\u003e\",\"legendgroup\":\"Drama,Mystery\",\"marker\":{\"color\":\"rgb(140, 193, 186)\",\"symbol\":\"circle\"},\"mode\":\"markers\",\"name\":\"Drama,Mystery\",\"orientation\":\"v\",\"showlegend\":true,\"x\":[0.839726984500885,6.800000190734863,6.0],\"xaxis\":\"x\",\"y\":[1.645133,6.788659,24.427162],\"yaxis\":\"y\",\"type\":\"scatter\"},{\"hovertemplate\":\"genre=Crime,Mystery,Thriller\\u003cbr\\u003ebudget=%{x}\\u003cbr\\u003ebox_office=%{y}\\u003cextra\\u003e\\u003c\\u002fextra\\u003e\",\"legendgroup\":\"Crime,Mystery,Thriller\",\"marker\":{\"color\":\"rgb(217, 229, 218)\",\"symbol\":\"circle\"},\"mode\":\"markers\",\"name\":\"Crime,Mystery,Thriller\",\"orientation\":\"v\",\"showlegend\":true,\"x\":[15.0],\"xaxis\":\"x\",\"y\":[0.035566],\"yaxis\":\"y\",\"type\":\"scatter\"},{\"hovertemplate\":\"genre=Adventure,Biography,Drama\\u003cbr\\u003ebudget=%{x}\\u003cbr\\u003ebox_office=%{y}\\u003cextra\\u003e\\u003c\\u002fextra\\u003e\",\"legendgroup\":\"Adventure,Biography,Drama\",\"marker\":{\"color\":\"rgb(239, 226, 156)\",\"symbol\":\"circle\"},\"mode\":\"markers\",\"name\":\"Adventure,Biography,Drama\",\"orientation\":\"v\",\"showlegend\":true,\"x\":[15.0,15.0,4.0],\"xaxis\":\"x\",\"y\":[45.720631,56.675895,0.01448],\"yaxis\":\"y\",\"type\":\"scatter\"},{\"hovertemplate\":\"genre=Action,Adventure,Mystery\\u003cbr\\u003ebudget=%{x}\\u003cbr\\u003ebox_office=%{y}\\u003cextra\\u003e\\u003c\\u002fextra\\u003e\",\"legendgroup\":\"Action,Adventure,Mystery\",\"marker\":{\"color\":\"rgb(195, 182, 59)\",\"symbol\":\"circle\"},\"mode\":\"markers\",\"name\":\"Action,Adventure,Mystery\",\"orientation\":\"v\",\"showlegend\":true,\"x\":[3.1010000705718994],\"xaxis\":\"x\",\"y\":[0.142319],\"yaxis\":\"y\",\"type\":\"scatter\"},{\"hovertemplate\":\"genre=Mystery,Romance,Thriller\\u003cbr\\u003ebudget=%{x}\\u003cbr\\u003ebox_office=%{y}\\u003cextra\\u003e\\u003c\\u002fextra\\u003e\",\"legendgroup\":\"Mystery,Romance,Thriller\",\"marker\":{\"color\":\"rgb(115, 152, 5)\",\"symbol\":\"circle\"},\"mode\":\"markers\",\"name\":\"Mystery,Romance,Thriller\",\"orientation\":\"v\",\"showlegend\":true,\"x\":[2.4790000915527344],\"xaxis\":\"x\",\"y\":[7.798146],\"yaxis\":\"y\",\"type\":\"scatter\"},{\"hovertemplate\":\"genre=Comedy,Romance\\u003cbr\\u003ebudget=%{x}\\u003cbr\\u003ebox_office=%{y}\\u003cextra\\u003e\\u003c\\u002fextra\\u003e\",\"legendgroup\":\"Comedy,Romance\",\"marker\":{\"color\":\"rgb(34, 120, 36)\",\"symbol\":\"circle\"},\"mode\":\"markers\",\"name\":\"Comedy,Romance\",\"orientation\":\"v\",\"showlegend\":true,\"x\":[10.0,0.32499998807907104],\"xaxis\":\"x\",\"y\":[174.122191,0.011477],\"yaxis\":\"y\",\"type\":\"scatter\"},{\"hovertemplate\":\"genre=Crime,Sci-Fi\\u003cbr\\u003ebudget=%{x}\\u003cbr\\u003ebox_office=%{y}\\u003cextra\\u003e\\u003c\\u002fextra\\u003e\",\"legendgroup\":\"Crime,Sci-Fi\",\"marker\":{\"color\":\"rgb(18, 78, 43)\",\"symbol\":\"circle\"},\"mode\":\"markers\",\"name\":\"Crime,Sci-Fi\",\"orientation\":\"v\",\"showlegend\":true,\"x\":[2.200000047683716],\"xaxis\":\"x\",\"y\":[26.960374],\"yaxis\":\"y\",\"type\":\"scatter\"},{\"hovertemplate\":\"genre=Crime,Drama,Film-Noir\\u003cbr\\u003ebudget=%{x}\\u003cbr\\u003ebox_office=%{y}\\u003cextra\\u003e\\u003c\\u002fextra\\u003e\",\"legendgroup\":\"Crime,Drama,Film-Noir\",\"marker\":{\"color\":\"rgb(23, 35, 18)\",\"symbol\":\"circle\"},\"mode\":\"markers\",\"name\":\"Crime,Drama,Film-Noir\",\"orientation\":\"v\",\"showlegend\":true,\"x\":[0.927262008190155],\"xaxis\":\"x\",\"y\":[0.014651],\"yaxis\":\"y\",\"type\":\"scatter\"},{\"hovertemplate\":\"genre=Comedy,Crime,Drama\\u003cbr\\u003ebudget=%{x}\\u003cbr\\u003ebox_office=%{y}\\u003cextra\\u003e\\u003c\\u002fextra\\u003e\",\"legendgroup\":\"Comedy,Crime,Drama\",\"marker\":{\"color\":\"rgb(16, 31, 63)\",\"symbol\":\"circle\"},\"mode\":\"markers\",\"name\":\"Comedy,Crime,Drama\",\"orientation\":\"v\",\"showlegend\":true,\"x\":[5.5,15.0],\"xaxis\":\"x\",\"y\":[156.0,162.861289],\"yaxis\":\"y\",\"type\":\"scatter\"},{\"hovertemplate\":\"genre=Drama,Sci-Fi\\u003cbr\\u003ebudget=%{x}\\u003cbr\\u003ebox_office=%{y}\\u003cextra\\u003e\\u003c\\u002fextra\\u003e\",\"legendgroup\":\"Drama,Sci-Fi\",\"marker\":{\"color\":\"rgb(38, 62, 144)\",\"symbol\":\"circle\"},\"mode\":\"markers\",\"name\":\"Drama,Sci-Fi\",\"orientation\":\"v\",\"showlegend\":true,\"x\":[15.0],\"xaxis\":\"x\",\"y\":[1.349711],\"yaxis\":\"y\",\"type\":\"scatter\"},{\"hovertemplate\":\"genre=Action,Thriller\\u003cbr\\u003ebudget=%{x}\\u003cbr\\u003ebox_office=%{y}\\u003cextra\\u003e\\u003c\\u002fextra\\u003e\",\"legendgroup\":\"Action,Thriller\",\"marker\":{\"color\":\"rgb(30, 110, 161)\",\"symbol\":\"circle\"},\"mode\":\"markers\",\"name\":\"Action,Thriller\",\"orientation\":\"v\",\"showlegend\":true,\"x\":[28.0],\"xaxis\":\"x\",\"y\":[141.603197],\"yaxis\":\"y\",\"type\":\"scatter\"},{\"hovertemplate\":\"genre=Comedy,Crime\\u003cbr\\u003ebudget=%{x}\\u003cbr\\u003ebox_office=%{y}\\u003cextra\\u003e\\u003c\\u002fextra\\u003e\",\"legendgroup\":\"Comedy,Crime\",\"marker\":{\"color\":\"rgb(60, 154, 171)\",\"symbol\":\"circle\"},\"mode\":\"markers\",\"name\":\"Comedy,Crime\",\"orientation\":\"v\",\"showlegend\":true,\"x\":[6.0,15.0],\"xaxis\":\"x\",\"y\":[83.557872,46.969409],\"yaxis\":\"y\",\"type\":\"scatter\"},{\"hovertemplate\":\"genre=Drama,Family\\u003cbr\\u003ebudget=%{x}\\u003cbr\\u003ebox_office=%{y}\\u003cextra\\u003e\\u003c\\u002fextra\\u003e\",\"legendgroup\":\"Drama,Family\",\"marker\":{\"color\":\"rgb(140, 193, 186)\",\"symbol\":\"circle\"},\"mode\":\"markers\",\"name\":\"Drama,Family\",\"orientation\":\"v\",\"showlegend\":true,\"x\":[15.0,15.0],\"xaxis\":\"x\",\"y\":[21.897373,74.036715],\"yaxis\":\"y\",\"type\":\"scatter\"},{\"hovertemplate\":\"genre=Action,Drama,War\\u003cbr\\u003ebudget=%{x}\\u003cbr\\u003ebox_office=%{y}\\u003cextra\\u003e\\u003c\\u002fextra\\u003e\",\"legendgroup\":\"Action,Drama,War\",\"marker\":{\"color\":\"rgb(217, 229, 218)\",\"symbol\":\"circle\"},\"mode\":\"markers\",\"name\":\"Action,Drama,War\",\"orientation\":\"v\",\"showlegend\":true,\"x\":[95.0,11.5],\"xaxis\":\"x\",\"y\":[384.47994,4.164283],\"yaxis\":\"y\",\"type\":\"scatter\"},{\"hovertemplate\":\"genre=Action,Biography,Drama\\u003cbr\\u003ebudget=%{x}\\u003cbr\\u003ebox_office=%{y}\\u003cextra\\u003e\\u003c\\u002fextra\\u003e\",\"legendgroup\":\"Action,Biography,Drama\",\"marker\":{\"color\":\"rgb(239, 226, 156)\",\"symbol\":\"circle\"},\"mode\":\"markers\",\"name\":\"Action,Biography,Drama\",\"orientation\":\"v\",\"showlegend\":true,\"x\":[15.0,97.5999984741211,38.0],\"xaxis\":\"x\",\"y\":[74.036715,225.50821,96.983009],\"yaxis\":\"y\",\"type\":\"scatter\"},{\"hovertemplate\":\"genre=Comedy,Drama,Family\\u003cbr\\u003ebudget=%{x}\\u003cbr\\u003ebox_office=%{y}\\u003cextra\\u003e\\u003c\\u002fextra\\u003e\",\"legendgroup\":\"Comedy,Drama,Family\",\"marker\":{\"color\":\"rgb(195, 182, 59)\",\"symbol\":\"circle\"},\"mode\":\"markers\",\"name\":\"Comedy,Drama,Family\",\"orientation\":\"v\",\"showlegend\":true,\"x\":[0.25],\"xaxis\":\"x\",\"y\":[0.04196],\"yaxis\":\"y\",\"type\":\"scatter\"},{\"hovertemplate\":\"genre=Comedy,Music,Romance\\u003cbr\\u003ebudget=%{x}\\u003cbr\\u003ebox_office=%{y}\\u003cextra\\u003e\\u003c\\u002fextra\\u003e\",\"legendgroup\":\"Comedy,Music,Romance\",\"marker\":{\"color\":\"rgb(115, 152, 5)\",\"symbol\":\"circle\"},\"mode\":\"markers\",\"name\":\"Comedy,Music,Romance\",\"orientation\":\"v\",\"showlegend\":true,\"x\":[2.883847951889038],\"xaxis\":\"x\",\"y\":[0.195088],\"yaxis\":\"y\",\"type\":\"scatter\"},{\"hovertemplate\":\"genre=Biography,Comedy,Crime\\u003cbr\\u003ebudget=%{x}\\u003cbr\\u003ebox_office=%{y}\\u003cextra\\u003e\\u003c\\u002fextra\\u003e\",\"legendgroup\":\"Biography,Comedy,Crime\",\"marker\":{\"color\":\"rgb(34, 120, 36)\",\"symbol\":\"circle\"},\"mode\":\"markers\",\"name\":\"Biography,Comedy,Crime\",\"orientation\":\"v\",\"showlegend\":true,\"x\":[100.0],\"xaxis\":\"x\",\"y\":[406.878233],\"yaxis\":\"y\",\"type\":\"scatter\"},{\"hovertemplate\":\"genre=Drama,Fantasy,War\\u003cbr\\u003ebudget=%{x}\\u003cbr\\u003ebox_office=%{y}\\u003cextra\\u003e\\u003c\\u002fextra\\u003e\",\"legendgroup\":\"Drama,Fantasy,War\",\"marker\":{\"color\":\"rgb(18, 78, 43)\",\"symbol\":\"circle\"},\"mode\":\"markers\",\"name\":\"Drama,Fantasy,War\",\"orientation\":\"v\",\"showlegend\":true,\"x\":[19.0],\"xaxis\":\"x\",\"y\":[83.862032],\"yaxis\":\"y\",\"type\":\"scatter\"},{\"hovertemplate\":\"genre=Biography,Drama\\u003cbr\\u003ebudget=%{x}\\u003cbr\\u003ebox_office=%{y}\\u003cextra\\u003e\\u003c\\u002fextra\\u003e\",\"legendgroup\":\"Biography,Drama\",\"marker\":{\"color\":\"rgb(23, 35, 18)\",\"symbol\":\"circle\"},\"mode\":\"markers\",\"name\":\"Biography,Drama\",\"orientation\":\"v\",\"showlegend\":true,\"x\":[58.0,5.0],\"xaxis\":\"x\",\"y\":[316.791257,26.02386],\"yaxis\":\"y\",\"type\":\"scatter\"},{\"hovertemplate\":\"genre=Action,Drama,Thriller\\u003cbr\\u003ebudget=%{x}\\u003cbr\\u003ebox_office=%{y}\\u003cextra\\u003e\\u003c\\u002fextra\\u003e\",\"legendgroup\":\"Action,Drama,Thriller\",\"marker\":{\"color\":\"rgb(16, 31, 63)\",\"symbol\":\"circle\"},\"mode\":\"markers\",\"name\":\"Action,Drama,Thriller\",\"orientation\":\"v\",\"showlegend\":true,\"x\":[15.0],\"xaxis\":\"x\",\"y\":[0.046808],\"yaxis\":\"y\",\"type\":\"scatter\"},{\"hovertemplate\":\"genre=Adventure,Drama,Western\\u003cbr\\u003ebudget=%{x}\\u003cbr\\u003ebox_office=%{y}\\u003cextra\\u003e\\u003c\\u002fextra\\u003e\",\"legendgroup\":\"Adventure,Drama,Western\",\"marker\":{\"color\":\"rgb(38, 62, 144)\",\"symbol\":\"circle\"},\"mode\":\"markers\",\"name\":\"Adventure,Drama,Western\",\"orientation\":\"v\",\"showlegend\":true,\"x\":[3.0,22.0],\"xaxis\":\"x\",\"y\":[5.014,424.208848],\"yaxis\":\"y\",\"type\":\"scatter\"},{\"hovertemplate\":\"genre=Adventure,Comedy,Fantasy\\u003cbr\\u003ebudget=%{x}\\u003cbr\\u003ebox_office=%{y}\\u003cextra\\u003e\\u003c\\u002fextra\\u003e\",\"legendgroup\":\"Adventure,Comedy,Fantasy\",\"marker\":{\"color\":\"rgb(30, 110, 161)\",\"symbol\":\"circle\"},\"mode\":\"markers\",\"name\":\"Adventure,Comedy,Fantasy\",\"orientation\":\"v\",\"showlegend\":true,\"x\":[0.2295749932527542],\"xaxis\":\"x\",\"y\":[1.940906],\"yaxis\":\"y\",\"type\":\"scatter\"},{\"hovertemplate\":\"genre=Adventure,Drama,History\\u003cbr\\u003ebudget=%{x}\\u003cbr\\u003ebox_office=%{y}\\u003cextra\\u003e\\u003c\\u002fextra\\u003e\",\"legendgroup\":\"Adventure,Drama,History\",\"marker\":{\"color\":\"rgb(60, 154, 171)\",\"symbol\":\"circle\"},\"mode\":\"markers\",\"name\":\"Adventure,Drama,History\",\"orientation\":\"v\",\"showlegend\":true,\"x\":[4.0],\"xaxis\":\"x\",\"y\":[0.228178],\"yaxis\":\"y\",\"type\":\"scatter\"},{\"hovertemplate\":\"genre=Horror,Mystery,Sci-Fi\\u003cbr\\u003ebudget=%{x}\\u003cbr\\u003ebox_office=%{y}\\u003cextra\\u003e\\u003c\\u002fextra\\u003e\",\"legendgroup\":\"Horror,Mystery,Sci-Fi\",\"marker\":{\"color\":\"rgb(140, 193, 186)\",\"symbol\":\"circle\"},\"mode\":\"markers\",\"name\":\"Horror,Mystery,Sci-Fi\",\"orientation\":\"v\",\"showlegend\":true,\"x\":[15.0],\"xaxis\":\"x\",\"y\":[19.632715],\"yaxis\":\"y\",\"type\":\"scatter\"},{\"hovertemplate\":\"genre=Biography,Drama,Sport\\u003cbr\\u003ebudget=%{x}\\u003cbr\\u003ebox_office=%{y}\\u003cextra\\u003e\\u003c\\u002fextra\\u003e\",\"legendgroup\":\"Biography,Drama,Sport\",\"marker\":{\"color\":\"rgb(217, 229, 218)\",\"symbol\":\"circle\"},\"mode\":\"markers\",\"name\":\"Biography,Drama,Sport\",\"orientation\":\"v\",\"showlegend\":true,\"x\":[18.0],\"xaxis\":\"x\",\"y\":[23.402427],\"yaxis\":\"y\",\"type\":\"scatter\"},{\"hovertemplate\":\"genre=Action,Drama,Sci-Fi\\u003cbr\\u003ebudget=%{x}\\u003cbr\\u003ebox_office=%{y}\\u003cextra\\u003e\\u003c\\u002fextra\\u003e\",\"legendgroup\":\"Action,Drama,Sci-Fi\",\"marker\":{\"color\":\"rgb(239, 226, 156)\",\"symbol\":\"circle\"},\"mode\":\"markers\",\"name\":\"Action,Drama,Sci-Fi\",\"orientation\":\"v\",\"showlegend\":true,\"x\":[54.0,28.0,97.0],\"xaxis\":\"x\",\"y\":[134.686457,41.722424,619.17995],\"yaxis\":\"y\",\"type\":\"scatter\"},{\"hovertemplate\":\"genre=Action,Comedy,Crime\\u003cbr\\u003ebudget=%{x}\\u003cbr\\u003ebox_office=%{y}\\u003cextra\\u003e\\u003c\\u002fextra\\u003e\",\"legendgroup\":\"Action,Comedy,Crime\",\"marker\":{\"color\":\"rgb(195, 182, 59)\",\"symbol\":\"circle\"},\"mode\":\"markers\",\"name\":\"Action,Comedy,Crime\",\"orientation\":\"v\",\"showlegend\":true,\"x\":[0.9599999785423279],\"xaxis\":\"x\",\"y\":[3.753929],\"yaxis\":\"y\",\"type\":\"scatter\"},{\"hovertemplate\":\"genre=Drama,Mystery,Romance\\u003cbr\\u003ebudget=%{x}\\u003cbr\\u003ebox_office=%{y}\\u003cextra\\u003e\\u003c\\u002fextra\\u003e\",\"legendgroup\":\"Drama,Mystery,Romance\",\"marker\":{\"color\":\"rgb(115, 152, 5)\",\"symbol\":\"circle\"},\"mode\":\"markers\",\"name\":\"Drama,Mystery,Romance\",\"orientation\":\"v\",\"showlegend\":true,\"x\":[15.0],\"xaxis\":\"x\",\"y\":[74.036715],\"yaxis\":\"y\",\"type\":\"scatter\"},{\"hovertemplate\":\"genre=Action,Drama,Sport\\u003cbr\\u003ebudget=%{x}\\u003cbr\\u003ebox_office=%{y}\\u003cextra\\u003e\\u003c\\u002fextra\\u003e\",\"legendgroup\":\"Action,Drama,Sport\",\"marker\":{\"color\":\"rgb(34, 120, 36)\",\"symbol\":\"circle\"},\"mode\":\"markers\",\"name\":\"Action,Drama,Sport\",\"orientation\":\"v\",\"showlegend\":true,\"x\":[25.0],\"xaxis\":\"x\",\"y\":[23.308615],\"yaxis\":\"y\",\"type\":\"scatter\"},{\"hovertemplate\":\"genre=Animation,Comedy,Family\\u003cbr\\u003ebudget=%{x}\\u003cbr\\u003ebox_office=%{y}\\u003cextra\\u003e\\u003c\\u002fextra\\u003e\",\"legendgroup\":\"Animation,Comedy,Family\",\"marker\":{\"color\":\"rgb(18, 78, 43)\",\"symbol\":\"circle\"},\"mode\":\"markers\",\"name\":\"Animation,Comedy,Family\",\"orientation\":\"v\",\"showlegend\":true,\"x\":[15.0],\"xaxis\":\"x\",\"y\":[74.036715],\"yaxis\":\"y\",\"type\":\"scatter\"},{\"hovertemplate\":\"genre=Drama,Sport\\u003cbr\\u003ebudget=%{x}\\u003cbr\\u003ebox_office=%{y}\\u003cextra\\u003e\\u003c\\u002fextra\\u003e\",\"legendgroup\":\"Drama,Sport\",\"marker\":{\"color\":\"rgb(23, 35, 18)\",\"symbol\":\"circle\"},\"mode\":\"markers\",\"name\":\"Drama,Sport\",\"orientation\":\"v\",\"showlegend\":true,\"x\":[30.0,0.9599999785423279],\"xaxis\":\"x\",\"y\":[216.763646,117.250402],\"yaxis\":\"y\",\"type\":\"scatter\"},{\"hovertemplate\":\"genre=Drama,Family,Sport\\u003cbr\\u003ebudget=%{x}\\u003cbr\\u003ebox_office=%{y}\\u003cextra\\u003e\\u003c\\u002fextra\\u003e\",\"legendgroup\":\"Drama,Family,Sport\",\"marker\":{\"color\":\"rgb(16, 31, 63)\",\"symbol\":\"circle\"},\"mode\":\"markers\",\"name\":\"Drama,Family,Sport\",\"orientation\":\"v\",\"showlegend\":true,\"x\":[15.0],\"xaxis\":\"x\",\"y\":[74.036715],\"yaxis\":\"y\",\"type\":\"scatter\"},{\"hovertemplate\":\"genre=Adventure,Comedy,Drama\\u003cbr\\u003ebudget=%{x}\\u003cbr\\u003ebox_office=%{y}\\u003cextra\\u003e\\u003c\\u002fextra\\u003e\",\"legendgroup\":\"Adventure,Comedy,Drama\",\"marker\":{\"color\":\"rgb(38, 62, 144)\",\"symbol\":\"circle\"},\"mode\":\"markers\",\"name\":\"Adventure,Comedy,Drama\",\"orientation\":\"v\",\"showlegend\":true,\"x\":[0.9229999780654907],\"xaxis\":\"x\",\"y\":[0.029328],\"yaxis\":\"y\",\"type\":\"scatter\"},{\"hovertemplate\":\"genre=Adventure,Family,Fantasy\\u003cbr\\u003ebudget=%{x}\\u003cbr\\u003ebox_office=%{y}\\u003cextra\\u003e\\u003c\\u002fextra\\u003e\",\"legendgroup\":\"Adventure,Family,Fantasy\",\"marker\":{\"color\":\"rgb(30, 110, 161)\",\"symbol\":\"circle\"},\"mode\":\"markers\",\"name\":\"Adventure,Family,Fantasy\",\"orientation\":\"v\",\"showlegend\":true,\"x\":[125.0,2.7769999504089355],\"xaxis\":\"x\",\"y\":[1342.359942,25.637669],\"yaxis\":\"y\",\"type\":\"scatter\"},{\"hovertemplate\":\"genre=Adventure,Drama\\u003cbr\\u003ebudget=%{x}\\u003cbr\\u003ebox_office=%{y}\\u003cextra\\u003e\\u003c\\u002fextra\\u003e\",\"legendgroup\":\"Adventure,Drama\",\"marker\":{\"color\":\"rgb(60, 154, 171)\",\"symbol\":\"circle\"},\"mode\":\"markers\",\"name\":\"Adventure,Drama\",\"orientation\":\"v\",\"showlegend\":true,\"x\":[15.0,8.0],\"xaxis\":\"x\",\"y\":[74.43772,52.287414],\"yaxis\":\"y\",\"type\":\"scatter\"},{\"hovertemplate\":\"genre=Adventure,Comedy,Crime\\u003cbr\\u003ebudget=%{x}\\u003cbr\\u003ebox_office=%{y}\\u003cextra\\u003e\\u003c\\u002fextra\\u003e\",\"legendgroup\":\"Adventure,Comedy,Crime\",\"marker\":{\"color\":\"rgb(140, 193, 186)\",\"symbol\":\"circle\"},\"mode\":\"markers\",\"name\":\"Adventure,Comedy,Crime\",\"orientation\":\"v\",\"showlegend\":true,\"x\":[25.0],\"xaxis\":\"x\",\"y\":[173.082189],\"yaxis\":\"y\",\"type\":\"scatter\"},{\"hovertemplate\":\"genre=Action,Adventure,Comedy\\u003cbr\\u003ebudget=%{x}\\u003cbr\\u003ebox_office=%{y}\\u003cextra\\u003e\\u003c\\u002fextra\\u003e\",\"legendgroup\":\"Action,Adventure,Comedy\",\"marker\":{\"color\":\"rgb(217, 229, 218)\",\"symbol\":\"circle\"},\"mode\":\"markers\",\"name\":\"Action,Adventure,Comedy\",\"orientation\":\"v\",\"showlegend\":true,\"x\":[0.75],\"xaxis\":\"x\",\"y\":[74.036715],\"yaxis\":\"y\",\"type\":\"scatter\"},{\"hovertemplate\":\"genre=Film-Noir,Mystery,Thriller\\u003cbr\\u003ebudget=%{x}\\u003cbr\\u003ebox_office=%{y}\\u003cextra\\u003e\\u003c\\u002fextra\\u003e\",\"legendgroup\":\"Film-Noir,Mystery,Thriller\",\"marker\":{\"color\":\"rgb(239, 226, 156)\",\"symbol\":\"circle\"},\"mode\":\"markers\",\"name\":\"Film-Noir,Mystery,Thriller\",\"orientation\":\"v\",\"showlegend\":true,\"x\":[15.0],\"xaxis\":\"x\",\"y\":[1.226507],\"yaxis\":\"y\",\"type\":\"scatter\"},{\"hovertemplate\":\"genre=Adventure,Drama,Thriller\\u003cbr\\u003ebudget=%{x}\\u003cbr\\u003ebox_office=%{y}\\u003cextra\\u003e\\u003c\\u002fextra\\u003e\",\"legendgroup\":\"Adventure,Drama,Thriller\",\"marker\":{\"color\":\"rgb(195, 182, 59)\",\"symbol\":\"circle\"},\"mode\":\"markers\",\"name\":\"Adventure,Drama,Thriller\",\"orientation\":\"v\",\"showlegend\":true,\"x\":[15.0],\"xaxis\":\"x\",\"y\":[0.001098],\"yaxis\":\"y\",\"type\":\"scatter\"},{\"hovertemplate\":\"genre=Action,Comedy,Romance\\u003cbr\\u003ebudget=%{x}\\u003cbr\\u003ebox_office=%{y}\\u003cextra\\u003e\\u003c\\u002fextra\\u003e\",\"legendgroup\":\"Action,Comedy,Romance\",\"marker\":{\"color\":\"rgb(115, 152, 5)\",\"symbol\":\"circle\"},\"mode\":\"markers\",\"name\":\"Action,Comedy,Romance\",\"orientation\":\"v\",\"showlegend\":true,\"x\":[15.0],\"xaxis\":\"x\",\"y\":[74.036715],\"yaxis\":\"y\",\"type\":\"scatter\"},{\"hovertemplate\":\"genre=Comedy,Drama,Thriller\\u003cbr\\u003ebudget=%{x}\\u003cbr\\u003ebox_office=%{y}\\u003cextra\\u003e\\u003c\\u002fextra\\u003e\",\"legendgroup\":\"Comedy,Drama,Thriller\",\"marker\":{\"color\":\"rgb(34, 120, 36)\",\"symbol\":\"circle\"},\"mode\":\"markers\",\"name\":\"Comedy,Drama,Thriller\",\"orientation\":\"v\",\"showlegend\":true,\"x\":[15.0],\"xaxis\":\"x\",\"y\":[74.036715],\"yaxis\":\"y\",\"type\":\"scatter\"},{\"hovertemplate\":\"genre=Drama,Fantasy\\u003cbr\\u003ebudget=%{x}\\u003cbr\\u003ebox_office=%{y}\\u003cextra\\u003e\\u003c\\u002fextra\\u003e\",\"legendgroup\":\"Drama,Fantasy\",\"marker\":{\"color\":\"rgb(18, 78, 43)\",\"symbol\":\"circle\"},\"mode\":\"markers\",\"name\":\"Drama,Fantasy\",\"orientation\":\"v\",\"showlegend\":true,\"x\":[0.15000000596046448],\"xaxis\":\"x\",\"y\":[0.311212],\"yaxis\":\"y\",\"type\":\"scatter\"},{\"hovertemplate\":\"genre=Animation,Comedy,Drama\\u003cbr\\u003ebudget=%{x}\\u003cbr\\u003ebox_office=%{y}\\u003cextra\\u003e\\u003c\\u002fextra\\u003e\",\"legendgroup\":\"Animation,Comedy,Drama\",\"marker\":{\"color\":\"rgb(23, 35, 18)\",\"symbol\":\"circle\"},\"mode\":\"markers\",\"name\":\"Animation,Comedy,Drama\",\"orientation\":\"v\",\"showlegend\":true,\"x\":[8.239999771118164],\"xaxis\":\"x\",\"y\":[1.740429],\"yaxis\":\"y\",\"type\":\"scatter\"},{\"hovertemplate\":\"genre=Adventure,Thriller\\u003cbr\\u003ebudget=%{x}\\u003cbr\\u003ebox_office=%{y}\\u003cextra\\u003e\\u003c\\u002fextra\\u003e\",\"legendgroup\":\"Adventure,Thriller\",\"marker\":{\"color\":\"rgb(16, 31, 63)\",\"symbol\":\"circle\"},\"mode\":\"markers\",\"name\":\"Adventure,Thriller\",\"orientation\":\"v\",\"showlegend\":true,\"x\":[7.0],\"xaxis\":\"x\",\"y\":[476.512065],\"yaxis\":\"y\",\"type\":\"scatter\"},{\"hovertemplate\":\"genre=Comedy,Drama,Fantasy\\u003cbr\\u003ebudget=%{x}\\u003cbr\\u003ebox_office=%{y}\\u003cextra\\u003e\\u003c\\u002fextra\\u003e\",\"legendgroup\":\"Comedy,Drama,Fantasy\",\"marker\":{\"color\":\"rgb(38, 62, 144)\",\"symbol\":\"circle\"},\"mode\":\"markers\",\"name\":\"Comedy,Drama,Fantasy\",\"orientation\":\"v\",\"showlegend\":true,\"x\":[14.600000381469727],\"xaxis\":\"x\",\"y\":[71.108591],\"yaxis\":\"y\",\"type\":\"scatter\"},{\"hovertemplate\":\"genre=Horror\\u003cbr\\u003ebudget=%{x}\\u003cbr\\u003ebox_office=%{y}\\u003cextra\\u003e\\u003c\\u002fextra\\u003e\",\"legendgroup\":\"Horror\",\"marker\":{\"color\":\"rgb(30, 110, 161)\",\"symbol\":\"circle\"},\"mode\":\"markers\",\"name\":\"Horror\",\"orientation\":\"v\",\"showlegend\":true,\"x\":[11.0],\"xaxis\":\"x\",\"y\":[441.306145],\"yaxis\":\"y\",\"type\":\"scatter\"},{\"hovertemplate\":\"genre=Comedy,Romance,War\\u003cbr\\u003ebudget=%{x}\\u003cbr\\u003ebox_office=%{y}\\u003cextra\\u003e\\u003c\\u002fextra\\u003e\",\"legendgroup\":\"Comedy,Romance,War\",\"marker\":{\"color\":\"rgb(60, 154, 171)\",\"symbol\":\"circle\"},\"mode\":\"markers\",\"name\":\"Comedy,Romance,War\",\"orientation\":\"v\",\"showlegend\":true,\"x\":[15.0],\"xaxis\":\"x\",\"y\":[74.036715],\"yaxis\":\"y\",\"type\":\"scatter\"},{\"hovertemplate\":\"genre=Biography,Drama,Family\\u003cbr\\u003ebudget=%{x}\\u003cbr\\u003ebox_office=%{y}\\u003cextra\\u003e\\u003c\\u002fextra\\u003e\",\"legendgroup\":\"Biography,Drama,Family\",\"marker\":{\"color\":\"rgb(140, 193, 186)\",\"symbol\":\"circle\"},\"mode\":\"markers\",\"name\":\"Biography,Drama,Family\",\"orientation\":\"v\",\"showlegend\":true,\"x\":[15.0,8.199999809265137],\"xaxis\":\"x\",\"y\":[74.036715,159.428329],\"yaxis\":\"y\",\"type\":\"scatter\"},{\"hovertemplate\":\"genre=Drama,Film-Noir,Mystery\\u003cbr\\u003ebudget=%{x}\\u003cbr\\u003ebox_office=%{y}\\u003cextra\\u003e\\u003c\\u002fextra\\u003e\",\"legendgroup\":\"Drama,Film-Noir,Mystery\",\"marker\":{\"color\":\"rgb(217, 229, 218)\",\"symbol\":\"circle\"},\"mode\":\"markers\",\"name\":\"Drama,Film-Noir,Mystery\",\"orientation\":\"v\",\"showlegend\":true,\"x\":[1.2879999876022339],\"xaxis\":\"x\",\"y\":[0.072275],\"yaxis\":\"y\",\"type\":\"scatter\"},{\"hovertemplate\":\"genre=Drama,Romance,Thriller\\u003cbr\\u003ebudget=%{x}\\u003cbr\\u003ebox_office=%{y}\\u003cextra\\u003e\\u003c\\u002fextra\\u003e\",\"legendgroup\":\"Drama,Romance,Thriller\",\"marker\":{\"color\":\"rgb(239, 226, 156)\",\"symbol\":\"circle\"},\"mode\":\"markers\",\"name\":\"Drama,Romance,Thriller\",\"orientation\":\"v\",\"showlegend\":true,\"x\":[15.0],\"xaxis\":\"x\",\"y\":[74.036715],\"yaxis\":\"y\",\"type\":\"scatter\"},{\"hovertemplate\":\"genre=Comedy\\u003cbr\\u003ebudget=%{x}\\u003cbr\\u003ebox_office=%{y}\\u003cextra\\u003e\\u003c\\u002fextra\\u003e\",\"legendgroup\":\"Comedy\",\"marker\":{\"color\":\"rgb(195, 182, 59)\",\"symbol\":\"circle\"},\"mode\":\"markers\",\"name\":\"Comedy\",\"orientation\":\"v\",\"showlegend\":true,\"x\":[4.0],\"xaxis\":\"x\",\"y\":[20.745728],\"yaxis\":\"y\",\"type\":\"scatter\"}],                        {\"template\":{\"data\":{\"histogram2dcontour\":[{\"type\":\"histogram2dcontour\",\"colorbar\":{\"outlinewidth\":0,\"ticks\":\"\"},\"colorscale\":[[0.0,\"#0d0887\"],[0.1111111111111111,\"#46039f\"],[0.2222222222222222,\"#7201a8\"],[0.3333333333333333,\"#9c179e\"],[0.4444444444444444,\"#bd3786\"],[0.5555555555555556,\"#d8576b\"],[0.6666666666666666,\"#ed7953\"],[0.7777777777777778,\"#fb9f3a\"],[0.8888888888888888,\"#fdca26\"],[1.0,\"#f0f921\"]]}],\"choropleth\":[{\"type\":\"choropleth\",\"colorbar\":{\"outlinewidth\":0,\"ticks\":\"\"}}],\"histogram2d\":[{\"type\":\"histogram2d\",\"colorbar\":{\"outlinewidth\":0,\"ticks\":\"\"},\"colorscale\":[[0.0,\"#0d0887\"],[0.1111111111111111,\"#46039f\"],[0.2222222222222222,\"#7201a8\"],[0.3333333333333333,\"#9c179e\"],[0.4444444444444444,\"#bd3786\"],[0.5555555555555556,\"#d8576b\"],[0.6666666666666666,\"#ed7953\"],[0.7777777777777778,\"#fb9f3a\"],[0.8888888888888888,\"#fdca26\"],[1.0,\"#f0f921\"]]}],\"heatmap\":[{\"type\":\"heatmap\",\"colorbar\":{\"outlinewidth\":0,\"ticks\":\"\"},\"colorscale\":[[0.0,\"#0d0887\"],[0.1111111111111111,\"#46039f\"],[0.2222222222222222,\"#7201a8\"],[0.3333333333333333,\"#9c179e\"],[0.4444444444444444,\"#bd3786\"],[0.5555555555555556,\"#d8576b\"],[0.6666666666666666,\"#ed7953\"],[0.7777777777777778,\"#fb9f3a\"],[0.8888888888888888,\"#fdca26\"],[1.0,\"#f0f921\"]]}],\"heatmapgl\":[{\"type\":\"heatmapgl\",\"colorbar\":{\"outlinewidth\":0,\"ticks\":\"\"},\"colorscale\":[[0.0,\"#0d0887\"],[0.1111111111111111,\"#46039f\"],[0.2222222222222222,\"#7201a8\"],[0.3333333333333333,\"#9c179e\"],[0.4444444444444444,\"#bd3786\"],[0.5555555555555556,\"#d8576b\"],[0.6666666666666666,\"#ed7953\"],[0.7777777777777778,\"#fb9f3a\"],[0.8888888888888888,\"#fdca26\"],[1.0,\"#f0f921\"]]}],\"contourcarpet\":[{\"type\":\"contourcarpet\",\"colorbar\":{\"outlinewidth\":0,\"ticks\":\"\"}}],\"contour\":[{\"type\":\"contour\",\"colorbar\":{\"outlinewidth\":0,\"ticks\":\"\"},\"colorscale\":[[0.0,\"#0d0887\"],[0.1111111111111111,\"#46039f\"],[0.2222222222222222,\"#7201a8\"],[0.3333333333333333,\"#9c179e\"],[0.4444444444444444,\"#bd3786\"],[0.5555555555555556,\"#d8576b\"],[0.6666666666666666,\"#ed7953\"],[0.7777777777777778,\"#fb9f3a\"],[0.8888888888888888,\"#fdca26\"],[1.0,\"#f0f921\"]]}],\"surface\":[{\"type\":\"surface\",\"colorbar\":{\"outlinewidth\":0,\"ticks\":\"\"},\"colorscale\":[[0.0,\"#0d0887\"],[0.1111111111111111,\"#46039f\"],[0.2222222222222222,\"#7201a8\"],[0.3333333333333333,\"#9c179e\"],[0.4444444444444444,\"#bd3786\"],[0.5555555555555556,\"#d8576b\"],[0.6666666666666666,\"#ed7953\"],[0.7777777777777778,\"#fb9f3a\"],[0.8888888888888888,\"#fdca26\"],[1.0,\"#f0f921\"]]}],\"mesh3d\":[{\"type\":\"mesh3d\",\"colorbar\":{\"outlinewidth\":0,\"ticks\":\"\"}}],\"scatter\":[{\"fillpattern\":{\"fillmode\":\"overlay\",\"size\":10,\"solidity\":0.2},\"type\":\"scatter\"}],\"parcoords\":[{\"type\":\"parcoords\",\"line\":{\"colorbar\":{\"outlinewidth\":0,\"ticks\":\"\"}}}],\"scatterpolargl\":[{\"type\":\"scatterpolargl\",\"marker\":{\"colorbar\":{\"outlinewidth\":0,\"ticks\":\"\"}}}],\"bar\":[{\"error_x\":{\"color\":\"#2a3f5f\"},\"error_y\":{\"color\":\"#2a3f5f\"},\"marker\":{\"line\":{\"color\":\"#E5ECF6\",\"width\":0.5},\"pattern\":{\"fillmode\":\"overlay\",\"size\":10,\"solidity\":0.2}},\"type\":\"bar\"}],\"scattergeo\":[{\"type\":\"scattergeo\",\"marker\":{\"colorbar\":{\"outlinewidth\":0,\"ticks\":\"\"}}}],\"scatterpolar\":[{\"type\":\"scatterpolar\",\"marker\":{\"colorbar\":{\"outlinewidth\":0,\"ticks\":\"\"}}}],\"histogram\":[{\"marker\":{\"pattern\":{\"fillmode\":\"overlay\",\"size\":10,\"solidity\":0.2}},\"type\":\"histogram\"}],\"scattergl\":[{\"type\":\"scattergl\",\"marker\":{\"colorbar\":{\"outlinewidth\":0,\"ticks\":\"\"}}}],\"scatter3d\":[{\"type\":\"scatter3d\",\"line\":{\"colorbar\":{\"outlinewidth\":0,\"ticks\":\"\"}},\"marker\":{\"colorbar\":{\"outlinewidth\":0,\"ticks\":\"\"}}}],\"scattermapbox\":[{\"type\":\"scattermapbox\",\"marker\":{\"colorbar\":{\"outlinewidth\":0,\"ticks\":\"\"}}}],\"scatterternary\":[{\"type\":\"scatterternary\",\"marker\":{\"colorbar\":{\"outlinewidth\":0,\"ticks\":\"\"}}}],\"scattercarpet\":[{\"type\":\"scattercarpet\",\"marker\":{\"colorbar\":{\"outlinewidth\":0,\"ticks\":\"\"}}}],\"carpet\":[{\"aaxis\":{\"endlinecolor\":\"#2a3f5f\",\"gridcolor\":\"white\",\"linecolor\":\"white\",\"minorgridcolor\":\"white\",\"startlinecolor\":\"#2a3f5f\"},\"baxis\":{\"endlinecolor\":\"#2a3f5f\",\"gridcolor\":\"white\",\"linecolor\":\"white\",\"minorgridcolor\":\"white\",\"startlinecolor\":\"#2a3f5f\"},\"type\":\"carpet\"}],\"table\":[{\"cells\":{\"fill\":{\"color\":\"#EBF0F8\"},\"line\":{\"color\":\"white\"}},\"header\":{\"fill\":{\"color\":\"#C8D4E3\"},\"line\":{\"color\":\"white\"}},\"type\":\"table\"}],\"barpolar\":[{\"marker\":{\"line\":{\"color\":\"#E5ECF6\",\"width\":0.5},\"pattern\":{\"fillmode\":\"overlay\",\"size\":10,\"solidity\":0.2}},\"type\":\"barpolar\"}],\"pie\":[{\"automargin\":true,\"type\":\"pie\"}]},\"layout\":{\"autotypenumbers\":\"strict\",\"colorway\":[\"#636efa\",\"#EF553B\",\"#00cc96\",\"#ab63fa\",\"#FFA15A\",\"#19d3f3\",\"#FF6692\",\"#B6E880\",\"#FF97FF\",\"#FECB52\"],\"font\":{\"color\":\"#2a3f5f\"},\"hovermode\":\"closest\",\"hoverlabel\":{\"align\":\"left\"},\"paper_bgcolor\":\"white\",\"plot_bgcolor\":\"#E5ECF6\",\"polar\":{\"bgcolor\":\"#E5ECF6\",\"angularaxis\":{\"gridcolor\":\"white\",\"linecolor\":\"white\",\"ticks\":\"\"},\"radialaxis\":{\"gridcolor\":\"white\",\"linecolor\":\"white\",\"ticks\":\"\"}},\"ternary\":{\"bgcolor\":\"#E5ECF6\",\"aaxis\":{\"gridcolor\":\"white\",\"linecolor\":\"white\",\"ticks\":\"\"},\"baxis\":{\"gridcolor\":\"white\",\"linecolor\":\"white\",\"ticks\":\"\"},\"caxis\":{\"gridcolor\":\"white\",\"linecolor\":\"white\",\"ticks\":\"\"}},\"coloraxis\":{\"colorbar\":{\"outlinewidth\":0,\"ticks\":\"\"}},\"colorscale\":{\"sequential\":[[0.0,\"#0d0887\"],[0.1111111111111111,\"#46039f\"],[0.2222222222222222,\"#7201a8\"],[0.3333333333333333,\"#9c179e\"],[0.4444444444444444,\"#bd3786\"],[0.5555555555555556,\"#d8576b\"],[0.6666666666666666,\"#ed7953\"],[0.7777777777777778,\"#fb9f3a\"],[0.8888888888888888,\"#fdca26\"],[1.0,\"#f0f921\"]],\"sequentialminus\":[[0.0,\"#0d0887\"],[0.1111111111111111,\"#46039f\"],[0.2222222222222222,\"#7201a8\"],[0.3333333333333333,\"#9c179e\"],[0.4444444444444444,\"#bd3786\"],[0.5555555555555556,\"#d8576b\"],[0.6666666666666666,\"#ed7953\"],[0.7777777777777778,\"#fb9f3a\"],[0.8888888888888888,\"#fdca26\"],[1.0,\"#f0f921\"]],\"diverging\":[[0,\"#8e0152\"],[0.1,\"#c51b7d\"],[0.2,\"#de77ae\"],[0.3,\"#f1b6da\"],[0.4,\"#fde0ef\"],[0.5,\"#f7f7f7\"],[0.6,\"#e6f5d0\"],[0.7,\"#b8e186\"],[0.8,\"#7fbc41\"],[0.9,\"#4d9221\"],[1,\"#276419\"]]},\"xaxis\":{\"gridcolor\":\"white\",\"linecolor\":\"white\",\"ticks\":\"\",\"title\":{\"standoff\":15},\"zerolinecolor\":\"white\",\"automargin\":true,\"zerolinewidth\":2},\"yaxis\":{\"gridcolor\":\"white\",\"linecolor\":\"white\",\"ticks\":\"\",\"title\":{\"standoff\":15},\"zerolinecolor\":\"white\",\"automargin\":true,\"zerolinewidth\":2},\"scene\":{\"xaxis\":{\"backgroundcolor\":\"#E5ECF6\",\"gridcolor\":\"white\",\"linecolor\":\"white\",\"showbackground\":true,\"ticks\":\"\",\"zerolinecolor\":\"white\",\"gridwidth\":2},\"yaxis\":{\"backgroundcolor\":\"#E5ECF6\",\"gridcolor\":\"white\",\"linecolor\":\"white\",\"showbackground\":true,\"ticks\":\"\",\"zerolinecolor\":\"white\",\"gridwidth\":2},\"zaxis\":{\"backgroundcolor\":\"#E5ECF6\",\"gridcolor\":\"white\",\"linecolor\":\"white\",\"showbackground\":true,\"ticks\":\"\",\"zerolinecolor\":\"white\",\"gridwidth\":2}},\"shapedefaults\":{\"line\":{\"color\":\"#2a3f5f\"}},\"annotationdefaults\":{\"arrowcolor\":\"#2a3f5f\",\"arrowhead\":0,\"arrowwidth\":1},\"geo\":{\"bgcolor\":\"white\",\"landcolor\":\"#E5ECF6\",\"subunitcolor\":\"white\",\"showland\":true,\"showlakes\":true,\"lakecolor\":\"white\"},\"title\":{\"x\":0.05},\"mapbox\":{\"style\":\"light\"}}},\"xaxis\":{\"anchor\":\"y\",\"domain\":[0.0,1.0],\"title\":{\"text\":\"budget\"}},\"yaxis\":{\"anchor\":\"x\",\"domain\":[0.0,1.0],\"title\":{\"text\":\"box_office\"}},\"legend\":{\"title\":{\"text\":\"genre\"},\"tracegroupgap\":0},\"title\":{\"text\":\"Budget V\\u002fs Box Office\"}},                        {\"responsive\": true}                    ).then(function(){\n",
              "                            \n",
              "var gd = document.getElementById('43c609bf-7538-43e3-a28c-314c96d5039c');\n",
              "var x = new MutationObserver(function (mutations, observer) {{\n",
              "        var display = window.getComputedStyle(gd).display;\n",
              "        if (!display || display === 'none') {{\n",
              "            console.log([gd, 'removed!']);\n",
              "            Plotly.purge(gd);\n",
              "            observer.disconnect();\n",
              "        }}\n",
              "}});\n",
              "\n",
              "// Listen for the removal of the full notebook cells\n",
              "var notebookContainer = gd.closest('#notebook-container');\n",
              "if (notebookContainer) {{\n",
              "    x.observe(notebookContainer, {childList: true});\n",
              "}}\n",
              "\n",
              "// Listen for the clearing of the current output cell\n",
              "var outputEl = gd.closest('.output');\n",
              "if (outputEl) {{\n",
              "    x.observe(outputEl, {childList: true});\n",
              "}}\n",
              "\n",
              "                        })                };                            </script>        </div>\n",
              "</body>\n",
              "</html>"
            ]
          },
          "metadata": {}
        }
      ]
    },
    {
      "cell_type": "markdown",
      "source": [
        "**Observation** - Higher-budget movies tend to earn more at the box office."
      ],
      "metadata": {
        "id": "ln20IJa9x8ta"
      }
    },
    {
      "cell_type": "code",
      "source": [
        "# Heatmap showing Correlation\n",
        "\n",
        "correlation_matrix = top_250_movies[['rating', 'budget', 'box_office']].corr()\n",
        "\n",
        "fig = px.imshow(correlation_matrix, text_auto=True, aspect=\"auto\", color_continuous_scale = 'YlGnBu', width=800, height=640)\n",
        "fig.update_xaxes(side=\"top\")\n",
        "\n",
        "fig.show()"
      ],
      "metadata": {
        "colab": {
          "base_uri": "https://localhost:8080/",
          "height": 657
        },
        "id": "Lwykk_moyUy2",
        "outputId": "3b3b8472-f089-4922-ae4e-f94baf953a20"
      },
      "execution_count": 186,
      "outputs": [
        {
          "output_type": "display_data",
          "data": {
            "text/html": [
              "<html>\n",
              "<head><meta charset=\"utf-8\" /></head>\n",
              "<body>\n",
              "    <div>            <script src=\"https://cdnjs.cloudflare.com/ajax/libs/mathjax/2.7.5/MathJax.js?config=TeX-AMS-MML_SVG\"></script><script type=\"text/javascript\">if (window.MathJax && window.MathJax.Hub && window.MathJax.Hub.Config) {window.MathJax.Hub.Config({SVG: {font: \"STIX-Web\"}});}</script>                <script type=\"text/javascript\">window.PlotlyConfig = {MathJaxConfig: 'local'};</script>\n",
              "        <script charset=\"utf-8\" src=\"https://cdn.plot.ly/plotly-2.24.1.min.js\"></script>                <div id=\"cc334571-5fe5-4d47-aeb2-0431e269736f\" class=\"plotly-graph-div\" style=\"height:640px; width:800px;\"></div>            <script type=\"text/javascript\">                                    window.PLOTLYENV=window.PLOTLYENV || {};                                    if (document.getElementById(\"cc334571-5fe5-4d47-aeb2-0431e269736f\")) {                    Plotly.newPlot(                        \"cc334571-5fe5-4d47-aeb2-0431e269736f\",                        [{\"coloraxis\":\"coloraxis\",\"name\":\"0\",\"texttemplate\":\"%{z}\",\"x\":[\"rating\",\"budget\",\"box_office\"],\"y\":[\"rating\",\"budget\",\"box_office\"],\"z\":[[1.0,0.06660649217430062,0.17268871506225045],[0.06660649217430062,1.0,0.2632057083980755],[0.17268871506225045,0.2632057083980755,1.0]],\"type\":\"heatmap\",\"xaxis\":\"x\",\"yaxis\":\"y\",\"hovertemplate\":\"x: %{x}\\u003cbr\\u003ey: %{y}\\u003cbr\\u003ecolor: %{z}\\u003cextra\\u003e\\u003c\\u002fextra\\u003e\"}],                        {\"template\":{\"data\":{\"histogram2dcontour\":[{\"type\":\"histogram2dcontour\",\"colorbar\":{\"outlinewidth\":0,\"ticks\":\"\"},\"colorscale\":[[0.0,\"#0d0887\"],[0.1111111111111111,\"#46039f\"],[0.2222222222222222,\"#7201a8\"],[0.3333333333333333,\"#9c179e\"],[0.4444444444444444,\"#bd3786\"],[0.5555555555555556,\"#d8576b\"],[0.6666666666666666,\"#ed7953\"],[0.7777777777777778,\"#fb9f3a\"],[0.8888888888888888,\"#fdca26\"],[1.0,\"#f0f921\"]]}],\"choropleth\":[{\"type\":\"choropleth\",\"colorbar\":{\"outlinewidth\":0,\"ticks\":\"\"}}],\"histogram2d\":[{\"type\":\"histogram2d\",\"colorbar\":{\"outlinewidth\":0,\"ticks\":\"\"},\"colorscale\":[[0.0,\"#0d0887\"],[0.1111111111111111,\"#46039f\"],[0.2222222222222222,\"#7201a8\"],[0.3333333333333333,\"#9c179e\"],[0.4444444444444444,\"#bd3786\"],[0.5555555555555556,\"#d8576b\"],[0.6666666666666666,\"#ed7953\"],[0.7777777777777778,\"#fb9f3a\"],[0.8888888888888888,\"#fdca26\"],[1.0,\"#f0f921\"]]}],\"heatmap\":[{\"type\":\"heatmap\",\"colorbar\":{\"outlinewidth\":0,\"ticks\":\"\"},\"colorscale\":[[0.0,\"#0d0887\"],[0.1111111111111111,\"#46039f\"],[0.2222222222222222,\"#7201a8\"],[0.3333333333333333,\"#9c179e\"],[0.4444444444444444,\"#bd3786\"],[0.5555555555555556,\"#d8576b\"],[0.6666666666666666,\"#ed7953\"],[0.7777777777777778,\"#fb9f3a\"],[0.8888888888888888,\"#fdca26\"],[1.0,\"#f0f921\"]]}],\"heatmapgl\":[{\"type\":\"heatmapgl\",\"colorbar\":{\"outlinewidth\":0,\"ticks\":\"\"},\"colorscale\":[[0.0,\"#0d0887\"],[0.1111111111111111,\"#46039f\"],[0.2222222222222222,\"#7201a8\"],[0.3333333333333333,\"#9c179e\"],[0.4444444444444444,\"#bd3786\"],[0.5555555555555556,\"#d8576b\"],[0.6666666666666666,\"#ed7953\"],[0.7777777777777778,\"#fb9f3a\"],[0.8888888888888888,\"#fdca26\"],[1.0,\"#f0f921\"]]}],\"contourcarpet\":[{\"type\":\"contourcarpet\",\"colorbar\":{\"outlinewidth\":0,\"ticks\":\"\"}}],\"contour\":[{\"type\":\"contour\",\"colorbar\":{\"outlinewidth\":0,\"ticks\":\"\"},\"colorscale\":[[0.0,\"#0d0887\"],[0.1111111111111111,\"#46039f\"],[0.2222222222222222,\"#7201a8\"],[0.3333333333333333,\"#9c179e\"],[0.4444444444444444,\"#bd3786\"],[0.5555555555555556,\"#d8576b\"],[0.6666666666666666,\"#ed7953\"],[0.7777777777777778,\"#fb9f3a\"],[0.8888888888888888,\"#fdca26\"],[1.0,\"#f0f921\"]]}],\"surface\":[{\"type\":\"surface\",\"colorbar\":{\"outlinewidth\":0,\"ticks\":\"\"},\"colorscale\":[[0.0,\"#0d0887\"],[0.1111111111111111,\"#46039f\"],[0.2222222222222222,\"#7201a8\"],[0.3333333333333333,\"#9c179e\"],[0.4444444444444444,\"#bd3786\"],[0.5555555555555556,\"#d8576b\"],[0.6666666666666666,\"#ed7953\"],[0.7777777777777778,\"#fb9f3a\"],[0.8888888888888888,\"#fdca26\"],[1.0,\"#f0f921\"]]}],\"mesh3d\":[{\"type\":\"mesh3d\",\"colorbar\":{\"outlinewidth\":0,\"ticks\":\"\"}}],\"scatter\":[{\"fillpattern\":{\"fillmode\":\"overlay\",\"size\":10,\"solidity\":0.2},\"type\":\"scatter\"}],\"parcoords\":[{\"type\":\"parcoords\",\"line\":{\"colorbar\":{\"outlinewidth\":0,\"ticks\":\"\"}}}],\"scatterpolargl\":[{\"type\":\"scatterpolargl\",\"marker\":{\"colorbar\":{\"outlinewidth\":0,\"ticks\":\"\"}}}],\"bar\":[{\"error_x\":{\"color\":\"#2a3f5f\"},\"error_y\":{\"color\":\"#2a3f5f\"},\"marker\":{\"line\":{\"color\":\"#E5ECF6\",\"width\":0.5},\"pattern\":{\"fillmode\":\"overlay\",\"size\":10,\"solidity\":0.2}},\"type\":\"bar\"}],\"scattergeo\":[{\"type\":\"scattergeo\",\"marker\":{\"colorbar\":{\"outlinewidth\":0,\"ticks\":\"\"}}}],\"scatterpolar\":[{\"type\":\"scatterpolar\",\"marker\":{\"colorbar\":{\"outlinewidth\":0,\"ticks\":\"\"}}}],\"histogram\":[{\"marker\":{\"pattern\":{\"fillmode\":\"overlay\",\"size\":10,\"solidity\":0.2}},\"type\":\"histogram\"}],\"scattergl\":[{\"type\":\"scattergl\",\"marker\":{\"colorbar\":{\"outlinewidth\":0,\"ticks\":\"\"}}}],\"scatter3d\":[{\"type\":\"scatter3d\",\"line\":{\"colorbar\":{\"outlinewidth\":0,\"ticks\":\"\"}},\"marker\":{\"colorbar\":{\"outlinewidth\":0,\"ticks\":\"\"}}}],\"scattermapbox\":[{\"type\":\"scattermapbox\",\"marker\":{\"colorbar\":{\"outlinewidth\":0,\"ticks\":\"\"}}}],\"scatterternary\":[{\"type\":\"scatterternary\",\"marker\":{\"colorbar\":{\"outlinewidth\":0,\"ticks\":\"\"}}}],\"scattercarpet\":[{\"type\":\"scattercarpet\",\"marker\":{\"colorbar\":{\"outlinewidth\":0,\"ticks\":\"\"}}}],\"carpet\":[{\"aaxis\":{\"endlinecolor\":\"#2a3f5f\",\"gridcolor\":\"white\",\"linecolor\":\"white\",\"minorgridcolor\":\"white\",\"startlinecolor\":\"#2a3f5f\"},\"baxis\":{\"endlinecolor\":\"#2a3f5f\",\"gridcolor\":\"white\",\"linecolor\":\"white\",\"minorgridcolor\":\"white\",\"startlinecolor\":\"#2a3f5f\"},\"type\":\"carpet\"}],\"table\":[{\"cells\":{\"fill\":{\"color\":\"#EBF0F8\"},\"line\":{\"color\":\"white\"}},\"header\":{\"fill\":{\"color\":\"#C8D4E3\"},\"line\":{\"color\":\"white\"}},\"type\":\"table\"}],\"barpolar\":[{\"marker\":{\"line\":{\"color\":\"#E5ECF6\",\"width\":0.5},\"pattern\":{\"fillmode\":\"overlay\",\"size\":10,\"solidity\":0.2}},\"type\":\"barpolar\"}],\"pie\":[{\"automargin\":true,\"type\":\"pie\"}]},\"layout\":{\"autotypenumbers\":\"strict\",\"colorway\":[\"#636efa\",\"#EF553B\",\"#00cc96\",\"#ab63fa\",\"#FFA15A\",\"#19d3f3\",\"#FF6692\",\"#B6E880\",\"#FF97FF\",\"#FECB52\"],\"font\":{\"color\":\"#2a3f5f\"},\"hovermode\":\"closest\",\"hoverlabel\":{\"align\":\"left\"},\"paper_bgcolor\":\"white\",\"plot_bgcolor\":\"#E5ECF6\",\"polar\":{\"bgcolor\":\"#E5ECF6\",\"angularaxis\":{\"gridcolor\":\"white\",\"linecolor\":\"white\",\"ticks\":\"\"},\"radialaxis\":{\"gridcolor\":\"white\",\"linecolor\":\"white\",\"ticks\":\"\"}},\"ternary\":{\"bgcolor\":\"#E5ECF6\",\"aaxis\":{\"gridcolor\":\"white\",\"linecolor\":\"white\",\"ticks\":\"\"},\"baxis\":{\"gridcolor\":\"white\",\"linecolor\":\"white\",\"ticks\":\"\"},\"caxis\":{\"gridcolor\":\"white\",\"linecolor\":\"white\",\"ticks\":\"\"}},\"coloraxis\":{\"colorbar\":{\"outlinewidth\":0,\"ticks\":\"\"}},\"colorscale\":{\"sequential\":[[0.0,\"#0d0887\"],[0.1111111111111111,\"#46039f\"],[0.2222222222222222,\"#7201a8\"],[0.3333333333333333,\"#9c179e\"],[0.4444444444444444,\"#bd3786\"],[0.5555555555555556,\"#d8576b\"],[0.6666666666666666,\"#ed7953\"],[0.7777777777777778,\"#fb9f3a\"],[0.8888888888888888,\"#fdca26\"],[1.0,\"#f0f921\"]],\"sequentialminus\":[[0.0,\"#0d0887\"],[0.1111111111111111,\"#46039f\"],[0.2222222222222222,\"#7201a8\"],[0.3333333333333333,\"#9c179e\"],[0.4444444444444444,\"#bd3786\"],[0.5555555555555556,\"#d8576b\"],[0.6666666666666666,\"#ed7953\"],[0.7777777777777778,\"#fb9f3a\"],[0.8888888888888888,\"#fdca26\"],[1.0,\"#f0f921\"]],\"diverging\":[[0,\"#8e0152\"],[0.1,\"#c51b7d\"],[0.2,\"#de77ae\"],[0.3,\"#f1b6da\"],[0.4,\"#fde0ef\"],[0.5,\"#f7f7f7\"],[0.6,\"#e6f5d0\"],[0.7,\"#b8e186\"],[0.8,\"#7fbc41\"],[0.9,\"#4d9221\"],[1,\"#276419\"]]},\"xaxis\":{\"gridcolor\":\"white\",\"linecolor\":\"white\",\"ticks\":\"\",\"title\":{\"standoff\":15},\"zerolinecolor\":\"white\",\"automargin\":true,\"zerolinewidth\":2},\"yaxis\":{\"gridcolor\":\"white\",\"linecolor\":\"white\",\"ticks\":\"\",\"title\":{\"standoff\":15},\"zerolinecolor\":\"white\",\"automargin\":true,\"zerolinewidth\":2},\"scene\":{\"xaxis\":{\"backgroundcolor\":\"#E5ECF6\",\"gridcolor\":\"white\",\"linecolor\":\"white\",\"showbackground\":true,\"ticks\":\"\",\"zerolinecolor\":\"white\",\"gridwidth\":2},\"yaxis\":{\"backgroundcolor\":\"#E5ECF6\",\"gridcolor\":\"white\",\"linecolor\":\"white\",\"showbackground\":true,\"ticks\":\"\",\"zerolinecolor\":\"white\",\"gridwidth\":2},\"zaxis\":{\"backgroundcolor\":\"#E5ECF6\",\"gridcolor\":\"white\",\"linecolor\":\"white\",\"showbackground\":true,\"ticks\":\"\",\"zerolinecolor\":\"white\",\"gridwidth\":2}},\"shapedefaults\":{\"line\":{\"color\":\"#2a3f5f\"}},\"annotationdefaults\":{\"arrowcolor\":\"#2a3f5f\",\"arrowhead\":0,\"arrowwidth\":1},\"geo\":{\"bgcolor\":\"white\",\"landcolor\":\"#E5ECF6\",\"subunitcolor\":\"white\",\"showland\":true,\"showlakes\":true,\"lakecolor\":\"white\"},\"title\":{\"x\":0.05},\"mapbox\":{\"style\":\"light\"}}},\"xaxis\":{\"anchor\":\"y\",\"domain\":[0.0,1.0],\"side\":\"top\"},\"yaxis\":{\"anchor\":\"x\",\"domain\":[0.0,1.0],\"autorange\":\"reversed\"},\"coloraxis\":{\"colorscale\":[[0.0,\"rgb(255,255,217)\"],[0.125,\"rgb(237,248,177)\"],[0.25,\"rgb(199,233,180)\"],[0.375,\"rgb(127,205,187)\"],[0.5,\"rgb(65,182,196)\"],[0.625,\"rgb(29,145,192)\"],[0.75,\"rgb(34,94,168)\"],[0.875,\"rgb(37,52,148)\"],[1.0,\"rgb(8,29,88)\"]]},\"margin\":{\"t\":60},\"height\":640,\"width\":800},                        {\"responsive\": true}                    ).then(function(){\n",
              "                            \n",
              "var gd = document.getElementById('cc334571-5fe5-4d47-aeb2-0431e269736f');\n",
              "var x = new MutationObserver(function (mutations, observer) {{\n",
              "        var display = window.getComputedStyle(gd).display;\n",
              "        if (!display || display === 'none') {{\n",
              "            console.log([gd, 'removed!']);\n",
              "            Plotly.purge(gd);\n",
              "            observer.disconnect();\n",
              "        }}\n",
              "}});\n",
              "\n",
              "// Listen for the removal of the full notebook cells\n",
              "var notebookContainer = gd.closest('#notebook-container');\n",
              "if (notebookContainer) {{\n",
              "    x.observe(notebookContainer, {childList: true});\n",
              "}}\n",
              "\n",
              "// Listen for the clearing of the current output cell\n",
              "var outputEl = gd.closest('.output');\n",
              "if (outputEl) {{\n",
              "    x.observe(outputEl, {childList: true});\n",
              "}}\n",
              "\n",
              "                        })                };                            </script>        </div>\n",
              "</body>\n",
              "</html>"
            ]
          },
          "metadata": {}
        }
      ]
    },
    {
      "cell_type": "markdown",
      "source": [
        "**Observation** - Rating, Budget and Box office collection are all weakly correlated with each other"
      ],
      "metadata": {
        "id": "FDXRQpfh1X9d"
      }
    },
    {
      "cell_type": "markdown",
      "source": [
        "**Create a small quiz program where the user can enter the movie title, and get 2-3 questions about the movie as a quiz**"
      ],
      "metadata": {
        "id": "cWzuNnyR1xlv"
      }
    },
    {
      "cell_type": "code",
      "source": [
        "# To check if all the movie name sare unique\n",
        "\n",
        "any(top_250_movies['name'].value_counts() > 1)"
      ],
      "metadata": {
        "colab": {
          "base_uri": "https://localhost:8080/"
        },
        "id": "mU_ZxpVx5pau",
        "outputId": "2e2b9111-f264-4760-e5d3-33a2e8f09a68"
      },
      "execution_count": 194,
      "outputs": [
        {
          "output_type": "execute_result",
          "data": {
            "text/plain": [
              "False"
            ]
          },
          "metadata": {},
          "execution_count": 194
        }
      ]
    },
    {
      "cell_type": "markdown",
      "source": [
        "**Observation** - There is no repetition in any movie names....therefore, movie name can be a key identifier like a primary key."
      ],
      "metadata": {
        "id": "o3LpB5tB5xv3"
      }
    },
    {
      "cell_type": "code",
      "source": [
        "def find_movie_index(movie_name):\n",
        "  return top_250_movies[top_250_movies['name'].str.contains(movie_name) == True].index\n",
        "\n",
        "def find_release_yr(movie_name):\n",
        "  movie_idx = find_movie_index(movie_name)\n",
        "  #return str(int(top_250_movies.loc[movie_idx, 'year']))\n",
        "  return str((list(top_250_movies.loc[movie_idx, 'year'])[0]))\n",
        "\n",
        "def find_director(movie_name):\n",
        "  movie_idx = find_movie_index(movie_name)\n",
        "  return list(top_250_movies.loc[i, 'directors'])[0]\n",
        "\n",
        "def find_actors(movie_name):\n",
        "  movie_idx = find_movie_index(movie_name)\n",
        "  return set(map(str.lower, list(top_250_movies.loc[i, 'casts'])[0].split(',')))\n",
        "\n",
        "def find_certificate(movie_name):\n",
        "  movie_idx = find_movie_index(movie_name)\n",
        "  return list(top_250_movies.loc[i, 'certificate'])[0]\n",
        "\n",
        "\n",
        "#question_bank = {0: ['In which year was the movie released?', find_release_yr],\n",
        "question_bank = {1: ['Who directed this movie?', find_director],\n",
        "                 2: ['Which actor played a role in this movie', find_actors],\n",
        "                 3: ['What id the certification of the movie', find_certificate]}\n",
        "\n",
        "\n",
        "def ask_question(movie_name):\n",
        "  question_ids = np.random.choice(range(1, 4), 2, replace=False)\n",
        "  for q_no in question_ids:\n",
        "    print(question_bank[q_no][0])\n",
        "    answer = question_bank[q_no][1]('movie')\n",
        "    user_answer = input().rstrip()\n",
        "\n",
        "    if q_no == 2:\n",
        "      if user_answer.lower() in answer:\n",
        "        print('Correct answer!')\n",
        "      else:\n",
        "        print('Wrong answer!')\n",
        "    else:\n",
        "      if user_answer.lower() == answer.lower():\n",
        "        print('Correct answer!')\n",
        "      else:\n",
        "        print('Wrong answer!')\n",
        "\n",
        "\n",
        "def main():\n",
        "  print('Movie Quiz Time!!')\n",
        "  while True:\n",
        "    print('Enter the name of the movie:')\n",
        "    movie_name = input().rstrip()\n",
        "    if movie_name.lower() == \"exit\":\n",
        "        print(\"Bye!\")\n",
        "        break\n",
        "    else:\n",
        "      ask_question(movie_name)\n",
        "\n",
        "if __name__ == \"__main__\":\n",
        "  main()"
      ],
      "metadata": {
        "colab": {
          "base_uri": "https://localhost:8080/"
        },
        "id": "kZd41hpE1R8b",
        "outputId": "79f18e0e-637f-4668-e6f5-e4c7fd3b7686"
      },
      "execution_count": 249,
      "outputs": [
        {
          "output_type": "stream",
          "name": "stdout",
          "text": [
            "Movie Quiz Time!!\n",
            "Enter the name of the movie:\n",
            "The Shawshank Redemption\n",
            "What id the certification of the movie\n",
            "R\n",
            "Correct answer!\n",
            "Who directed this movie?\n",
            "Frank darabont\n",
            "Correct answer!\n",
            "Enter the name of the movie:\n",
            "The Lord of the Rings: The Fellowship of the Ring\n",
            "Which actor played a role in this movie\n",
            "Elijah Wood\n",
            "Wrong answer!\n",
            "Who directed this movie?\n",
            "Peter Jackson\n",
            "Wrong answer!\n",
            "Enter the name of the movie:\n",
            "exit\n",
            "Bye!\n"
          ]
        }
      ]
    },
    {
      "cell_type": "code",
      "source": [
        "def fn(name):\n",
        "  print('name = ', name)\n",
        "\n",
        "question_bank = {0: ['In which year was the movie released?', fn]}\n",
        "question_bank[0][1]('movie')"
      ],
      "metadata": {
        "colab": {
          "base_uri": "https://localhost:8080/"
        },
        "id": "F3jPwn-5z5sg",
        "outputId": "6e4da8e0-5695-4bd5-8f59-7a043e7ec995"
      },
      "execution_count": 188,
      "outputs": [
        {
          "output_type": "stream",
          "name": "stdout",
          "text": [
            "name =  movie\n"
          ]
        }
      ]
    },
    {
      "cell_type": "code",
      "source": [
        "i = top_250_movies[top_250_movies['name'].str.contains('The Shawshank Redemption') == True].index\n",
        "i"
      ],
      "metadata": {
        "colab": {
          "base_uri": "https://localhost:8080/"
        },
        "id": "tfIMygsE4FAd",
        "outputId": "baef46ab-f0f0-4bcc-8c4a-761b33534418"
      },
      "execution_count": 232,
      "outputs": [
        {
          "output_type": "execute_result",
          "data": {
            "text/plain": [
              "Int64Index([0], dtype='int64')"
            ]
          },
          "metadata": {},
          "execution_count": 232
        }
      ]
    },
    {
      "cell_type": "code",
      "source": [
        "int(top_250_movies.loc[i, 'year'])"
      ],
      "metadata": {
        "colab": {
          "base_uri": "https://localhost:8080/"
        },
        "id": "icFH5IeU5MWC",
        "outputId": "17a7c6c2-75de-47e2-b07f-774a7e03f28d"
      },
      "execution_count": 233,
      "outputs": [
        {
          "output_type": "execute_result",
          "data": {
            "text/plain": [
              "1994"
            ]
          },
          "metadata": {},
          "execution_count": 233
        }
      ]
    },
    {
      "cell_type": "code",
      "source": [
        "type(list(top_250_movies.loc[i, 'year'])[0])"
      ],
      "metadata": {
        "colab": {
          "base_uri": "https://localhost:8080/"
        },
        "id": "LgCcPh2OBfmh",
        "outputId": "0ad6d02d-389a-4c57-8492-82df3b8bf514"
      },
      "execution_count": 238,
      "outputs": [
        {
          "output_type": "execute_result",
          "data": {
            "text/plain": [
              "int"
            ]
          },
          "metadata": {},
          "execution_count": 238
        }
      ]
    },
    {
      "cell_type": "code",
      "source": [
        "list(top_250_movies.loc[i, 'directors'])[0]"
      ],
      "metadata": {
        "colab": {
          "base_uri": "https://localhost:8080/",
          "height": 35
        },
        "id": "_z16eomm5hd5",
        "outputId": "c429a9bd-7c46-4804-fc36-af21070a7bd0"
      },
      "execution_count": 210,
      "outputs": [
        {
          "output_type": "execute_result",
          "data": {
            "text/plain": [
              "'Frank Darabont'"
            ],
            "application/vnd.google.colaboratory.intrinsic+json": {
              "type": "string"
            }
          },
          "metadata": {},
          "execution_count": 210
        }
      ]
    },
    {
      "cell_type": "code",
      "source": [
        "set(map(str.lower, list(top_250_movies.loc[i, 'casts'])[0].split(',')))"
      ],
      "metadata": {
        "colab": {
          "base_uri": "https://localhost:8080/"
        },
        "id": "yYRscNUy7dII",
        "outputId": "d04870aa-e215-4796-b210-bc8e3248da4d"
      },
      "execution_count": 226,
      "outputs": [
        {
          "output_type": "execute_result",
          "data": {
            "text/plain": [
              "{'bob gunton',\n",
              " 'brian libby',\n",
              " 'clancy brown',\n",
              " 'david proval',\n",
              " 'gil bellows',\n",
              " 'james whitmore',\n",
              " 'jeffrey demunn',\n",
              " 'joseph ragno',\n",
              " 'jude ciccolella',\n",
              " 'larry brandenburg',\n",
              " 'mark rolston',\n",
              " 'morgan freeman',\n",
              " 'neil giuntoli',\n",
              " 'paul mccrane',\n",
              " 'renee blaine',\n",
              " 'scott mann',\n",
              " 'tim robbins',\n",
              " 'william sadler'}"
            ]
          },
          "metadata": {},
          "execution_count": 226
        }
      ]
    },
    {
      "cell_type": "code",
      "source": [
        "q = np.random.choice(4, 2, replace=False)\n",
        "q\n",
        "for q_no in q:\n",
        "  print(q_no)"
      ],
      "metadata": {
        "colab": {
          "base_uri": "https://localhost:8080/"
        },
        "id": "aBcT1pje8V0x",
        "outputId": "822baaa6-3d22-49dd-c4d7-8bf488641d31"
      },
      "execution_count": 243,
      "outputs": [
        {
          "output_type": "stream",
          "name": "stdout",
          "text": [
            "1\n",
            "3\n"
          ]
        }
      ]
    },
    {
      "cell_type": "code",
      "source": [
        "'1994'.lower()"
      ],
      "metadata": {
        "colab": {
          "base_uri": "https://localhost:8080/",
          "height": 35
        },
        "id": "gtGidMBJ9n2u",
        "outputId": "3c2c02df-f1c1-4d6b-a4dc-4d6b19e5eb48"
      },
      "execution_count": 227,
      "outputs": [
        {
          "output_type": "execute_result",
          "data": {
            "text/plain": [
              "'1994'"
            ],
            "application/vnd.google.colaboratory.intrinsic+json": {
              "type": "string"
            }
          },
          "metadata": {},
          "execution_count": 227
        }
      ]
    },
    {
      "cell_type": "code",
      "source": [],
      "metadata": {
        "id": "e95MJcMZDFuo"
      },
      "execution_count": null,
      "outputs": []
    }
  ]
}